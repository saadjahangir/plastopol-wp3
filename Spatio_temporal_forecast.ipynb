{
  "nbformat": 4,
  "nbformat_minor": 0,
  "metadata": {
    "colab": {
      "name": "Spatio_temporal_forecast.ipynb",
      "provenance": [],
      "collapsed_sections": []
    },
    "kernelspec": {
      "name": "python3",
      "display_name": "Python 3"
    },
    "language_info": {
      "name": "python"
    }
  },
  "cells": [
    {
      "cell_type": "code",
      "execution_count": null,
      "metadata": {
        "colab": {
          "base_uri": "https://localhost:8080/"
        },
        "id": "HXVRUr-5U016",
        "outputId": "005dadb0-ca3a-43ed-e9f3-17b0f1fe2919"
      },
      "outputs": [
        {
          "output_type": "stream",
          "name": "stdout",
          "text": [
            "Mounted at /content/drive\n"
          ]
        }
      ],
      "source": [
        "from google.colab import drive\n",
        "drive.mount('/content/drive')"
      ]
    },
    {
      "cell_type": "code",
      "source": [
        "!pip install geopandas"
      ],
      "metadata": {
        "colab": {
          "base_uri": "https://localhost:8080/"
        },
        "id": "5sAFmpi3Vc2p",
        "outputId": "47bed548-e1ba-4017-8769-3369c831c0f0"
      },
      "execution_count": null,
      "outputs": [
        {
          "output_type": "stream",
          "name": "stdout",
          "text": [
            "Collecting geopandas\n",
            "  Downloading geopandas-0.10.2-py2.py3-none-any.whl (1.0 MB)\n",
            "\u001b[K     |████████████████████████████████| 1.0 MB 5.7 MB/s \n",
            "\u001b[?25hCollecting pyproj>=2.2.0\n",
            "  Downloading pyproj-3.2.1-cp37-cp37m-manylinux2010_x86_64.whl (6.3 MB)\n",
            "\u001b[K     |████████████████████████████████| 6.3 MB 35.2 MB/s \n",
            "\u001b[?25hRequirement already satisfied: shapely>=1.6 in /usr/local/lib/python3.7/dist-packages (from geopandas) (1.8.1.post1)\n",
            "Collecting fiona>=1.8\n",
            "  Downloading Fiona-1.8.21-cp37-cp37m-manylinux2014_x86_64.whl (16.7 MB)\n",
            "\u001b[K     |████████████████████████████████| 16.7 MB 53.4 MB/s \n",
            "\u001b[?25hRequirement already satisfied: pandas>=0.25.0 in /usr/local/lib/python3.7/dist-packages (from geopandas) (1.3.5)\n",
            "Collecting cligj>=0.5\n",
            "  Downloading cligj-0.7.2-py3-none-any.whl (7.1 kB)\n",
            "Requirement already satisfied: certifi in /usr/local/lib/python3.7/dist-packages (from fiona>=1.8->geopandas) (2021.10.8)\n",
            "Requirement already satisfied: attrs>=17 in /usr/local/lib/python3.7/dist-packages (from fiona>=1.8->geopandas) (21.4.0)\n",
            "Requirement already satisfied: six>=1.7 in /usr/local/lib/python3.7/dist-packages (from fiona>=1.8->geopandas) (1.15.0)\n",
            "Requirement already satisfied: setuptools in /usr/local/lib/python3.7/dist-packages (from fiona>=1.8->geopandas) (57.4.0)\n",
            "Requirement already satisfied: click>=4.0 in /usr/local/lib/python3.7/dist-packages (from fiona>=1.8->geopandas) (7.1.2)\n",
            "Collecting munch\n",
            "  Downloading munch-2.5.0-py2.py3-none-any.whl (10 kB)\n",
            "Collecting click-plugins>=1.0\n",
            "  Downloading click_plugins-1.1.1-py2.py3-none-any.whl (7.5 kB)\n",
            "Requirement already satisfied: numpy>=1.17.3 in /usr/local/lib/python3.7/dist-packages (from pandas>=0.25.0->geopandas) (1.21.5)\n",
            "Requirement already satisfied: python-dateutil>=2.7.3 in /usr/local/lib/python3.7/dist-packages (from pandas>=0.25.0->geopandas) (2.8.2)\n",
            "Requirement already satisfied: pytz>=2017.3 in /usr/local/lib/python3.7/dist-packages (from pandas>=0.25.0->geopandas) (2018.9)\n",
            "Installing collected packages: munch, cligj, click-plugins, pyproj, fiona, geopandas\n",
            "Successfully installed click-plugins-1.1.1 cligj-0.7.2 fiona-1.8.21 geopandas-0.10.2 munch-2.5.0 pyproj-3.2.1\n"
          ]
        }
      ]
    },
    {
      "cell_type": "code",
      "source": [
        "import pandas as pd\n",
        "import geopandas as gpd\n",
        "import json\n",
        "import datetime\n",
        "import matplotlib.pyplot as plt\n",
        "from matplotlib import cm\n",
        "from matplotlib.colors import ListedColormap\n",
        "import numpy as np"
      ],
      "metadata": {
        "id": "fh3Di_enVUMu"
      },
      "execution_count": 158,
      "outputs": []
    },
    {
      "cell_type": "code",
      "source": [
        "db = pd.read_csv(\"/content/drive/MyDrive/Projects/PlastOPol/Datasets/database.csv\")\n",
        "rydde = db[931:17798]"
      ],
      "metadata": {
        "id": "Ki9DtZcrVoHV"
      },
      "execution_count": 159,
      "outputs": []
    },
    {
      "cell_type": "code",
      "source": [
        "gdf = gpd.GeoDataFrame(rydde, geometry=gpd.points_from_xy(rydde.longitude, rydde.latitude))"
      ],
      "metadata": {
        "id": "FvSui7INWXhJ"
      },
      "execution_count": 160,
      "outputs": []
    },
    {
      "cell_type": "code",
      "source": [
        "gdf.date = pd.to_datetime(gdf.date)"
      ],
      "metadata": {
        "id": "kEbvneOmWbyw"
      },
      "execution_count": 161,
      "outputs": []
    },
    {
      "cell_type": "code",
      "source": [
        "#Svinøya 30x30\n",
        "lat_min = 62.345252708439276\n",
        "lat_max = 62.61474729156072\n",
        "lng_min = 5.978375939307136\n",
        "lng_max = 6.561624060692863\n",
        "cell_rows, cell_columns = 16, 16"
      ],
      "metadata": {
        "id": "3NiAjIwYWgzU"
      },
      "execution_count": 162,
      "outputs": []
    },
    {
      "cell_type": "code",
      "source": [
        "def generateCells(lat_min, lng_min, lat_max, lng_max, cell_rows, cell_columns):\n",
        "    half_cell_height = (lat_max - lat_min) / (2 * (cell_rows - 1))\n",
        "    half_cell_width = (lng_max - lng_min) / (2 * (cell_columns - 1))\n",
        "    lat_point = lat_min\n",
        "    row_count = 0\n",
        "    cells = []\n",
        "    while (row_count < cell_rows):\n",
        "        lng_point = lng_min\n",
        "        column_count = 0\n",
        "        while (column_count < cell_columns):\n",
        "            lat_0 = lat_point - half_cell_height\n",
        "            lng_0 = lng_point - half_cell_width\n",
        "            lat_1 = lat_point + half_cell_height\n",
        "            lng_1 = lng_point + half_cell_width\n",
        "            cells.append({\"lng_min\":lng_0, \"lat_min\": lat_0, \"lat_max\":lat_1, \"lng_max\":lng_1})\n",
        "            lng_point += 2 * half_cell_width\n",
        "            column_count+=1\n",
        "        lat_point += 2 * half_cell_height\n",
        "        row_count+=1\n",
        "    return cells\n",
        "    "
      ],
      "metadata": {
        "id": "cIeYICE1WjzY"
      },
      "execution_count": 163,
      "outputs": []
    },
    {
      "cell_type": "code",
      "source": [
        "cells = generateCells(lat_min, lng_min, lat_max, lng_max, cell_rows, cell_columns)"
      ],
      "metadata": {
        "id": "FX_aAmuFWov5"
      },
      "execution_count": 164,
      "outputs": []
    },
    {
      "cell_type": "code",
      "source": [
        "def getCellData(cell):\n",
        "        data = gdf.cx[cell[\"lng_min\"]: cell[\"lng_max\"], cell[\"lat_min\"] : cell[\"lat_max\"]]\n",
        "        return data"
      ],
      "metadata": {
        "id": "JwJbrL1JWyXt"
      },
      "execution_count": 165,
      "outputs": []
    },
    {
      "cell_type": "code",
      "source": [
        "def createBoundsDf(cells):\n",
        "    i = 0;\n",
        "    udf = pd.DataFrame(columns=[\"date\", \"boundsId\", \"weight\", \"quantity\"])\n",
        "    for cell in cells:\n",
        "        data = getCellData(cell)\n",
        "        # print(data)\n",
        "        newdf = pd.DataFrame(data)\n",
        "        newdf[\"boundsId\"] = i\n",
        "        newdf = newdf[[\"date\", \"boundsId\", \"weight\", \"quantity\"]]\n",
        "        udf = udf.append(newdf, ignore_index=True)\n",
        "        i+=1\n",
        "    return udf"
      ],
      "metadata": {
        "id": "5YwJmvuqXGGh"
      },
      "execution_count": 166,
      "outputs": []
    },
    {
      "cell_type": "code",
      "source": [
        "bdf = createBoundsDf(cells)\n",
        "bdf.head()"
      ],
      "metadata": {
        "colab": {
          "base_uri": "https://localhost:8080/",
          "height": 206
        },
        "id": "mLeaOlqfXMtr",
        "outputId": "b49924de-9312-47d4-9f34-68d2ac8ce3cf"
      },
      "execution_count": 167,
      "outputs": [
        {
          "output_type": "execute_result",
          "data": {
            "text/html": [
              "\n",
              "  <div id=\"df-20238b7d-3805-46d6-9806-aa1d30554f58\">\n",
              "    <div class=\"colab-df-container\">\n",
              "      <div>\n",
              "<style scoped>\n",
              "    .dataframe tbody tr th:only-of-type {\n",
              "        vertical-align: middle;\n",
              "    }\n",
              "\n",
              "    .dataframe tbody tr th {\n",
              "        vertical-align: top;\n",
              "    }\n",
              "\n",
              "    .dataframe thead th {\n",
              "        text-align: right;\n",
              "    }\n",
              "</style>\n",
              "<table border=\"1\" class=\"dataframe\">\n",
              "  <thead>\n",
              "    <tr style=\"text-align: right;\">\n",
              "      <th></th>\n",
              "      <th>date</th>\n",
              "      <th>boundsId</th>\n",
              "      <th>weight</th>\n",
              "      <th>quantity</th>\n",
              "    </tr>\n",
              "  </thead>\n",
              "  <tbody>\n",
              "    <tr>\n",
              "      <th>0</th>\n",
              "      <td>2018-04-10 02:00:00</td>\n",
              "      <td>2</td>\n",
              "      <td>1000.0</td>\n",
              "      <td>NaN</td>\n",
              "    </tr>\n",
              "    <tr>\n",
              "      <th>1</th>\n",
              "      <td>2020-05-14 02:00:00</td>\n",
              "      <td>15</td>\n",
              "      <td>500.0</td>\n",
              "      <td>NaN</td>\n",
              "    </tr>\n",
              "    <tr>\n",
              "      <th>2</th>\n",
              "      <td>2017-09-16 02:00:00</td>\n",
              "      <td>17</td>\n",
              "      <td>1450.0</td>\n",
              "      <td>NaN</td>\n",
              "    </tr>\n",
              "    <tr>\n",
              "      <th>3</th>\n",
              "      <td>2019-07-01 02:00:00</td>\n",
              "      <td>17</td>\n",
              "      <td>700.0</td>\n",
              "      <td>NaN</td>\n",
              "    </tr>\n",
              "    <tr>\n",
              "      <th>4</th>\n",
              "      <td>2018-05-06 02:00:00</td>\n",
              "      <td>17</td>\n",
              "      <td>220.0</td>\n",
              "      <td>NaN</td>\n",
              "    </tr>\n",
              "  </tbody>\n",
              "</table>\n",
              "</div>\n",
              "      <button class=\"colab-df-convert\" onclick=\"convertToInteractive('df-20238b7d-3805-46d6-9806-aa1d30554f58')\"\n",
              "              title=\"Convert this dataframe to an interactive table.\"\n",
              "              style=\"display:none;\">\n",
              "        \n",
              "  <svg xmlns=\"http://www.w3.org/2000/svg\" height=\"24px\"viewBox=\"0 0 24 24\"\n",
              "       width=\"24px\">\n",
              "    <path d=\"M0 0h24v24H0V0z\" fill=\"none\"/>\n",
              "    <path d=\"M18.56 5.44l.94 2.06.94-2.06 2.06-.94-2.06-.94-.94-2.06-.94 2.06-2.06.94zm-11 1L8.5 8.5l.94-2.06 2.06-.94-2.06-.94L8.5 2.5l-.94 2.06-2.06.94zm10 10l.94 2.06.94-2.06 2.06-.94-2.06-.94-.94-2.06-.94 2.06-2.06.94z\"/><path d=\"M17.41 7.96l-1.37-1.37c-.4-.4-.92-.59-1.43-.59-.52 0-1.04.2-1.43.59L10.3 9.45l-7.72 7.72c-.78.78-.78 2.05 0 2.83L4 21.41c.39.39.9.59 1.41.59.51 0 1.02-.2 1.41-.59l7.78-7.78 2.81-2.81c.8-.78.8-2.07 0-2.86zM5.41 20L4 18.59l7.72-7.72 1.47 1.35L5.41 20z\"/>\n",
              "  </svg>\n",
              "      </button>\n",
              "      \n",
              "  <style>\n",
              "    .colab-df-container {\n",
              "      display:flex;\n",
              "      flex-wrap:wrap;\n",
              "      gap: 12px;\n",
              "    }\n",
              "\n",
              "    .colab-df-convert {\n",
              "      background-color: #E8F0FE;\n",
              "      border: none;\n",
              "      border-radius: 50%;\n",
              "      cursor: pointer;\n",
              "      display: none;\n",
              "      fill: #1967D2;\n",
              "      height: 32px;\n",
              "      padding: 0 0 0 0;\n",
              "      width: 32px;\n",
              "    }\n",
              "\n",
              "    .colab-df-convert:hover {\n",
              "      background-color: #E2EBFA;\n",
              "      box-shadow: 0px 1px 2px rgba(60, 64, 67, 0.3), 0px 1px 3px 1px rgba(60, 64, 67, 0.15);\n",
              "      fill: #174EA6;\n",
              "    }\n",
              "\n",
              "    [theme=dark] .colab-df-convert {\n",
              "      background-color: #3B4455;\n",
              "      fill: #D2E3FC;\n",
              "    }\n",
              "\n",
              "    [theme=dark] .colab-df-convert:hover {\n",
              "      background-color: #434B5C;\n",
              "      box-shadow: 0px 1px 3px 1px rgba(0, 0, 0, 0.15);\n",
              "      filter: drop-shadow(0px 1px 2px rgba(0, 0, 0, 0.3));\n",
              "      fill: #FFFFFF;\n",
              "    }\n",
              "  </style>\n",
              "\n",
              "      <script>\n",
              "        const buttonEl =\n",
              "          document.querySelector('#df-20238b7d-3805-46d6-9806-aa1d30554f58 button.colab-df-convert');\n",
              "        buttonEl.style.display =\n",
              "          google.colab.kernel.accessAllowed ? 'block' : 'none';\n",
              "\n",
              "        async function convertToInteractive(key) {\n",
              "          const element = document.querySelector('#df-20238b7d-3805-46d6-9806-aa1d30554f58');\n",
              "          const dataTable =\n",
              "            await google.colab.kernel.invokeFunction('convertToInteractive',\n",
              "                                                     [key], {});\n",
              "          if (!dataTable) return;\n",
              "\n",
              "          const docLinkHtml = 'Like what you see? Visit the ' +\n",
              "            '<a target=\"_blank\" href=https://colab.research.google.com/notebooks/data_table.ipynb>data table notebook</a>'\n",
              "            + ' to learn more about interactive tables.';\n",
              "          element.innerHTML = '';\n",
              "          dataTable['output_type'] = 'display_data';\n",
              "          await google.colab.output.renderOutput(dataTable, element);\n",
              "          const docLink = document.createElement('div');\n",
              "          docLink.innerHTML = docLinkHtml;\n",
              "          element.appendChild(docLink);\n",
              "        }\n",
              "      </script>\n",
              "    </div>\n",
              "  </div>\n",
              "  "
            ],
            "text/plain": [
              "                 date boundsId  weight  quantity\n",
              "0 2018-04-10 02:00:00        2  1000.0       NaN\n",
              "1 2020-05-14 02:00:00       15   500.0       NaN\n",
              "2 2017-09-16 02:00:00       17  1450.0       NaN\n",
              "3 2019-07-01 02:00:00       17   700.0       NaN\n",
              "4 2018-05-06 02:00:00       17   220.0       NaN"
            ]
          },
          "metadata": {},
          "execution_count": 167
        }
      ]
    },
    {
      "cell_type": "code",
      "source": [
        "from sklearn import preprocessing\n",
        "\n",
        "new_bdf = bdf.sort_values(by=\"date\")\n",
        "new_bdf[\"weight\"] = new_bdf[\"weight\"].replace(np.nan, 0.0)\n",
        "\n",
        "def normalize(df, feature_name):\n",
        "    result = df.copy()\n",
        "    max_value = df[feature_name].max()\n",
        "    min_value = df[feature_name].min()\n",
        "    result[feature_name] = (df[feature_name] - min_value) / (max_value - min_value)\n",
        "    return result\n",
        "\n",
        "\n",
        "new_bdf = normalize(new_bdf, \"weight\")\n"
      ],
      "metadata": {
        "id": "JkcWdvIxXOay"
      },
      "execution_count": 170,
      "outputs": []
    },
    {
      "cell_type": "code",
      "source": [
        "# new_bdf.set_index(\"date\")\n",
        "term_date = datetime.datetime(2019, 1, 1)\n",
        "temp = new_bdf[new_bdf[\"date\"]< term_date]\n",
        "temp[\"weight\"] = temp[\"weight\"].replace(np.nan, 0.0)\n",
        "\n"
      ],
      "metadata": {
        "colab": {
          "base_uri": "https://localhost:8080/"
        },
        "id": "ULVkMFc6jaKt",
        "outputId": "ba99cf96-ce05-4226-8677-35256114b01f"
      },
      "execution_count": 171,
      "outputs": [
        {
          "output_type": "stream",
          "name": "stderr",
          "text": [
            "/usr/local/lib/python3.7/dist-packages/ipykernel_launcher.py:4: SettingWithCopyWarning: \n",
            "A value is trying to be set on a copy of a slice from a DataFrame.\n",
            "Try using .loc[row_indexer,col_indexer] = value instead\n",
            "\n",
            "See the caveats in the documentation: https://pandas.pydata.org/pandas-docs/stable/user_guide/indexing.html#returning-a-view-versus-a-copy\n",
            "  after removing the cwd from sys.path.\n"
          ]
        }
      ]
    },
    {
      "cell_type": "code",
      "source": [
        "temp_data = np.zeros((16, 16))\n",
        "\n",
        "for i in range(len(temp)):\n",
        "  id = temp[\"boundsId\"].iloc[i]\n",
        "  row = int(id/16)\n",
        "  col = int(id%16)\n",
        "  # print(row, col)\n",
        "  if temp[\"weight\"].iloc[i]:\n",
        "    temp_data[row, col] = temp_data[row, col] +  temp[\"weight\"].iloc[i]\n",
        "\n",
        "temp_data\n",
        "\n",
        "N = 256\n",
        "vals = np.ones((N, 3))\n",
        "vals[:, 0] = np.linspace(0, 1, 1)\n",
        "vals[:, 1] = np.linspace(0, 1, N)\n",
        "vals[:, 2] = np.linspace(0, 1, N)\n",
        "newcmp = ListedColormap((2+(vals*-2))/2)\n",
        "# newcmp = ListedColormap(vals)\n",
        "# print((2+(vals*-2))/2)\n",
        "# print(vals)\n",
        "\n",
        "plt.imshow(temp_data, cmap=newcmp, interpolation='nearest', origin=\"lower\")\n",
        "plt.show()\n",
        "# print(temp_data)"
      ],
      "metadata": {
        "colab": {
          "base_uri": "https://localhost:8080/",
          "height": 265
        },
        "id": "qF-C5QqEjsVV",
        "outputId": "698760a2-c17f-434f-bfb6-d8ec5437229c"
      },
      "execution_count": 172,
      "outputs": [
        {
          "output_type": "display_data",
          "data": {
            "image/png": "[encoded data removed]",
            "text/plain": [
              "<Figure size 432x288 with 1 Axes>"
            ]
          },
          "metadata": {
            "needs_background": "light"
          }
        }
      ]
    },
    {
      "cell_type": "code",
      "source": [
        "def generate_heatmaps(df):\n",
        "  Years = list(range(2014, 2021))\n",
        "  Months = list(range(1,13))\n",
        "  monthly_heatmaps = []\n",
        "  for year in Years:\n",
        "    for month in Months:\n",
        "      stop_date = datetime.datetime(year,month,1)\n",
        "      filtered_data = df[df[\"date\"]<stop_date]\n",
        "      # filtered_data[\"weight\"] = filtered_data[\"weight\"].replace(np.nan, 0.0)\n",
        "      temp_data = np.zeros((16, 16))\n",
        "      # print(stop_date)\n",
        "      for i in range(len(filtered_data)):\n",
        "        pass\n",
        "        id = filtered_data.iloc[i][\"boundsId\"]\n",
        "        row = int(id/16)\n",
        "        col = int(id%16)\n",
        "        # print(row, col)\n",
        "        if filtered_data[\"weight\"].iloc[i]:\n",
        "          temp_data[row, col] = temp_data[row, col] +  filtered_data.iloc[i][\"weight\"]\n",
        "\n",
        "      monthly_heatmaps.append((temp_data))\n",
        "  # not normalized yet\n",
        "  return monthly_heatmaps\n"
      ],
      "metadata": {
        "id": "srhProUyA1g9"
      },
      "execution_count": 173,
      "outputs": []
    },
    {
      "cell_type": "code",
      "source": [
        "heatmaps = generate_heatmaps(new_bdf)\n",
        "new_data = np.array(heatmaps)\n",
        "print(new_data.shape)\n",
        "# print(heatmaps[-1])"
      ],
      "metadata": {
        "colab": {
          "base_uri": "https://localhost:8080/"
        },
        "id": "wz7O85EDEFvx",
        "outputId": "736e6888-e9aa-44b7-f4cd-b94cdffb9dac"
      },
      "execution_count": 174,
      "outputs": [
        {
          "output_type": "stream",
          "name": "stdout",
          "text": [
            "(84, 16, 16)\n"
          ]
        }
      ]
    },
    {
      "cell_type": "code",
      "source": [
        "train_ratio = 0.75\n",
        "\n",
        "train_size = int(len(new_data) * train_ratio)\n",
        "test_size = len(new_data) - train_size\n",
        "train = new_data[0:train_size,:]\n",
        "test = new_data[train_size:len(new_data),:]\n",
        "print(\"train size: {}, test size: {} \".format(len(train), len(test)))"
      ],
      "metadata": {
        "colab": {
          "base_uri": "https://localhost:8080/"
        },
        "id": "NwdbG7NDI6no",
        "outputId": "9cd7449a-2d17-4661-ac09-35262d6b08d0"
      },
      "execution_count": 175,
      "outputs": [
        {
          "output_type": "stream",
          "name": "stdout",
          "text": [
            "train size: 63, test size: 21 \n"
          ]
        }
      ]
    },
    {
      "cell_type": "code",
      "source": [
        "seq_len = 4\n",
        "seq_future = 1\n",
        "# dataX = []\n",
        "# dataY = []\n",
        "# for i in range(len(train)-seq_len-1):\n",
        "#     a = train[i:(i+seq_len), :, :]\n",
        "#     dataX.append(a)\n",
        "#     dataY.append(train[i + seq_len, :, :])\n",
        "# trainX = np.array(dataX)\n",
        "# trainX = trainX[::, ::, ::, ::, np.newaxis]\n",
        "# trainY = np.array(dataY)\n",
        "# trainY = trainY[::, ::, ::, np.newaxis]\n",
        "\n",
        "# dataX = []\n",
        "# dataY = []\n",
        "# for i in range(len(test)-seq_len-1):\n",
        "#     a = test[i:(i+seq_len), :, :]\n",
        "#     dataX.append(a)\n",
        "#     dataY.append(test[i + seq_len, :,:])\n",
        "\n",
        "# # dataX = [dataX]\n",
        "# # dataY = [:,dataX]\n",
        "# testX = np.array(dataX)\n",
        "# testX = testX[::, ::, ::, ::, np.newaxis]\n",
        "# testY = np.array(dataY)\n",
        "# testY = testY[::, ::, ::, np.newaxis]\n",
        "\n",
        "\n",
        "\n",
        "dataX = []\n",
        "dataY = []\n",
        "for i in range(len(train)-seq_len-1):\n",
        "    a = train[i:(i+seq_len), :, :]\n",
        "    dataX.append(a)\n",
        "    dataY.append(train[i+seq_future: (i + seq_future +seq_len), :, :])\n",
        "trainX = np.array(dataX)\n",
        "trainX = trainX[::, ::, ::, ::, np.newaxis]\n",
        "trainY = np.array(dataY)\n",
        "trainY = trainY[::, ::, ::,::, np.newaxis]\n",
        "\n",
        "dataX = []\n",
        "dataY = []\n",
        "for i in range(len(test)-seq_len-1):\n",
        "    a = test[i:(i+seq_len), :, :]\n",
        "    dataX.append(a)\n",
        "    dataY.append(test[i+seq_future: (i + seq_future +seq_len), :, :])\n",
        "\n",
        "# dataX = [dataX]\n",
        "# dataY = [:,dataX]\n",
        "testX = np.array(dataX)\n",
        "testX = testX[::, ::, ::, ::, np.newaxis]\n",
        "testY = np.array(dataY)\n",
        "testY = testY[::, ::, ::, ::, np.newaxis]\n",
        "\n",
        "\n",
        "print('shape of trainX: ', trainX.shape)\n",
        "print('shape of testX: ', testX.shape)\n",
        "print('shape of trainY: ', trainY.shape)\n",
        "print('shape of testY: ', testY.shape)"
      ],
      "metadata": {
        "colab": {
          "base_uri": "https://localhost:8080/"
        },
        "id": "CGIJDwwF92AC",
        "outputId": "7f6e40fa-9740-4356-87d5-ac7dca74c24b"
      },
      "execution_count": 189,
      "outputs": [
        {
          "output_type": "stream",
          "name": "stdout",
          "text": [
            "shape of trainX:  (58, 4, 16, 16, 1)\n",
            "shape of testX:  (16, 4, 16, 16, 1)\n",
            "shape of trainY:  (58, 4, 16, 16, 1)\n",
            "shape of testY:  (16, 4, 16, 16, 1)\n"
          ]
        }
      ]
    },
    {
      "cell_type": "code",
      "source": [
        "trainX[np.isnan(trainX)] = 0\n",
        "testX[np.isnan(testX)] = 0\n",
        "testX[np.isnan(testX)] = 0\n",
        "testY[np.isnan(testY)] = 0\n"
      ],
      "metadata": {
        "id": "k54zjx6qMK7E"
      },
      "execution_count": 190,
      "outputs": []
    },
    {
      "cell_type": "code",
      "source": [
        "from keras.models import Sequential\n",
        "from keras.layers import Dense\n",
        "from keras.layers import SimpleRNN\n",
        "from keras.layers import Dropout\n",
        "from keras.layers import BatchNormalization\n",
        "from keras.layers import ConvLSTM2D, Conv3D\n",
        "import keras\n",
        "from keras.callbacks import EarlyStopping"
      ],
      "metadata": {
        "id": "C5Ul_UJ9-2ku"
      },
      "execution_count": 178,
      "outputs": []
    },
    {
      "cell_type": "code",
      "source": [
        "seq = Sequential(\n",
        "    [\n",
        "     keras.Input(\n",
        "         shape=(None, 16, 16, 1)\n",
        "     ),\n",
        "     ConvLSTM2D(filters=3, kernel_size=(2 ,2), padding=\"same\", return_sequences=True),\n",
        "     BatchNormalization(),\n",
        "     ConvLSTM2D(filters=3, kernel_size=(2 ,2), padding=\"same\", return_sequences=True),\n",
        "     BatchNormalization(),\n",
        "     ConvLSTM2D(filters=3, kernel_size=(2 ,2), padding=\"same\", return_sequences=True),\n",
        "     BatchNormalization(),\n",
        "     ConvLSTM2D(filters=3, kernel_size=(2 ,2), padding=\"same\", return_sequences=True),\n",
        "     BatchNormalization(),\n",
        "     Conv3D(filters=1, kernel_size=(3,3,3), activation=\"sigmoid\", padding=\"same\"),\n",
        "    ]\n",
        ")\n",
        "\n",
        "seq.compile(loss=\"binary_crossentropy\", optimizer=\"adam\")\n",
        "seq.summary()"
      ],
      "metadata": {
        "colab": {
          "base_uri": "https://localhost:8080/"
        },
        "id": "82i2XWOB_Tjk",
        "outputId": "f3120ec5-5b95-4915-d31b-cf811ed884d5"
      },
      "execution_count": 192,
      "outputs": [
        {
          "output_type": "stream",
          "name": "stdout",
          "text": [
            "Model: \"sequential_14\"\n",
            "_________________________________________________________________\n",
            " Layer (type)                Output Shape              Param #   \n",
            "=================================================================\n",
            " conv_lstm2d_54 (ConvLSTM2D)  (None, None, 16, 16, 3)  204       \n",
            "                                                                 \n",
            " batch_normalization_55 (Bat  (None, None, 16, 16, 3)  12        \n",
            " chNormalization)                                                \n",
            "                                                                 \n",
            " conv_lstm2d_55 (ConvLSTM2D)  (None, None, 16, 16, 3)  300       \n",
            "                                                                 \n",
            " batch_normalization_56 (Bat  (None, None, 16, 16, 3)  12        \n",
            " chNormalization)                                                \n",
            "                                                                 \n",
            " conv_lstm2d_56 (ConvLSTM2D)  (None, None, 16, 16, 3)  300       \n",
            "                                                                 \n",
            " batch_normalization_57 (Bat  (None, None, 16, 16, 3)  12        \n",
            " chNormalization)                                                \n",
            "                                                                 \n",
            " conv_lstm2d_57 (ConvLSTM2D)  (None, None, 16, 16, 3)  300       \n",
            "                                                                 \n",
            " batch_normalization_58 (Bat  (None, None, 16, 16, 3)  12        \n",
            " chNormalization)                                                \n",
            "                                                                 \n",
            " conv3d_14 (Conv3D)          (None, None, 16, 16, 1)   82        \n",
            "                                                                 \n",
            "=================================================================\n",
            "Total params: 1,234\n",
            "Trainable params: 1,210\n",
            "Non-trainable params: 24\n",
            "_________________________________________________________________\n"
          ]
        }
      ]
    },
    {
      "cell_type": "code",
      "source": [
        "epoch = 50\n",
        "\n",
        "history = seq.fit(\n",
        "    trainX,\n",
        "    trainY,\n",
        "    batch_size=1,\n",
        "    # validation_split=0.1\n",
        "    epochs=epoch,\n",
        "    validation_data = (testX, testY), shuffle=False\n",
        ")"
      ],
      "metadata": {
        "colab": {
          "base_uri": "https://localhost:8080/"
        },
        "id": "iZhJgWw_CL8B",
        "outputId": "0c24beaa-71f3-4e7f-ca79-a9425c2ab1e7"
      },
      "execution_count": 193,
      "outputs": [
        {
          "output_type": "stream",
          "name": "stdout",
          "text": [
            "Epoch 1/50\n",
            "58/58 [==============================] - 10s 43ms/step - loss: 0.6071 - val_loss: 0.6306\n",
            "Epoch 2/50\n",
            "58/58 [==============================] - 2s 27ms/step - loss: 0.2987 - val_loss: 0.5586\n",
            "Epoch 3/50\n",
            "58/58 [==============================] - 2s 26ms/step - loss: 0.1313 - val_loss: 0.5477\n",
            "Epoch 4/50\n",
            "58/58 [==============================] - 2s 26ms/step - loss: 0.0794 - val_loss: 0.6783\n",
            "Epoch 5/50\n",
            "58/58 [==============================] - 2s 27ms/step - loss: 0.0600 - val_loss: 0.9848\n",
            "Epoch 6/50\n",
            "58/58 [==============================] - 2s 27ms/step - loss: 0.0502 - val_loss: 1.2770\n",
            "Epoch 7/50\n",
            "58/58 [==============================] - 2s 27ms/step - loss: 0.0443 - val_loss: 1.2833\n",
            "Epoch 8/50\n",
            "58/58 [==============================] - 2s 26ms/step - loss: 0.0403 - val_loss: 0.9978\n",
            "Epoch 9/50\n",
            "58/58 [==============================] - 2s 26ms/step - loss: 0.0377 - val_loss: 0.6294\n",
            "Epoch 10/50\n",
            "58/58 [==============================] - 2s 27ms/step - loss: 0.0359 - val_loss: 0.3556\n",
            "Epoch 11/50\n",
            "58/58 [==============================] - 2s 27ms/step - loss: 0.0346 - val_loss: 0.2521\n",
            "Epoch 12/50\n",
            "58/58 [==============================] - 2s 27ms/step - loss: 0.0336 - val_loss: 0.2246\n",
            "Epoch 13/50\n",
            "58/58 [==============================] - 2s 27ms/step - loss: 0.0328 - val_loss: 0.2221\n",
            "Epoch 14/50\n",
            "58/58 [==============================] - 2s 27ms/step - loss: 0.0322 - val_loss: 0.2272\n",
            "Epoch 15/50\n",
            "58/58 [==============================] - 2s 27ms/step - loss: 0.0316 - val_loss: 0.2339\n",
            "Epoch 16/50\n",
            "58/58 [==============================] - 2s 27ms/step - loss: 0.0311 - val_loss: 0.2398\n",
            "Epoch 17/50\n",
            "58/58 [==============================] - 2s 27ms/step - loss: 0.0306 - val_loss: 0.2445\n",
            "Epoch 18/50\n",
            "58/58 [==============================] - 2s 27ms/step - loss: 0.0302 - val_loss: 0.2482\n",
            "Epoch 19/50\n",
            "58/58 [==============================] - 1s 26ms/step - loss: 0.0298 - val_loss: 0.2512\n",
            "Epoch 20/50\n",
            "58/58 [==============================] - 2s 27ms/step - loss: 0.0294 - val_loss: 0.2536\n",
            "Epoch 21/50\n",
            "58/58 [==============================] - 2s 27ms/step - loss: 0.0291 - val_loss: 0.2559\n",
            "Epoch 22/50\n",
            "58/58 [==============================] - 2s 26ms/step - loss: 0.0287 - val_loss: 0.2574\n",
            "Epoch 23/50\n",
            "58/58 [==============================] - 2s 26ms/step - loss: 0.0284 - val_loss: 0.2598\n",
            "Epoch 24/50\n",
            "58/58 [==============================] - 2s 26ms/step - loss: 0.0280 - val_loss: 0.2619\n",
            "Epoch 25/50\n",
            "58/58 [==============================] - 2s 26ms/step - loss: 0.0277 - val_loss: 0.2642\n",
            "Epoch 26/50\n",
            "58/58 [==============================] - 2s 27ms/step - loss: 0.0273 - val_loss: 0.2664\n",
            "Epoch 27/50\n",
            "58/58 [==============================] - 2s 27ms/step - loss: 0.0270 - val_loss: 0.2685\n",
            "Epoch 28/50\n",
            "58/58 [==============================] - 2s 26ms/step - loss: 0.0267 - val_loss: 0.2710\n",
            "Epoch 29/50\n",
            "58/58 [==============================] - 2s 26ms/step - loss: 0.0263 - val_loss: 0.2729\n",
            "Epoch 30/50\n",
            "58/58 [==============================] - 2s 26ms/step - loss: 0.0260 - val_loss: 0.2756\n",
            "Epoch 31/50\n",
            "58/58 [==============================] - 2s 26ms/step - loss: 0.0257 - val_loss: 0.2780\n",
            "Epoch 32/50\n",
            "58/58 [==============================] - 2s 26ms/step - loss: 0.0254 - val_loss: 0.2813\n",
            "Epoch 33/50\n",
            "58/58 [==============================] - 2s 26ms/step - loss: 0.0251 - val_loss: 0.2864\n",
            "Epoch 34/50\n",
            "58/58 [==============================] - 1s 25ms/step - loss: 0.0249 - val_loss: 0.2922\n",
            "Epoch 35/50\n",
            "58/58 [==============================] - 1s 25ms/step - loss: 0.0246 - val_loss: 0.2981\n",
            "Epoch 36/50\n",
            "58/58 [==============================] - 2s 26ms/step - loss: 0.0244 - val_loss: 0.3040\n",
            "Epoch 37/50\n",
            "58/58 [==============================] - 2s 26ms/step - loss: 0.0242 - val_loss: 0.3110\n",
            "Epoch 38/50\n",
            "58/58 [==============================] - 2s 26ms/step - loss: 0.0240 - val_loss: 0.3147\n",
            "Epoch 39/50\n",
            "58/58 [==============================] - 2s 27ms/step - loss: 0.0238 - val_loss: 0.3195\n",
            "Epoch 40/50\n",
            "58/58 [==============================] - 2s 27ms/step - loss: 0.0236 - val_loss: 0.3218\n",
            "Epoch 41/50\n",
            "58/58 [==============================] - 2s 27ms/step - loss: 0.0234 - val_loss: 0.3243\n",
            "Epoch 42/50\n",
            "58/58 [==============================] - 2s 27ms/step - loss: 0.0232 - val_loss: 0.3260\n",
            "Epoch 43/50\n",
            "58/58 [==============================] - 2s 27ms/step - loss: 0.0231 - val_loss: 0.3267\n",
            "Epoch 44/50\n",
            "58/58 [==============================] - 2s 27ms/step - loss: 0.0229 - val_loss: 0.3267\n",
            "Epoch 45/50\n",
            "58/58 [==============================] - 2s 26ms/step - loss: 0.0227 - val_loss: 0.3299\n",
            "Epoch 46/50\n",
            "58/58 [==============================] - 2s 26ms/step - loss: 0.0225 - val_loss: 0.3301\n",
            "Epoch 47/50\n",
            "58/58 [==============================] - 2s 26ms/step - loss: 0.0224 - val_loss: 0.3345\n",
            "Epoch 48/50\n",
            "58/58 [==============================] - 2s 27ms/step - loss: 0.0221 - val_loss: 0.3328\n",
            "Epoch 49/50\n",
            "58/58 [==============================] - 2s 26ms/step - loss: 0.0220 - val_loss: 0.3407\n",
            "Epoch 50/50\n",
            "58/58 [==============================] - 2s 27ms/step - loss: 0.0218 - val_loss: 0.3378\n"
          ]
        }
      ]
    },
    {
      "cell_type": "code",
      "source": [
        "plt.plot(history.history[\"loss\"])\n",
        "plt.plot(history.history[\"val_loss\"])"
      ],
      "metadata": {
        "colab": {
          "base_uri": "https://localhost:8080/",
          "height": 282
        },
        "id": "QMdSDncXLPXf",
        "outputId": "70308e7a-4d6d-4761-e6aa-84ca8ffe5401"
      },
      "execution_count": 194,
      "outputs": [
        {
          "output_type": "execute_result",
          "data": {
            "text/plain": [
              "[<matplotlib.lines.Line2D at 0x7f7870e25f50>]"
            ]
          },
          "metadata": {},
          "execution_count": 194
        },
        {
          "output_type": "display_data",
          "data": {
            "image/png": "[encoded data removed]",
            "text/plain": [
              "<Figure size 432x288 with 1 Axes>"
            ]
          },
          "metadata": {
            "needs_background": "light"
          }
        }
      ]
    },
    {
      "cell_type": "code",
      "source": [
        "predicted = seq.predict(testX)\n",
        "predicted.shape"
      ],
      "metadata": {
        "colab": {
          "base_uri": "https://localhost:8080/"
        },
        "id": "y464JdCLL4-v",
        "outputId": "aca95456-3d05-494d-8387-172c9a112336"
      },
      "execution_count": 201,
      "outputs": [
        {
          "output_type": "execute_result",
          "data": {
            "text/plain": [
              "(16, 4, 16, 16, 1)"
            ]
          },
          "metadata": {},
          "execution_count": 201
        }
      ]
    },
    {
      "cell_type": "code",
      "source": [
        "predicted = np.squeeze(predicted, axis =4)\n",
        "predicted.shape"
      ],
      "metadata": {
        "colab": {
          "base_uri": "https://localhost:8080/"
        },
        "id": "NQeVElR9UUHv",
        "outputId": "14451284-b212-4eb3-d382-5157cc67e616"
      },
      "execution_count": 202,
      "outputs": [
        {
          "output_type": "execute_result",
          "data": {
            "text/plain": [
              "(16, 4, 16, 16)"
            ]
          },
          "metadata": {},
          "execution_count": 202
        }
      ]
    },
    {
      "cell_type": "code",
      "source": [
        "predicted_instance = predicted[0][0]\n",
        "\n",
        "N = 256\n",
        "vals = np.ones((N, 3))\n",
        "vals[:, 0] = np.linspace(0, 1, 1)\n",
        "vals[:, 1] = np.linspace(0, 1, N)\n",
        "vals[:, 2] = np.linspace(0, 1, N)\n",
        "newcmp = ListedColormap((2+(vals*-2))/2)\n",
        "# newcmp = ListedColormap(vals)\n",
        "# print((2+(vals*-2))/2)\n",
        "# print(vals)\n",
        "\n",
        "plt.imshow(predicted_instance, cmap=newcmp, interpolation='nearest', origin=\"lower\")\n",
        "plt.show()\n",
        "# print(temp_data)\n"
      ],
      "metadata": {
        "colab": {
          "base_uri": "https://localhost:8080/",
          "height": 265
        },
        "id": "bmdugJ42Urj0",
        "outputId": "73c5cc36-dab6-4a12-cfd1-6cce09b0d814"
      },
      "execution_count": 205,
      "outputs": [
        {
          "output_type": "display_data",
          "data": {
            "image/png": "[encoded data removed]",
            "text/plain": [
              "<Figure size 432x288 with 1 Axes>"
            ]
          },
          "metadata": {
            "needs_background": "light"
          }
        }
      ]
    },
    {
      "cell_type": "code",
      "source": [
        "ground_truth = np.squeeze(testY, axis =4)\n",
        "true_instance = ground_truth[0][0]\n",
        "plt.imshow(true_instance, cmap=newcmp, interpolation='nearest', origin=\"lower\")\n",
        "plt.show()"
      ],
      "metadata": {
        "colab": {
          "base_uri": "https://localhost:8080/",
          "height": 265
        },
        "id": "LK9QgL4XVCpc",
        "outputId": "a2f81d34-a594-4b21-9790-b3641381490d"
      },
      "execution_count": 208,
      "outputs": [
        {
          "output_type": "display_data",
          "data": {
            "image/png": "[encoded data removed]",
            "text/plain": [
              "<Figure size 432x288 with 1 Axes>"
            ]
          },
          "metadata": {
            "needs_background": "light"
          }
        }
      ]
    }
  ]
}