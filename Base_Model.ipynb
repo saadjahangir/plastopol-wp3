{
  "nbformat": 4,
  "nbformat_minor": 0,
  "metadata": {
    "colab": {
      "name": "Base_Model.ipynb",
      "provenance": [],
      "collapsed_sections": []
    },
    "kernelspec": {
      "name": "python3",
      "display_name": "Python 3"
    },
    "language_info": {
      "name": "python"
    }
  },
  "cells": [
    {
      "cell_type": "code",
      "metadata": {
        "id": "eG6pNegAIa0r"
      },
      "source": [
        "import pandas as pd\n",
        "%matplotlib inline\n",
        "\n",
        "from math import sqrt\n",
        "from numpy import concatenate\n",
        "from matplotlib import pyplot\n",
        "from pandas import read_csv\n",
        "from pandas import DataFrame\n",
        "from pandas import concat\n",
        "from sklearn.preprocessing import MinMaxScaler\n",
        "from sklearn.preprocessing import LabelEncoder\n",
        "from sklearn.metrics import mean_squared_error\n",
        "from keras.models import Sequential\n",
        "from keras.layers import Dense, Dropout\n",
        "from keras.layers import LSTM"
      ],
      "execution_count": 27,
      "outputs": []
    },
    {
      "cell_type": "code",
      "metadata": {
        "colab": {
          "base_uri": "https://localhost:8080/"
        },
        "id": "Z2MwKpy1IsLY",
        "outputId": "1505cb9f-1632-4578-f611-e4d2f2bfc373"
      },
      "source": [
        "from google.colab import drive\n",
        "drive.mount('/content/drive')"
      ],
      "execution_count": 3,
      "outputs": [
        {
          "output_type": "stream",
          "text": [
            "Mounted at /content/drive\n"
          ],
          "name": "stdout"
        }
      ]
    },
    {
      "cell_type": "code",
      "metadata": {
        "id": "SUPB2HVbJNHl"
      },
      "source": [
        "PoleWard_46320 = 'drive/My Drive/Projects/PlastOPol/Datasets/PoleWard_46320.csv'"
      ],
      "execution_count": 4,
      "outputs": []
    },
    {
      "cell_type": "code",
      "metadata": {
        "colab": {
          "base_uri": "https://localhost:8080/",
          "height": 402
        },
        "id": "el9cNveuJFtt",
        "outputId": "02fd89d3-2fd6-401b-a8b5-1a265a13286e"
      },
      "source": [
        "data = pd.read_csv(PoleWard_46320)\n",
        "data"
      ],
      "execution_count": 60,
      "outputs": [
        {
          "output_type": "execute_result",
          "data": {
            "text/html": [
              "<div>\n",
              "<style scoped>\n",
              "    .dataframe tbody tr th:only-of-type {\n",
              "        vertical-align: middle;\n",
              "    }\n",
              "\n",
              "    .dataframe tbody tr th {\n",
              "        vertical-align: top;\n",
              "    }\n",
              "\n",
              "    .dataframe thead th {\n",
              "        text-align: right;\n",
              "    }\n",
              "</style>\n",
              "<table border=\"1\" class=\"dataframe\">\n",
              "  <thead>\n",
              "    <tr style=\"text-align: right;\">\n",
              "      <th></th>\n",
              "      <th>L</th>\n",
              "      <th>drifter_index</th>\n",
              "      <th>time</th>\n",
              "      <th>longitude</th>\n",
              "      <th>latitude</th>\n",
              "      <th>sea_surface_temperature</th>\n",
              "    </tr>\n",
              "  </thead>\n",
              "  <tbody>\n",
              "    <tr>\n",
              "      <th>0</th>\n",
              "      <td>0</td>\n",
              "      <td>46320.0</td>\n",
              "      <td>2007-06-24 18:00:00</td>\n",
              "      <td>4.285</td>\n",
              "      <td>62.821</td>\n",
              "      <td>284.916</td>\n",
              "    </tr>\n",
              "    <tr>\n",
              "      <th>1</th>\n",
              "      <td>1</td>\n",
              "      <td>46320.0</td>\n",
              "      <td>2007-06-25 00:00:00</td>\n",
              "      <td>4.355</td>\n",
              "      <td>62.827</td>\n",
              "      <td>284.946</td>\n",
              "    </tr>\n",
              "    <tr>\n",
              "      <th>2</th>\n",
              "      <td>2</td>\n",
              "      <td>46320.0</td>\n",
              "      <td>2007-06-25 06:00:00</td>\n",
              "      <td>4.410</td>\n",
              "      <td>62.846</td>\n",
              "      <td>285.001</td>\n",
              "    </tr>\n",
              "    <tr>\n",
              "      <th>3</th>\n",
              "      <td>3</td>\n",
              "      <td>46320.0</td>\n",
              "      <td>2007-06-25 12:00:00</td>\n",
              "      <td>4.488</td>\n",
              "      <td>62.865</td>\n",
              "      <td>284.914</td>\n",
              "    </tr>\n",
              "    <tr>\n",
              "      <th>4</th>\n",
              "      <td>4</td>\n",
              "      <td>46320.0</td>\n",
              "      <td>2007-06-25 18:00:00</td>\n",
              "      <td>4.526</td>\n",
              "      <td>62.870</td>\n",
              "      <td>284.894</td>\n",
              "    </tr>\n",
              "    <tr>\n",
              "      <th>...</th>\n",
              "      <td>...</td>\n",
              "      <td>...</td>\n",
              "      <td>...</td>\n",
              "      <td>...</td>\n",
              "      <td>...</td>\n",
              "      <td>...</td>\n",
              "    </tr>\n",
              "    <tr>\n",
              "      <th>196</th>\n",
              "      <td>196</td>\n",
              "      <td>46320.0</td>\n",
              "      <td>2007-08-12 18:00:00</td>\n",
              "      <td>11.346</td>\n",
              "      <td>64.988</td>\n",
              "      <td>286.983</td>\n",
              "    </tr>\n",
              "    <tr>\n",
              "      <th>197</th>\n",
              "      <td>197</td>\n",
              "      <td>46320.0</td>\n",
              "      <td>2007-08-13 00:00:00</td>\n",
              "      <td>11.374</td>\n",
              "      <td>64.992</td>\n",
              "      <td>286.940</td>\n",
              "    </tr>\n",
              "    <tr>\n",
              "      <th>198</th>\n",
              "      <td>198</td>\n",
              "      <td>46320.0</td>\n",
              "      <td>2007-08-13 06:00:00</td>\n",
              "      <td>11.384</td>\n",
              "      <td>64.990</td>\n",
              "      <td>287.063</td>\n",
              "    </tr>\n",
              "    <tr>\n",
              "      <th>199</th>\n",
              "      <td>199</td>\n",
              "      <td>46320.0</td>\n",
              "      <td>2007-08-13 12:00:00</td>\n",
              "      <td>11.392</td>\n",
              "      <td>64.992</td>\n",
              "      <td>287.347</td>\n",
              "    </tr>\n",
              "    <tr>\n",
              "      <th>200</th>\n",
              "      <td>200</td>\n",
              "      <td>46320.0</td>\n",
              "      <td>2007-08-13 18:00:00</td>\n",
              "      <td>11.402</td>\n",
              "      <td>64.997</td>\n",
              "      <td>287.298</td>\n",
              "    </tr>\n",
              "  </tbody>\n",
              "</table>\n",
              "<p>201 rows × 6 columns</p>\n",
              "</div>"
            ],
            "text/plain": [
              "       L  drifter_index  ... latitude  sea_surface_temperature\n",
              "0      0        46320.0  ...   62.821                  284.916\n",
              "1      1        46320.0  ...   62.827                  284.946\n",
              "2      2        46320.0  ...   62.846                  285.001\n",
              "3      3        46320.0  ...   62.865                  284.914\n",
              "4      4        46320.0  ...   62.870                  284.894\n",
              "..   ...            ...  ...      ...                      ...\n",
              "196  196        46320.0  ...   64.988                  286.983\n",
              "197  197        46320.0  ...   64.992                  286.940\n",
              "198  198        46320.0  ...   64.990                  287.063\n",
              "199  199        46320.0  ...   64.992                  287.347\n",
              "200  200        46320.0  ...   64.997                  287.298\n",
              "\n",
              "[201 rows x 6 columns]"
            ]
          },
          "metadata": {
            "tags": []
          },
          "execution_count": 60
        }
      ]
    },
    {
      "cell_type": "code",
      "metadata": {
        "colab": {
          "base_uri": "https://localhost:8080/",
          "height": 402
        },
        "id": "JhtyD7scJ2Wd",
        "outputId": "2e9adbe6-0254-4f4d-b4f2-9a2235ceb252"
      },
      "source": [
        "hourly_data = new_data.drop(['time', 'sea_surface_temperature'], axis=1)\n",
        "hourly_data"
      ],
      "execution_count": 117,
      "outputs": [
        {
          "output_type": "execute_result",
          "data": {
            "text/html": [
              "<div>\n",
              "<style scoped>\n",
              "    .dataframe tbody tr th:only-of-type {\n",
              "        vertical-align: middle;\n",
              "    }\n",
              "\n",
              "    .dataframe tbody tr th {\n",
              "        vertical-align: top;\n",
              "    }\n",
              "\n",
              "    .dataframe thead th {\n",
              "        text-align: right;\n",
              "    }\n",
              "</style>\n",
              "<table border=\"1\" class=\"dataframe\">\n",
              "  <thead>\n",
              "    <tr style=\"text-align: right;\">\n",
              "      <th></th>\n",
              "      <th>longitude</th>\n",
              "      <th>latitude</th>\n",
              "    </tr>\n",
              "  </thead>\n",
              "  <tbody>\n",
              "    <tr>\n",
              "      <th>0</th>\n",
              "      <td>4.285</td>\n",
              "      <td>62.821</td>\n",
              "    </tr>\n",
              "    <tr>\n",
              "      <th>1</th>\n",
              "      <td>4.355</td>\n",
              "      <td>62.827</td>\n",
              "    </tr>\n",
              "    <tr>\n",
              "      <th>2</th>\n",
              "      <td>4.410</td>\n",
              "      <td>62.846</td>\n",
              "    </tr>\n",
              "    <tr>\n",
              "      <th>3</th>\n",
              "      <td>4.488</td>\n",
              "      <td>62.865</td>\n",
              "    </tr>\n",
              "    <tr>\n",
              "      <th>4</th>\n",
              "      <td>4.526</td>\n",
              "      <td>62.870</td>\n",
              "    </tr>\n",
              "    <tr>\n",
              "      <th>...</th>\n",
              "      <td>...</td>\n",
              "      <td>...</td>\n",
              "    </tr>\n",
              "    <tr>\n",
              "      <th>196</th>\n",
              "      <td>11.346</td>\n",
              "      <td>64.988</td>\n",
              "    </tr>\n",
              "    <tr>\n",
              "      <th>197</th>\n",
              "      <td>11.374</td>\n",
              "      <td>64.992</td>\n",
              "    </tr>\n",
              "    <tr>\n",
              "      <th>198</th>\n",
              "      <td>11.384</td>\n",
              "      <td>64.990</td>\n",
              "    </tr>\n",
              "    <tr>\n",
              "      <th>199</th>\n",
              "      <td>11.392</td>\n",
              "      <td>64.992</td>\n",
              "    </tr>\n",
              "    <tr>\n",
              "      <th>200</th>\n",
              "      <td>11.402</td>\n",
              "      <td>64.997</td>\n",
              "    </tr>\n",
              "  </tbody>\n",
              "</table>\n",
              "<p>201 rows × 2 columns</p>\n",
              "</div>"
            ],
            "text/plain": [
              "     longitude  latitude\n",
              "0        4.285    62.821\n",
              "1        4.355    62.827\n",
              "2        4.410    62.846\n",
              "3        4.488    62.865\n",
              "4        4.526    62.870\n",
              "..         ...       ...\n",
              "196     11.346    64.988\n",
              "197     11.374    64.992\n",
              "198     11.384    64.990\n",
              "199     11.392    64.992\n",
              "200     11.402    64.997\n",
              "\n",
              "[201 rows x 2 columns]"
            ]
          },
          "metadata": {
            "tags": []
          },
          "execution_count": 117
        }
      ]
    },
    {
      "cell_type": "markdown",
      "metadata": {
        "id": "uGlQTxjhJHuX"
      },
      "source": [
        "# Hourly Data Prediction"
      ]
    },
    {
      "cell_type": "code",
      "metadata": {
        "colab": {
          "base_uri": "https://localhost:8080/",
          "height": 438
        },
        "id": "IsZxF2LYQcyl",
        "outputId": "baeba931-4660-4a17-bd2d-2e38756fb217"
      },
      "source": [
        "## try hourly data\n",
        "\n",
        "\n",
        "# prepare data for lstm\n",
        "from pandas import read_csv\n",
        "from pandas import DataFrame\n",
        "from pandas import concat\n",
        "from sklearn.preprocessing import LabelEncoder\n",
        "from sklearn.preprocessing import MinMaxScaler\n",
        " \n",
        "# convert series to supervised learning\n",
        "def series_to_supervised(data, n_in=1, n_out=1, dropnan=True):\n",
        "\tn_vars = 1 if type(data) is list else data.shape[1]\n",
        "\tdf = DataFrame(data)\n",
        "\tcols, names = list(), list()\n",
        "\t# input sequence (t-n, ... t-1)\n",
        "\tfor i in range(n_in, 0, -1):\n",
        "\t\tcols.append(df.shift(i))\n",
        "\t\tnames += [('var%d(t-%d)' % (j+1, i)) for j in range(n_vars)]\n",
        "\t# forecast sequence (t, t+1, ... t+n)\n",
        "\tfor i in range(0, n_out):\n",
        "\t\tcols.append(df.shift(-i))\n",
        "\t\tif i == 0:\n",
        "\t\t\tnames += [('var%d(t)' % (j+1)) for j in range(n_vars)]\n",
        "\t\telse:\n",
        "\t\t\tnames += [('var%d(t+%d)' % (j+1, i)) for j in range(n_vars)]\n",
        "\t# put it all together\n",
        "\tagg = concat(cols, axis=1)\n",
        "\tagg.columns = names\n",
        "\t# drop rows with NaN values\n",
        "\tif dropnan:\n",
        "\t\tagg.dropna(inplace=True)\n",
        "\treturn agg\n",
        " \n",
        "\n",
        "NUM_TIME_STEPS_FORECASTS = 4\n",
        "# load dataset\n",
        "values = hourly_data.values\n",
        "# normalize features\n",
        "scaler = MinMaxScaler(feature_range=(0, 1))\n",
        "scaled = scaler.fit_transform(values)\n",
        "# frame as supervised learning\n",
        "reframed = series_to_supervised(scaled, 1, 2*NUM_TIME_STEPS_FORECASTS)\n",
        "# drop columns we don't want to predict\n",
        "# reframed.drop(reframed.columns[[2,3]], axis=1, inplace=True)\n",
        "reframed"
      ],
      "execution_count": 118,
      "outputs": [
        {
          "output_type": "execute_result",
          "data": {
            "text/html": [
              "<div>\n",
              "<style scoped>\n",
              "    .dataframe tbody tr th:only-of-type {\n",
              "        vertical-align: middle;\n",
              "    }\n",
              "\n",
              "    .dataframe tbody tr th {\n",
              "        vertical-align: top;\n",
              "    }\n",
              "\n",
              "    .dataframe thead th {\n",
              "        text-align: right;\n",
              "    }\n",
              "</style>\n",
              "<table border=\"1\" class=\"dataframe\">\n",
              "  <thead>\n",
              "    <tr style=\"text-align: right;\">\n",
              "      <th></th>\n",
              "      <th>var1(t-1)</th>\n",
              "      <th>var2(t-1)</th>\n",
              "      <th>var1(t)</th>\n",
              "      <th>var2(t)</th>\n",
              "      <th>var1(t+1)</th>\n",
              "      <th>var2(t+1)</th>\n",
              "      <th>var1(t+2)</th>\n",
              "      <th>var2(t+2)</th>\n",
              "      <th>var1(t+3)</th>\n",
              "      <th>var2(t+3)</th>\n",
              "      <th>var1(t+4)</th>\n",
              "      <th>var2(t+4)</th>\n",
              "      <th>var1(t+5)</th>\n",
              "      <th>var2(t+5)</th>\n",
              "      <th>var1(t+6)</th>\n",
              "      <th>var2(t+6)</th>\n",
              "      <th>var1(t+7)</th>\n",
              "      <th>var2(t+7)</th>\n",
              "    </tr>\n",
              "  </thead>\n",
              "  <tbody>\n",
              "    <tr>\n",
              "      <th>1</th>\n",
              "      <td>0.000000</td>\n",
              "      <td>0.000000</td>\n",
              "      <td>0.009836</td>\n",
              "      <td>0.002626</td>\n",
              "      <td>0.017564</td>\n",
              "      <td>0.010941</td>\n",
              "      <td>0.028523</td>\n",
              "      <td>0.019256</td>\n",
              "      <td>0.033863</td>\n",
              "      <td>0.021444</td>\n",
              "      <td>0.036392</td>\n",
              "      <td>0.025821</td>\n",
              "      <td>0.039764</td>\n",
              "      <td>0.020131</td>\n",
              "      <td>0.039061</td>\n",
              "      <td>0.020131</td>\n",
              "      <td>0.040466</td>\n",
              "      <td>0.021444</td>\n",
              "    </tr>\n",
              "    <tr>\n",
              "      <th>2</th>\n",
              "      <td>0.009836</td>\n",
              "      <td>0.002626</td>\n",
              "      <td>0.017564</td>\n",
              "      <td>0.010941</td>\n",
              "      <td>0.028523</td>\n",
              "      <td>0.019256</td>\n",
              "      <td>0.033863</td>\n",
              "      <td>0.021444</td>\n",
              "      <td>0.036392</td>\n",
              "      <td>0.025821</td>\n",
              "      <td>0.039764</td>\n",
              "      <td>0.020131</td>\n",
              "      <td>0.039061</td>\n",
              "      <td>0.020131</td>\n",
              "      <td>0.040466</td>\n",
              "      <td>0.021444</td>\n",
              "      <td>0.037516</td>\n",
              "      <td>0.024070</td>\n",
              "    </tr>\n",
              "    <tr>\n",
              "      <th>3</th>\n",
              "      <td>0.017564</td>\n",
              "      <td>0.010941</td>\n",
              "      <td>0.028523</td>\n",
              "      <td>0.019256</td>\n",
              "      <td>0.033863</td>\n",
              "      <td>0.021444</td>\n",
              "      <td>0.036392</td>\n",
              "      <td>0.025821</td>\n",
              "      <td>0.039764</td>\n",
              "      <td>0.020131</td>\n",
              "      <td>0.039061</td>\n",
              "      <td>0.020131</td>\n",
              "      <td>0.040466</td>\n",
              "      <td>0.021444</td>\n",
              "      <td>0.037516</td>\n",
              "      <td>0.024070</td>\n",
              "      <td>0.033441</td>\n",
              "      <td>0.023195</td>\n",
              "    </tr>\n",
              "    <tr>\n",
              "      <th>4</th>\n",
              "      <td>0.028523</td>\n",
              "      <td>0.019256</td>\n",
              "      <td>0.033863</td>\n",
              "      <td>0.021444</td>\n",
              "      <td>0.036392</td>\n",
              "      <td>0.025821</td>\n",
              "      <td>0.039764</td>\n",
              "      <td>0.020131</td>\n",
              "      <td>0.039061</td>\n",
              "      <td>0.020131</td>\n",
              "      <td>0.040466</td>\n",
              "      <td>0.021444</td>\n",
              "      <td>0.037516</td>\n",
              "      <td>0.024070</td>\n",
              "      <td>0.033441</td>\n",
              "      <td>0.023195</td>\n",
              "      <td>0.028804</td>\n",
              "      <td>0.030197</td>\n",
              "    </tr>\n",
              "    <tr>\n",
              "      <th>5</th>\n",
              "      <td>0.033863</td>\n",
              "      <td>0.021444</td>\n",
              "      <td>0.036392</td>\n",
              "      <td>0.025821</td>\n",
              "      <td>0.039764</td>\n",
              "      <td>0.020131</td>\n",
              "      <td>0.039061</td>\n",
              "      <td>0.020131</td>\n",
              "      <td>0.040466</td>\n",
              "      <td>0.021444</td>\n",
              "      <td>0.037516</td>\n",
              "      <td>0.024070</td>\n",
              "      <td>0.033441</td>\n",
              "      <td>0.023195</td>\n",
              "      <td>0.028804</td>\n",
              "      <td>0.030197</td>\n",
              "      <td>0.028945</td>\n",
              "      <td>0.033698</td>\n",
              "    </tr>\n",
              "    <tr>\n",
              "      <th>...</th>\n",
              "      <td>...</td>\n",
              "      <td>...</td>\n",
              "      <td>...</td>\n",
              "      <td>...</td>\n",
              "      <td>...</td>\n",
              "      <td>...</td>\n",
              "      <td>...</td>\n",
              "      <td>...</td>\n",
              "      <td>...</td>\n",
              "      <td>...</td>\n",
              "      <td>...</td>\n",
              "      <td>...</td>\n",
              "      <td>...</td>\n",
              "      <td>...</td>\n",
              "      <td>...</td>\n",
              "      <td>...</td>\n",
              "      <td>...</td>\n",
              "      <td>...</td>\n",
              "    </tr>\n",
              "    <tr>\n",
              "      <th>189</th>\n",
              "      <td>0.975130</td>\n",
              "      <td>0.964114</td>\n",
              "      <td>0.978221</td>\n",
              "      <td>0.957549</td>\n",
              "      <td>0.978081</td>\n",
              "      <td>0.954486</td>\n",
              "      <td>0.981593</td>\n",
              "      <td>0.953173</td>\n",
              "      <td>0.981874</td>\n",
              "      <td>0.953611</td>\n",
              "      <td>0.986652</td>\n",
              "      <td>0.950985</td>\n",
              "      <td>0.991710</td>\n",
              "      <td>0.946608</td>\n",
              "      <td>0.990586</td>\n",
              "      <td>0.949234</td>\n",
              "      <td>0.992132</td>\n",
              "      <td>0.948359</td>\n",
              "    </tr>\n",
              "    <tr>\n",
              "      <th>190</th>\n",
              "      <td>0.978221</td>\n",
              "      <td>0.957549</td>\n",
              "      <td>0.978081</td>\n",
              "      <td>0.954486</td>\n",
              "      <td>0.981593</td>\n",
              "      <td>0.953173</td>\n",
              "      <td>0.981874</td>\n",
              "      <td>0.953611</td>\n",
              "      <td>0.986652</td>\n",
              "      <td>0.950985</td>\n",
              "      <td>0.991710</td>\n",
              "      <td>0.946608</td>\n",
              "      <td>0.990586</td>\n",
              "      <td>0.949234</td>\n",
              "      <td>0.992132</td>\n",
              "      <td>0.948359</td>\n",
              "      <td>0.996066</td>\n",
              "      <td>0.950109</td>\n",
              "    </tr>\n",
              "    <tr>\n",
              "      <th>191</th>\n",
              "      <td>0.978081</td>\n",
              "      <td>0.954486</td>\n",
              "      <td>0.981593</td>\n",
              "      <td>0.953173</td>\n",
              "      <td>0.981874</td>\n",
              "      <td>0.953611</td>\n",
              "      <td>0.986652</td>\n",
              "      <td>0.950985</td>\n",
              "      <td>0.991710</td>\n",
              "      <td>0.946608</td>\n",
              "      <td>0.990586</td>\n",
              "      <td>0.949234</td>\n",
              "      <td>0.992132</td>\n",
              "      <td>0.948359</td>\n",
              "      <td>0.996066</td>\n",
              "      <td>0.950109</td>\n",
              "      <td>0.997471</td>\n",
              "      <td>0.949234</td>\n",
              "    </tr>\n",
              "    <tr>\n",
              "      <th>192</th>\n",
              "      <td>0.981593</td>\n",
              "      <td>0.953173</td>\n",
              "      <td>0.981874</td>\n",
              "      <td>0.953611</td>\n",
              "      <td>0.986652</td>\n",
              "      <td>0.950985</td>\n",
              "      <td>0.991710</td>\n",
              "      <td>0.946608</td>\n",
              "      <td>0.990586</td>\n",
              "      <td>0.949234</td>\n",
              "      <td>0.992132</td>\n",
              "      <td>0.948359</td>\n",
              "      <td>0.996066</td>\n",
              "      <td>0.950109</td>\n",
              "      <td>0.997471</td>\n",
              "      <td>0.949234</td>\n",
              "      <td>0.998595</td>\n",
              "      <td>0.950109</td>\n",
              "    </tr>\n",
              "    <tr>\n",
              "      <th>193</th>\n",
              "      <td>0.981874</td>\n",
              "      <td>0.953611</td>\n",
              "      <td>0.986652</td>\n",
              "      <td>0.950985</td>\n",
              "      <td>0.991710</td>\n",
              "      <td>0.946608</td>\n",
              "      <td>0.990586</td>\n",
              "      <td>0.949234</td>\n",
              "      <td>0.992132</td>\n",
              "      <td>0.948359</td>\n",
              "      <td>0.996066</td>\n",
              "      <td>0.950109</td>\n",
              "      <td>0.997471</td>\n",
              "      <td>0.949234</td>\n",
              "      <td>0.998595</td>\n",
              "      <td>0.950109</td>\n",
              "      <td>1.000000</td>\n",
              "      <td>0.952298</td>\n",
              "    </tr>\n",
              "  </tbody>\n",
              "</table>\n",
              "<p>193 rows × 18 columns</p>\n",
              "</div>"
            ],
            "text/plain": [
              "     var1(t-1)  var2(t-1)   var1(t)  ...  var2(t+6)  var1(t+7)  var2(t+7)\n",
              "1     0.000000   0.000000  0.009836  ...   0.020131   0.040466   0.021444\n",
              "2     0.009836   0.002626  0.017564  ...   0.021444   0.037516   0.024070\n",
              "3     0.017564   0.010941  0.028523  ...   0.024070   0.033441   0.023195\n",
              "4     0.028523   0.019256  0.033863  ...   0.023195   0.028804   0.030197\n",
              "5     0.033863   0.021444  0.036392  ...   0.030197   0.028945   0.033698\n",
              "..         ...        ...       ...  ...        ...        ...        ...\n",
              "189   0.975130   0.964114  0.978221  ...   0.949234   0.992132   0.948359\n",
              "190   0.978221   0.957549  0.978081  ...   0.948359   0.996066   0.950109\n",
              "191   0.978081   0.954486  0.981593  ...   0.950109   0.997471   0.949234\n",
              "192   0.981593   0.953173  0.981874  ...   0.949234   0.998595   0.950109\n",
              "193   0.981874   0.953611  0.986652  ...   0.950109   1.000000   0.952298\n",
              "\n",
              "[193 rows x 18 columns]"
            ]
          },
          "metadata": {
            "tags": []
          },
          "execution_count": 118
        }
      ]
    },
    {
      "cell_type": "code",
      "metadata": {
        "colab": {
          "base_uri": "https://localhost:8080/"
        },
        "id": "abUMN9VkQzQI",
        "outputId": "0da8365d-e333-4141-caee-588a384b7217"
      },
      "source": [
        "int(reframed.shape[0])"
      ],
      "execution_count": 64,
      "outputs": [
        {
          "output_type": "execute_result",
          "data": {
            "text/plain": [
              "193"
            ]
          },
          "metadata": {
            "tags": []
          },
          "execution_count": 64
        }
      ]
    },
    {
      "cell_type": "code",
      "metadata": {
        "colab": {
          "base_uri": "https://localhost:8080/"
        },
        "id": "qVDb_kzEQueF",
        "outputId": "174c020a-5920-4ee2-a6b6-93873db6fb77"
      },
      "source": [
        "# split into train and test sets\n",
        "values = reframed.values\n",
        "n_train_days = int(0.8*reframed.shape[0])\n",
        "train = values[:n_train_days, :]\n",
        "test = values[n_train_days:, :]\n",
        "# split into input and outputs with sliding window cross val\n",
        "train_X1, train_y1 = train[:, :2], train[:,8:10]\n",
        "test_X1, test_y1 = test[:, :2], test[:, 8:10]\n",
        "\n",
        "train_X2, train_y2 = train[:, 2:4], train[:, 10:12]\n",
        "test_X2, test_y2 = test[:, 2:4], test[:, 10:12]\n",
        "\n",
        "train_X3, train_y3 = train[:, 4:6], train[:, 12:14]\n",
        "test_X3, test_y3 = test[:, 4:6], test[:, 12:14]\n",
        "\n",
        "train_X4, train_y4 = train[:, 6:8], train[:, 14:16]\n",
        "test_X4, test_y4 = test[:, 6:8], test[:, 14:16]\n",
        "\n",
        "train_X5, train_y5 = train[:, 8:10], train[:, 16:18]\n",
        "test_X5, test_y5 = test[:, 8:10], test[:, 16:18]\n",
        "\n",
        "\n",
        "train_X1.shape\n"
      ],
      "execution_count": 141,
      "outputs": [
        {
          "output_type": "execute_result",
          "data": {
            "text/plain": [
              "(154, 2)"
            ]
          },
          "metadata": {
            "tags": []
          },
          "execution_count": 141
        }
      ]
    },
    {
      "cell_type": "code",
      "metadata": {
        "id": "GP1Q9aFrjIA-"
      },
      "source": [
        "\n",
        "# reshape input to be 3D [samples, timesteps, features]\n",
        "train_X1 = train_X1.reshape((train_X1.shape[0], 1, train_X1.shape[1]))\n",
        "test_X1 = test_X1.reshape((test_X1.shape[0], 1, test_X1.shape[1]))\n",
        "\n",
        "train_X2 = train_X2.reshape((train_X2.shape[0], 1, train_X2.shape[1]))\n",
        "test_X2 = test_X2.reshape((test_X2.shape[0], 1, test_X2.shape[1]))\n",
        "\n",
        "train_X3 = train_X3.reshape((train_X3.shape[0], 1, train_X3.shape[1]))\n",
        "test_X3 = test_X3.reshape((test_X3.shape[0], 1, test_X3.shape[1]))\n",
        "\n",
        "train_X4 = train_X4.reshape((train_X4.shape[0], 1, train_X4.shape[1]))\n",
        "test_X4 = test_X4.reshape((test_X4.shape[0], 1, test_X4.shape[1]))\n",
        "\n",
        "train_X5 = train_X5.reshape((train_X5.shape[0], 1, train_X5.shape[1]))\n",
        "test_X5 = test_X5.reshape((test_X5.shape[0], 1, test_X5.shape[1]))\n",
        "\n",
        "# print(train_X.shape, train_y.shape, test_X.shape, test_y.shape)"
      ],
      "execution_count": 142,
      "outputs": []
    },
    {
      "cell_type": "code",
      "metadata": {
        "id": "iMagIg8L34hg"
      },
      "source": [
        "# train set\n",
        "input_1 = train_X1\n",
        "output_1 = train_y1\n",
        "\n",
        "# validation set\n",
        "input_2 = test_X1\n",
        "output_2 = test_y1\n"
      ],
      "execution_count": 143,
      "outputs": []
    },
    {
      "cell_type": "code",
      "metadata": {
        "colab": {
          "base_uri": "https://localhost:8080/",
          "height": 1000
        },
        "id": "4R74ZgPFRR3o",
        "outputId": "9d713380-5d54-4063-d07c-ce3810a406a0"
      },
      "source": [
        "model = Sequential()\n",
        "model.add(LSTM(300, input_shape=(input_1.shape[1], input_1.shape[2])))\n",
        "model.add(Dropout(0.1))\n",
        "# model.add(LSTM(25, input_shape=(train_X.shape[1], train_X.shape[2])))\n",
        "model.add(Dense(2, activation=\"relu\"))\n",
        "model.compile(loss='mae', optimizer='adam')\n",
        "# fit network\n",
        "history = model.fit(input_1, output_1, epochs=30, batch_size=8, validation_data=(input_2, output_2), verbose=2, shuffle=False)\n",
        "# plot history\n",
        "pyplot.plot(history.history['loss'], label='train')\n",
        "pyplot.plot(history.history['val_loss'], label='test')\n",
        "pyplot.legend()\n",
        "pyplot.show()"
      ],
      "execution_count": 144,
      "outputs": [
        {
          "output_type": "stream",
          "text": [
            "Epoch 1/30\n",
            "20/20 - 3s - loss: 0.2737 - val_loss: 0.6760\n",
            "Epoch 2/30\n",
            "20/20 - 0s - loss: 0.1410 - val_loss: 0.3437\n",
            "Epoch 3/30\n",
            "20/20 - 0s - loss: 0.1108 - val_loss: 0.1973\n",
            "Epoch 4/30\n",
            "20/20 - 0s - loss: 0.0993 - val_loss: 0.1590\n",
            "Epoch 5/30\n",
            "20/20 - 0s - loss: 0.0806 - val_loss: 0.1414\n",
            "Epoch 6/30\n",
            "20/20 - 0s - loss: 0.0682 - val_loss: 0.1425\n",
            "Epoch 7/30\n",
            "20/20 - 0s - loss: 0.0523 - val_loss: 0.0786\n",
            "Epoch 8/30\n",
            "20/20 - 0s - loss: 0.0500 - val_loss: 0.0695\n",
            "Epoch 9/30\n",
            "20/20 - 0s - loss: 0.0415 - val_loss: 0.0531\n",
            "Epoch 10/30\n",
            "20/20 - 0s - loss: 0.0532 - val_loss: 0.0612\n",
            "Epoch 11/30\n",
            "20/20 - 0s - loss: 0.0457 - val_loss: 0.0344\n",
            "Epoch 12/30\n",
            "20/20 - 0s - loss: 0.0659 - val_loss: 0.0290\n",
            "Epoch 13/30\n",
            "20/20 - 0s - loss: 0.0514 - val_loss: 0.0465\n",
            "Epoch 14/30\n",
            "20/20 - 0s - loss: 0.0701 - val_loss: 0.0324\n",
            "Epoch 15/30\n",
            "20/20 - 0s - loss: 0.0447 - val_loss: 0.0616\n",
            "Epoch 16/30\n",
            "20/20 - 0s - loss: 0.0546 - val_loss: 0.0399\n",
            "Epoch 17/30\n",
            "20/20 - 0s - loss: 0.0428 - val_loss: 0.0393\n",
            "Epoch 18/30\n",
            "20/20 - 0s - loss: 0.0589 - val_loss: 0.0292\n",
            "Epoch 19/30\n",
            "20/20 - 0s - loss: 0.0429 - val_loss: 0.0427\n",
            "Epoch 20/30\n",
            "20/20 - 0s - loss: 0.0559 - val_loss: 0.0336\n",
            "Epoch 21/30\n",
            "20/20 - 0s - loss: 0.0459 - val_loss: 0.0389\n",
            "Epoch 22/30\n",
            "20/20 - 0s - loss: 0.0598 - val_loss: 0.0294\n",
            "Epoch 23/30\n",
            "20/20 - 0s - loss: 0.0462 - val_loss: 0.0557\n",
            "Epoch 24/30\n",
            "20/20 - 0s - loss: 0.0527 - val_loss: 0.0367\n",
            "Epoch 25/30\n",
            "20/20 - 0s - loss: 0.0400 - val_loss: 0.0475\n",
            "Epoch 26/30\n",
            "20/20 - 0s - loss: 0.0530 - val_loss: 0.0322\n",
            "Epoch 27/30\n",
            "20/20 - 0s - loss: 0.0403 - val_loss: 0.0401\n",
            "Epoch 28/30\n",
            "20/20 - 0s - loss: 0.0534 - val_loss: 0.0320\n",
            "Epoch 29/30\n",
            "20/20 - 0s - loss: 0.0402 - val_loss: 0.0434\n",
            "Epoch 30/30\n",
            "20/20 - 0s - loss: 0.0520 - val_loss: 0.0433\n"
          ],
          "name": "stdout"
        },
        {
          "output_type": "display_data",
          "data": {
            "image/png": "[encoded data removed]",
            "text/plain": [
              "<Figure size 432x288 with 1 Axes>"
            ]
          },
          "metadata": {
            "tags": [],
            "needs_background": "light"
          }
        }
      ]
    },
    {
      "cell_type": "code",
      "metadata": {
        "colab": {
          "base_uri": "https://localhost:8080/"
        },
        "id": "wvwexGAlRgkY",
        "outputId": "0cd5a051-91d0-49d4-f657-26fe169b6b56"
      },
      "source": [
        "# make prediction\n",
        "\n",
        "yhat = model.predict(input_2)\n",
        "input_2 = input_2.reshape((input_2.shape[0], input_2.shape[2]))\n",
        "# # invert scaling for forecast\n",
        "inv_yhat = concatenate((yhat, input_2[:, 2:]), axis=1)\n",
        "inv_yhat = scaler.inverse_transform(inv_yhat)\n",
        "# inv_yhat = inv_yhat[:,2]\n",
        "# # invert scaling for actual\n",
        "output_2 = output_2.reshape((len(output_2), 2))\n",
        "inv_y = concatenate((output_2, input_2[:, 2:]), axis=1)\n",
        "inv_y = scaler.inverse_transform(inv_y)\n",
        "# inv_y = inv_y[:,0]\n",
        "# # calculate RMSE\n",
        "rmse = sqrt(mean_squared_error(inv_y, inv_yhat))\n",
        "print('Test RMSE: %.3f' % rmse)"
      ],
      "execution_count": 145,
      "outputs": [
        {
          "output_type": "stream",
          "text": [
            "WARNING:tensorflow:6 out of the last 11 calls to <function Model.make_predict_function.<locals>.predict_function at 0x7fc07cba2440> triggered tf.function retracing. Tracing is expensive and the excessive number of tracings could be due to (1) creating @tf.function repeatedly in a loop, (2) passing tensors with different shapes, (3) passing Python objects instead of tensors. For (1), please define your @tf.function outside of the loop. For (2), @tf.function has experimental_relax_shapes=True option that relaxes argument shapes that can avoid unnecessary retracing. For (3), please refer to https://www.tensorflow.org/guide/function#controlling_retracing and https://www.tensorflow.org/api_docs/python/tf/function for  more details.\n",
            "Test RMSE: 0.277\n"
          ],
          "name": "stdout"
        }
      ]
    },
    {
      "cell_type": "code",
      "metadata": {
        "colab": {
          "base_uri": "https://localhost:8080/",
          "height": 282
        },
        "id": "FUfRmakJRiQo",
        "outputId": "afd3b853-08a3-4994-b2a7-8f01c0db5607"
      },
      "source": [
        "plt.plot(inv_y[:,0], inv_y[:,1], \"r-o\")\n",
        "plt.plot(inv_yhat[:,0], inv_yhat[:,1], 'b-o')"
      ],
      "execution_count": 146,
      "outputs": [
        {
          "output_type": "execute_result",
          "data": {
            "text/plain": [
              "[<matplotlib.lines.Line2D at 0x7fc081693350>]"
            ]
          },
          "metadata": {
            "tags": []
          },
          "execution_count": 146
        },
        {
          "output_type": "display_data",
          "data": {
            "image/png": "[encoded data removed]",
            "text/plain": [
              "<Figure size 432x288 with 1 Axes>"
            ]
          },
          "metadata": {
            "tags": [],
            "needs_background": "light"
          }
        }
      ]
    },
    {
      "cell_type": "code",
      "metadata": {
        "colab": {
          "base_uri": "https://localhost:8080/"
        },
        "id": "HOt9pl44ZkQV",
        "outputId": "dc73b8cd-efbe-4a8c-ffcd-b2ffed65500c"
      },
      "source": [
        "\n",
        "# print(inv_yhat)\n",
        "\n",
        "real_lon = []\n",
        "real_lat = []\n",
        "\n",
        "pred_lon = []\n",
        "pred_lat = []\n",
        "\n",
        "for i in range(inv_y.shape[0]):\n",
        "  real_lon.append(inv_y[i][0])\n",
        "  real_lat.append(inv_y[i][1])\n",
        "  \n",
        "  pred_lon.append(inv_yhat[i][0])\n",
        "  pred_lat.append(inv_yhat[i][1])\n",
        "\n",
        "print(len(real_lat))"
      ],
      "execution_count": 147,
      "outputs": [
        {
          "output_type": "stream",
          "text": [
            "39\n"
          ],
          "name": "stdout"
        }
      ]
    },
    {
      "cell_type": "code",
      "metadata": {
        "id": "aFdNMGn2LYon"
      },
      "source": [
        "# data"
      ],
      "execution_count": 72,
      "outputs": []
    },
    {
      "cell_type": "code",
      "metadata": {
        "colab": {
          "base_uri": "https://localhost:8080/"
        },
        "id": "kcodMg83Kwo7",
        "outputId": "c892bb37-6612-4599-e3cf-32d90a3b2c28"
      },
      "source": [
        "test_data = data.copy()\n",
        "test_data = test_data[n_train_days:-2*NUM_TIME_STEPS_FORECASTS]\n",
        "test_data.shape"
      ],
      "execution_count": 148,
      "outputs": [
        {
          "output_type": "execute_result",
          "data": {
            "text/plain": [
              "(39, 6)"
            ]
          },
          "metadata": {
            "tags": []
          },
          "execution_count": 148
        }
      ]
    },
    {
      "cell_type": "code",
      "metadata": {
        "id": "z7585QlJLxcl"
      },
      "source": [
        "pred_data = test_data.copy()\n",
        "# pred_data"
      ],
      "execution_count": 150,
      "outputs": []
    },
    {
      "cell_type": "code",
      "metadata": {
        "id": "8wARhCdQMOYh"
      },
      "source": [
        "pred_data['drifter_index'] = 123\n",
        "pred_data['longitude'] = pred_lon\n",
        "pred_data['latitude'] = pred_lat\n",
        "\n",
        "# pred_data"
      ],
      "execution_count": 151,
      "outputs": []
    },
    {
      "cell_type": "code",
      "metadata": {
        "colab": {
          "base_uri": "https://localhost:8080/",
          "height": 402
        },
        "id": "YOyViUShNGyV",
        "outputId": "6bca038a-aad3-4367-a6f8-1b2b363196ef"
      },
      "source": [
        "plot_data = pd.concat([test_data, pred_data])\n",
        "plot_data"
      ],
      "execution_count": 153,
      "outputs": [
        {
          "output_type": "execute_result",
          "data": {
            "text/html": [
              "<div>\n",
              "<style scoped>\n",
              "    .dataframe tbody tr th:only-of-type {\n",
              "        vertical-align: middle;\n",
              "    }\n",
              "\n",
              "    .dataframe tbody tr th {\n",
              "        vertical-align: top;\n",
              "    }\n",
              "\n",
              "    .dataframe thead th {\n",
              "        text-align: right;\n",
              "    }\n",
              "</style>\n",
              "<table border=\"1\" class=\"dataframe\">\n",
              "  <thead>\n",
              "    <tr style=\"text-align: right;\">\n",
              "      <th></th>\n",
              "      <th>L</th>\n",
              "      <th>drifter_index</th>\n",
              "      <th>time</th>\n",
              "      <th>longitude</th>\n",
              "      <th>latitude</th>\n",
              "      <th>sea_surface_temperature</th>\n",
              "    </tr>\n",
              "  </thead>\n",
              "  <tbody>\n",
              "    <tr>\n",
              "      <th>154</th>\n",
              "      <td>154</td>\n",
              "      <td>46320.0</td>\n",
              "      <td>2007-08-02 06:00:00</td>\n",
              "      <td>10.447000</td>\n",
              "      <td>64.725000</td>\n",
              "      <td>285.858</td>\n",
              "    </tr>\n",
              "    <tr>\n",
              "      <th>155</th>\n",
              "      <td>155</td>\n",
              "      <td>46320.0</td>\n",
              "      <td>2007-08-02 12:00:00</td>\n",
              "      <td>10.404000</td>\n",
              "      <td>64.756000</td>\n",
              "      <td>286.291</td>\n",
              "    </tr>\n",
              "    <tr>\n",
              "      <th>156</th>\n",
              "      <td>156</td>\n",
              "      <td>46320.0</td>\n",
              "      <td>2007-08-02 18:00:00</td>\n",
              "      <td>10.414000</td>\n",
              "      <td>64.773000</td>\n",
              "      <td>286.123</td>\n",
              "    </tr>\n",
              "    <tr>\n",
              "      <th>157</th>\n",
              "      <td>157</td>\n",
              "      <td>46320.0</td>\n",
              "      <td>2007-08-03 00:00:00</td>\n",
              "      <td>10.373000</td>\n",
              "      <td>64.784000</td>\n",
              "      <td>286.028</td>\n",
              "    </tr>\n",
              "    <tr>\n",
              "      <th>158</th>\n",
              "      <td>158</td>\n",
              "      <td>46320.0</td>\n",
              "      <td>2007-08-03 06:00:00</td>\n",
              "      <td>10.430000</td>\n",
              "      <td>64.809000</td>\n",
              "      <td>285.917</td>\n",
              "    </tr>\n",
              "    <tr>\n",
              "      <th>...</th>\n",
              "      <td>...</td>\n",
              "      <td>...</td>\n",
              "      <td>...</td>\n",
              "      <td>...</td>\n",
              "      <td>...</td>\n",
              "      <td>...</td>\n",
              "    </tr>\n",
              "    <tr>\n",
              "      <th>188</th>\n",
              "      <td>188</td>\n",
              "      <td>123.0</td>\n",
              "      <td>2007-08-10 18:00:00</td>\n",
              "      <td>11.617469</td>\n",
              "      <td>65.034799</td>\n",
              "      <td>286.732</td>\n",
              "    </tr>\n",
              "    <tr>\n",
              "      <th>189</th>\n",
              "      <td>189</td>\n",
              "      <td>123.0</td>\n",
              "      <td>2007-08-11 00:00:00</td>\n",
              "      <td>11.615720</td>\n",
              "      <td>65.027910</td>\n",
              "      <td>286.711</td>\n",
              "    </tr>\n",
              "    <tr>\n",
              "      <th>190</th>\n",
              "      <td>190</td>\n",
              "      <td>123.0</td>\n",
              "      <td>2007-08-11 06:00:00</td>\n",
              "      <td>11.607242</td>\n",
              "      <td>65.023141</td>\n",
              "      <td>286.791</td>\n",
              "    </tr>\n",
              "    <tr>\n",
              "      <th>191</th>\n",
              "      <td>191</td>\n",
              "      <td>123.0</td>\n",
              "      <td>2007-08-11 12:00:00</td>\n",
              "      <td>11.620901</td>\n",
              "      <td>65.024605</td>\n",
              "      <td>287.075</td>\n",
              "    </tr>\n",
              "    <tr>\n",
              "      <th>192</th>\n",
              "      <td>192</td>\n",
              "      <td>123.0</td>\n",
              "      <td>2007-08-11 18:00:00</td>\n",
              "      <td>11.623376</td>\n",
              "      <td>65.025543</td>\n",
              "      <td>287.478</td>\n",
              "    </tr>\n",
              "  </tbody>\n",
              "</table>\n",
              "<p>78 rows × 6 columns</p>\n",
              "</div>"
            ],
            "text/plain": [
              "       L  drifter_index  ...   latitude  sea_surface_temperature\n",
              "154  154        46320.0  ...  64.725000                  285.858\n",
              "155  155        46320.0  ...  64.756000                  286.291\n",
              "156  156        46320.0  ...  64.773000                  286.123\n",
              "157  157        46320.0  ...  64.784000                  286.028\n",
              "158  158        46320.0  ...  64.809000                  285.917\n",
              "..   ...            ...  ...        ...                      ...\n",
              "188  188          123.0  ...  65.034799                  286.732\n",
              "189  189          123.0  ...  65.027910                  286.711\n",
              "190  190          123.0  ...  65.023141                  286.791\n",
              "191  191          123.0  ...  65.024605                  287.075\n",
              "192  192          123.0  ...  65.025543                  287.478\n",
              "\n",
              "[78 rows x 6 columns]"
            ]
          },
          "metadata": {
            "tags": []
          },
          "execution_count": 153
        }
      ]
    },
    {
      "cell_type": "markdown",
      "metadata": {
        "id": "yaV-sXvbFBNH"
      },
      "source": [
        "## For Ploting"
      ]
    },
    {
      "cell_type": "code",
      "metadata": {
        "id": "wKwaV4PFE-7u"
      },
      "source": [
        "import numpy as np                   # for multi-dimensional containers \n",
        "import pandas as pd                  # for DataFrames\n",
        "import plotly.graph_objects as go    # for data visualisation\n",
        "import plotly.express as px\n",
        "\n",
        "path_to_key = '/content/drive/My Drive/Projects/MapBox/mapboxkey.txt'\n",
        "\n",
        "with open(path_to_key) as f:\n",
        "    contents = f.readlines()\n",
        "\n",
        "access_token = contents[0]\n",
        "px.set_mapbox_access_token(access_token)"
      ],
      "execution_count": 154,
      "outputs": []
    },
    {
      "cell_type": "code",
      "metadata": {
        "id": "pBxh2YVGH1rG"
      },
      "source": [
        "plot_data['size'] = 1"
      ],
      "execution_count": 155,
      "outputs": []
    },
    {
      "cell_type": "code",
      "metadata": {
        "colab": {
          "base_uri": "https://localhost:8080/",
          "height": 542
        },
        "id": "uIUyXpNF35RI",
        "outputId": "e9073449-c99c-49f3-8126-df2999518f14"
      },
      "source": [
        "fig = px.scatter_mapbox(\n",
        "    plot_data, lat=\"latitude\", lon=\"longitude\",\n",
        "    size=\"size\", size_max=5,\n",
        "    color=\"drifter_index\", color_continuous_scale=px.colors.sequential.Pinkyl,\n",
        "    hover_name=\"longitude\",           \n",
        "    mapbox_style='dark', zoom=5\n",
        ")\n",
        "\n",
        "fig.layout.coloraxis.showscale = False\n",
        "\n",
        "fig.show()"
      ],
      "execution_count": 156,
      "outputs": [
        {
          "output_type": "display_data",
          "data": {
            "text/html": [
              "<html>\n",
              "<head><meta charset=\"utf-8\" /></head>\n",
              "<body>\n",
              "    <div>\n",
              "            <script src=\"https://cdnjs.cloudflare.com/ajax/libs/mathjax/2.7.5/MathJax.js?config=TeX-AMS-MML_SVG\"></script><script type=\"text/javascript\">if (window.MathJax) {MathJax.Hub.Config({SVG: {font: \"STIX-Web\"}});}</script>\n",
              "                <script type=\"text/javascript\">window.PlotlyConfig = {MathJaxConfig: 'local'};</script>\n",
              "        <script src=\"https://cdn.plot.ly/plotly-latest.min.js\"></script>    \n",
              "            <div id=\"c90da01d-d14c-4b1e-9dbb-2612982848da\" class=\"plotly-graph-div\" style=\"height:525px; width:100%;\"></div>\n",
              "            <script type=\"text/javascript\">\n",
              "                \n",
              "                    window.PLOTLYENV=window.PLOTLYENV || {};\n",
              "                    \n",
              "                if (document.getElementById(\"c90da01d-d14c-4b1e-9dbb-2612982848da\")) {\n",
              "                    Plotly.newPlot(\n",
              "                        'c90da01d-d14c-4b1e-9dbb-2612982848da',\n",
              "                        [{\"hoverlabel\": {\"namelength\": 0}, \"hovertemplate\": \"<b>%{hovertext}</b><br><br>size=%{marker.size}<br>latitude=%{lat}<br>longitude=%{lon}<br>drifter_index=%{marker.color}\", \"hovertext\": [10.447000000000001, 10.404000000000002, 10.414000000000001, 10.373, 10.43, 10.467, 10.463, 10.495999999999999, 10.481, 10.484000000000002, 10.517000000000001, 10.527000000000001, 10.557, 10.593, 10.671, 10.692, 10.762, 10.773, 10.856, 10.835999999999999, 10.862, 10.874, 10.937000000000001, 10.925, 10.944, 10.966, 11.036, 11.065999999999999, 11.11, 11.158, 11.220999999999998, 11.241, 11.251, 11.234000000000002, 11.225, 11.247, 11.245999999999999, 11.270999999999999, 11.273, 10.758509226977827, 10.76367733180523, 10.789203094899657, 10.773646178841592, 10.839790539443495, 10.867017793834211, 10.886425230085852, 10.920914047181608, 10.95060169786215, 10.979202956318858, 11.04807496315241, 11.068150100052359, 11.113980495631697, 11.158347379624844, 11.241213526666167, 11.268789902806283, 11.318508997142317, 11.332645246446134, 11.395663631141188, 11.382083092033865, 11.413087054729463, 11.420123788118364, 11.46180374968052, 11.45142596781254, 11.468784487843514, 11.490411371231081, 11.556918428182604, 11.58622768688202, 11.628407363414766, 11.663288147091867, 11.694998413205148, 11.689651717543605, 11.679731230020526, 11.634730581879618, 11.617468780875209, 11.615720202684404, 11.607242016434672, 11.620901457905772, 11.62337627720833], \"lat\": [64.725, 64.756, 64.773, 64.78399999999999, 64.809, 64.811, 64.831, 64.842, 64.878, 64.902, 64.944, 64.956, 64.979, 64.997, 65.024, 65.036, 65.038, 65.044, 65.05, 65.05, 65.062, 65.061, 65.06, 65.058, 65.062, 65.068, 65.085, 65.093, 65.104, 65.10600000000001, 65.096, 65.079, 65.064, 65.03399999999999, 65.024, 65.009, 65.002, 64.999, 65.0, 64.73252232795954, 64.74686873441935, 64.75927488392593, 64.7608912653327, 64.7848754889369, 64.79118956393005, 64.80368805474043, 64.8153421265483, 64.83681529319287, 64.85291196233035, 64.8849026400447, 64.89413213974238, 64.91331761187315, 64.9300635302663, 64.95851146167517, 64.96929414755107, 64.9802348214984, 64.98570257073642, 65.00108597820999, 64.99833153790236, 65.0098329333067, 65.01082703238727, 65.01885473316909, 65.01587829238177, 65.02114174669981, 65.02814306980372, 65.04905728554726, 65.05850292927028, 65.07188097780944, 65.07985651528836, 65.08195489650966, 65.07344955420494, 65.06488973325492, 65.04266244596243, 65.03479872590304, 65.0279096288085, 65.0231407043934, 65.02460522657634, 65.02554334884883], \"legendgroup\": \"\", \"lon\": [10.447000000000001, 10.404000000000002, 10.414000000000001, 10.373, 10.43, 10.467, 10.463, 10.495999999999999, 10.481, 10.484000000000002, 10.517000000000001, 10.527000000000001, 10.557, 10.593, 10.671, 10.692, 10.762, 10.773, 10.856, 10.835999999999999, 10.862, 10.874, 10.937000000000001, 10.925, 10.944, 10.966, 11.036, 11.065999999999999, 11.11, 11.158, 11.220999999999998, 11.241, 11.251, 11.234000000000002, 11.225, 11.247, 11.245999999999999, 11.270999999999999, 11.273, 10.758509226977827, 10.76367733180523, 10.789203094899657, 10.773646178841592, 10.839790539443495, 10.867017793834211, 10.886425230085852, 10.920914047181608, 10.95060169786215, 10.979202956318858, 11.04807496315241, 11.068150100052359, 11.113980495631697, 11.158347379624844, 11.241213526666167, 11.268789902806283, 11.318508997142317, 11.332645246446134, 11.395663631141188, 11.382083092033865, 11.413087054729463, 11.420123788118364, 11.46180374968052, 11.45142596781254, 11.468784487843514, 11.490411371231081, 11.556918428182604, 11.58622768688202, 11.628407363414766, 11.663288147091867, 11.694998413205148, 11.689651717543605, 11.679731230020526, 11.634730581879618, 11.617468780875209, 11.615720202684404, 11.607242016434672, 11.620901457905772, 11.62337627720833], \"marker\": {\"color\": [46320.0, 46320.0, 46320.0, 46320.0, 46320.0, 46320.0, 46320.0, 46320.0, 46320.0, 46320.0, 46320.0, 46320.0, 46320.0, 46320.0, 46320.0, 46320.0, 46320.0, 46320.0, 46320.0, 46320.0, 46320.0, 46320.0, 46320.0, 46320.0, 46320.0, 46320.0, 46320.0, 46320.0, 46320.0, 46320.0, 46320.0, 46320.0, 46320.0, 46320.0, 46320.0, 46320.0, 46320.0, 46320.0, 46320.0, 123.0, 123.0, 123.0, 123.0, 123.0, 123.0, 123.0, 123.0, 123.0, 123.0, 123.0, 123.0, 123.0, 123.0, 123.0, 123.0, 123.0, 123.0, 123.0, 123.0, 123.0, 123.0, 123.0, 123.0, 123.0, 123.0, 123.0, 123.0, 123.0, 123.0, 123.0, 123.0, 123.0, 123.0, 123.0, 123.0, 123.0, 123.0, 123.0], \"coloraxis\": \"coloraxis\", \"size\": [1, 1, 1, 1, 1, 1, 1, 1, 1, 1, 1, 1, 1, 1, 1, 1, 1, 1, 1, 1, 1, 1, 1, 1, 1, 1, 1, 1, 1, 1, 1, 1, 1, 1, 1, 1, 1, 1, 1, 1, 1, 1, 1, 1, 1, 1, 1, 1, 1, 1, 1, 1, 1, 1, 1, 1, 1, 1, 1, 1, 1, 1, 1, 1, 1, 1, 1, 1, 1, 1, 1, 1, 1, 1, 1, 1, 1, 1], \"sizemode\": \"area\", \"sizeref\": 0.04}, \"mode\": \"markers\", \"name\": \"\", \"showlegend\": false, \"subplot\": \"mapbox\", \"type\": \"scattermapbox\"}],\n",
              "                        {\"coloraxis\": {\"colorbar\": {\"title\": {\"text\": \"drifter_index\"}}, \"colorscale\": [[0.0, \"rgb(254, 246, 181)\"], [0.16666666666666666, \"rgb(255, 221, 154)\"], [0.3333333333333333, \"rgb(255, 194, 133)\"], [0.5, \"rgb(255, 166, 121)\"], [0.6666666666666666, \"rgb(250, 138, 118)\"], [0.8333333333333334, \"rgb(241, 109, 122)\"], [1.0, \"rgb(225, 83, 131)\"]], \"showscale\": false}, \"legend\": {\"itemsizing\": \"constant\", \"tracegroupgap\": 0}, \"mapbox\": {\"accesstoken\": \"pk.eyJ1Ijoic2FhZGphaGFuZ2lyIiwiYSI6ImNrbjllN3IwNDByNDMycHFuM3pmOTllOTAifQ.g07dC3sViT7jItHAYE5iTQ\", \"center\": {\"lat\": 64.96740879385824, \"lon\": 11.065522360957587}, \"domain\": {\"x\": [0.0, 1.0], \"y\": [0.0, 1.0]}, \"style\": \"dark\", \"zoom\": 5}, \"margin\": {\"t\": 60}, \"template\": {\"data\": {\"bar\": [{\"error_x\": {\"color\": \"#2a3f5f\"}, \"error_y\": {\"color\": \"#2a3f5f\"}, \"marker\": {\"line\": {\"color\": \"#E5ECF6\", \"width\": 0.5}}, \"type\": \"bar\"}], \"barpolar\": [{\"marker\": {\"line\": {\"color\": \"#E5ECF6\", \"width\": 0.5}}, \"type\": \"barpolar\"}], \"carpet\": [{\"aaxis\": {\"endlinecolor\": \"#2a3f5f\", \"gridcolor\": \"white\", \"linecolor\": \"white\", \"minorgridcolor\": \"white\", \"startlinecolor\": \"#2a3f5f\"}, \"baxis\": {\"endlinecolor\": \"#2a3f5f\", \"gridcolor\": \"white\", \"linecolor\": \"white\", \"minorgridcolor\": \"white\", \"startlinecolor\": \"#2a3f5f\"}, \"type\": \"carpet\"}], \"choropleth\": [{\"colorbar\": {\"outlinewidth\": 0, \"ticks\": \"\"}, \"type\": \"choropleth\"}], \"contour\": [{\"colorbar\": {\"outlinewidth\": 0, \"ticks\": \"\"}, \"colorscale\": [[0.0, \"#0d0887\"], [0.1111111111111111, \"#46039f\"], [0.2222222222222222, \"#7201a8\"], [0.3333333333333333, \"#9c179e\"], [0.4444444444444444, \"#bd3786\"], [0.5555555555555556, \"#d8576b\"], [0.6666666666666666, \"#ed7953\"], [0.7777777777777778, \"#fb9f3a\"], [0.8888888888888888, \"#fdca26\"], [1.0, \"#f0f921\"]], \"type\": \"contour\"}], \"contourcarpet\": [{\"colorbar\": {\"outlinewidth\": 0, \"ticks\": \"\"}, \"type\": \"contourcarpet\"}], \"heatmap\": [{\"colorbar\": {\"outlinewidth\": 0, \"ticks\": \"\"}, \"colorscale\": [[0.0, \"#0d0887\"], [0.1111111111111111, \"#46039f\"], [0.2222222222222222, \"#7201a8\"], [0.3333333333333333, \"#9c179e\"], [0.4444444444444444, \"#bd3786\"], [0.5555555555555556, \"#d8576b\"], [0.6666666666666666, \"#ed7953\"], [0.7777777777777778, \"#fb9f3a\"], [0.8888888888888888, \"#fdca26\"], [1.0, \"#f0f921\"]], \"type\": \"heatmap\"}], \"heatmapgl\": [{\"colorbar\": {\"outlinewidth\": 0, \"ticks\": \"\"}, \"colorscale\": [[0.0, \"#0d0887\"], [0.1111111111111111, \"#46039f\"], [0.2222222222222222, \"#7201a8\"], [0.3333333333333333, \"#9c179e\"], [0.4444444444444444, \"#bd3786\"], [0.5555555555555556, \"#d8576b\"], [0.6666666666666666, \"#ed7953\"], [0.7777777777777778, \"#fb9f3a\"], [0.8888888888888888, \"#fdca26\"], [1.0, \"#f0f921\"]], \"type\": \"heatmapgl\"}], \"histogram\": [{\"marker\": {\"colorbar\": {\"outlinewidth\": 0, \"ticks\": \"\"}}, \"type\": \"histogram\"}], \"histogram2d\": [{\"colorbar\": {\"outlinewidth\": 0, \"ticks\": \"\"}, \"colorscale\": [[0.0, \"#0d0887\"], [0.1111111111111111, \"#46039f\"], [0.2222222222222222, \"#7201a8\"], [0.3333333333333333, \"#9c179e\"], [0.4444444444444444, \"#bd3786\"], [0.5555555555555556, \"#d8576b\"], [0.6666666666666666, \"#ed7953\"], [0.7777777777777778, \"#fb9f3a\"], [0.8888888888888888, \"#fdca26\"], [1.0, \"#f0f921\"]], \"type\": \"histogram2d\"}], \"histogram2dcontour\": [{\"colorbar\": {\"outlinewidth\": 0, \"ticks\": \"\"}, \"colorscale\": [[0.0, \"#0d0887\"], [0.1111111111111111, \"#46039f\"], [0.2222222222222222, \"#7201a8\"], [0.3333333333333333, \"#9c179e\"], [0.4444444444444444, \"#bd3786\"], [0.5555555555555556, \"#d8576b\"], [0.6666666666666666, \"#ed7953\"], [0.7777777777777778, \"#fb9f3a\"], [0.8888888888888888, \"#fdca26\"], [1.0, \"#f0f921\"]], \"type\": \"histogram2dcontour\"}], \"mesh3d\": [{\"colorbar\": {\"outlinewidth\": 0, \"ticks\": \"\"}, \"type\": \"mesh3d\"}], \"parcoords\": [{\"line\": {\"colorbar\": {\"outlinewidth\": 0, \"ticks\": \"\"}}, \"type\": \"parcoords\"}], \"pie\": [{\"automargin\": true, \"type\": \"pie\"}], \"scatter\": [{\"marker\": {\"colorbar\": {\"outlinewidth\": 0, \"ticks\": \"\"}}, \"type\": \"scatter\"}], \"scatter3d\": [{\"line\": {\"colorbar\": {\"outlinewidth\": 0, \"ticks\": \"\"}}, \"marker\": {\"colorbar\": {\"outlinewidth\": 0, \"ticks\": \"\"}}, \"type\": \"scatter3d\"}], \"scattercarpet\": [{\"marker\": {\"colorbar\": {\"outlinewidth\": 0, \"ticks\": \"\"}}, \"type\": \"scattercarpet\"}], \"scattergeo\": [{\"marker\": {\"colorbar\": {\"outlinewidth\": 0, \"ticks\": \"\"}}, \"type\": \"scattergeo\"}], \"scattergl\": [{\"marker\": {\"colorbar\": {\"outlinewidth\": 0, \"ticks\": \"\"}}, \"type\": \"scattergl\"}], \"scattermapbox\": [{\"marker\": {\"colorbar\": {\"outlinewidth\": 0, \"ticks\": \"\"}}, \"type\": \"scattermapbox\"}], \"scatterpolar\": [{\"marker\": {\"colorbar\": {\"outlinewidth\": 0, \"ticks\": \"\"}}, \"type\": \"scatterpolar\"}], \"scatterpolargl\": [{\"marker\": {\"colorbar\": {\"outlinewidth\": 0, \"ticks\": \"\"}}, \"type\": \"scatterpolargl\"}], \"scatterternary\": [{\"marker\": {\"colorbar\": {\"outlinewidth\": 0, \"ticks\": \"\"}}, \"type\": \"scatterternary\"}], \"surface\": [{\"colorbar\": {\"outlinewidth\": 0, \"ticks\": \"\"}, \"colorscale\": [[0.0, \"#0d0887\"], [0.1111111111111111, \"#46039f\"], [0.2222222222222222, \"#7201a8\"], [0.3333333333333333, \"#9c179e\"], [0.4444444444444444, \"#bd3786\"], [0.5555555555555556, \"#d8576b\"], [0.6666666666666666, \"#ed7953\"], [0.7777777777777778, \"#fb9f3a\"], [0.8888888888888888, \"#fdca26\"], [1.0, \"#f0f921\"]], \"type\": \"surface\"}], \"table\": [{\"cells\": {\"fill\": {\"color\": \"#EBF0F8\"}, \"line\": {\"color\": \"white\"}}, \"header\": {\"fill\": {\"color\": \"#C8D4E3\"}, \"line\": {\"color\": \"white\"}}, \"type\": \"table\"}]}, \"layout\": {\"annotationdefaults\": {\"arrowcolor\": \"#2a3f5f\", \"arrowhead\": 0, \"arrowwidth\": 1}, \"coloraxis\": {\"colorbar\": {\"outlinewidth\": 0, \"ticks\": \"\"}}, \"colorscale\": {\"diverging\": [[0, \"#8e0152\"], [0.1, \"#c51b7d\"], [0.2, \"#de77ae\"], [0.3, \"#f1b6da\"], [0.4, \"#fde0ef\"], [0.5, \"#f7f7f7\"], [0.6, \"#e6f5d0\"], [0.7, \"#b8e186\"], [0.8, \"#7fbc41\"], [0.9, \"#4d9221\"], [1, \"#276419\"]], \"sequential\": [[0.0, \"#0d0887\"], [0.1111111111111111, \"#46039f\"], [0.2222222222222222, \"#7201a8\"], [0.3333333333333333, \"#9c179e\"], [0.4444444444444444, \"#bd3786\"], [0.5555555555555556, \"#d8576b\"], [0.6666666666666666, \"#ed7953\"], [0.7777777777777778, \"#fb9f3a\"], [0.8888888888888888, \"#fdca26\"], [1.0, \"#f0f921\"]], \"sequentialminus\": [[0.0, \"#0d0887\"], [0.1111111111111111, \"#46039f\"], [0.2222222222222222, \"#7201a8\"], [0.3333333333333333, \"#9c179e\"], [0.4444444444444444, \"#bd3786\"], [0.5555555555555556, \"#d8576b\"], [0.6666666666666666, \"#ed7953\"], [0.7777777777777778, \"#fb9f3a\"], [0.8888888888888888, \"#fdca26\"], [1.0, \"#f0f921\"]]}, \"colorway\": [\"#636efa\", \"#EF553B\", \"#00cc96\", \"#ab63fa\", \"#FFA15A\", \"#19d3f3\", \"#FF6692\", \"#B6E880\", \"#FF97FF\", \"#FECB52\"], \"font\": {\"color\": \"#2a3f5f\"}, \"geo\": {\"bgcolor\": \"white\", \"lakecolor\": \"white\", \"landcolor\": \"#E5ECF6\", \"showlakes\": true, \"showland\": true, \"subunitcolor\": \"white\"}, \"hoverlabel\": {\"align\": \"left\"}, \"hovermode\": \"closest\", \"mapbox\": {\"style\": \"light\"}, \"paper_bgcolor\": \"white\", \"plot_bgcolor\": \"#E5ECF6\", \"polar\": {\"angularaxis\": {\"gridcolor\": \"white\", \"linecolor\": \"white\", \"ticks\": \"\"}, \"bgcolor\": \"#E5ECF6\", \"radialaxis\": {\"gridcolor\": \"white\", \"linecolor\": \"white\", \"ticks\": \"\"}}, \"scene\": {\"xaxis\": {\"backgroundcolor\": \"#E5ECF6\", \"gridcolor\": \"white\", \"gridwidth\": 2, \"linecolor\": \"white\", \"showbackground\": true, \"ticks\": \"\", \"zerolinecolor\": \"white\"}, \"yaxis\": {\"backgroundcolor\": \"#E5ECF6\", \"gridcolor\": \"white\", \"gridwidth\": 2, \"linecolor\": \"white\", \"showbackground\": true, \"ticks\": \"\", \"zerolinecolor\": \"white\"}, \"zaxis\": {\"backgroundcolor\": \"#E5ECF6\", \"gridcolor\": \"white\", \"gridwidth\": 2, \"linecolor\": \"white\", \"showbackground\": true, \"ticks\": \"\", \"zerolinecolor\": \"white\"}}, \"shapedefaults\": {\"line\": {\"color\": \"#2a3f5f\"}}, \"ternary\": {\"aaxis\": {\"gridcolor\": \"white\", \"linecolor\": \"white\", \"ticks\": \"\"}, \"baxis\": {\"gridcolor\": \"white\", \"linecolor\": \"white\", \"ticks\": \"\"}, \"bgcolor\": \"#E5ECF6\", \"caxis\": {\"gridcolor\": \"white\", \"linecolor\": \"white\", \"ticks\": \"\"}}, \"title\": {\"x\": 0.05}, \"xaxis\": {\"automargin\": true, \"gridcolor\": \"white\", \"linecolor\": \"white\", \"ticks\": \"\", \"title\": {\"standoff\": 15}, \"zerolinecolor\": \"white\", \"zerolinewidth\": 2}, \"yaxis\": {\"automargin\": true, \"gridcolor\": \"white\", \"linecolor\": \"white\", \"ticks\": \"\", \"title\": {\"standoff\": 15}, \"zerolinecolor\": \"white\", \"zerolinewidth\": 2}}}},\n",
              "                        {\"responsive\": true}\n",
              "                    ).then(function(){\n",
              "                            \n",
              "var gd = document.getElementById('c90da01d-d14c-4b1e-9dbb-2612982848da');\n",
              "var x = new MutationObserver(function (mutations, observer) {{\n",
              "        var display = window.getComputedStyle(gd).display;\n",
              "        if (!display || display === 'none') {{\n",
              "            console.log([gd, 'removed!']);\n",
              "            Plotly.purge(gd);\n",
              "            observer.disconnect();\n",
              "        }}\n",
              "}});\n",
              "\n",
              "// Listen for the removal of the full notebook cells\n",
              "var notebookContainer = gd.closest('#notebook-container');\n",
              "if (notebookContainer) {{\n",
              "    x.observe(notebookContainer, {childList: true});\n",
              "}}\n",
              "\n",
              "// Listen for the clearing of the current output cell\n",
              "var outputEl = gd.closest('.output');\n",
              "if (outputEl) {{\n",
              "    x.observe(outputEl, {childList: true});\n",
              "}}\n",
              "\n",
              "                        })\n",
              "                };\n",
              "                \n",
              "            </script>\n",
              "        </div>\n",
              "</body>\n",
              "</html>"
            ]
          },
          "metadata": {
            "tags": []
          }
        }
      ]
    },
    {
      "cell_type": "markdown",
      "metadata": {
        "id": "wP_6mTTRFeEz"
      },
      "source": [
        "## Animation"
      ]
    },
    {
      "cell_type": "code",
      "metadata": {
        "colab": {
          "base_uri": "https://localhost:8080/",
          "height": 542
        },
        "id": "TcFUnX5rFWQ2",
        "outputId": "f2e0857f-d5e0-4879-d5c4-ffa6b1200cc3"
      },
      "source": [
        "fig = px.scatter_mapbox(\n",
        "    plot_data, lat=\"latitude\", lon=\"longitude\",\n",
        "    size=\"size\", size_max=5,\n",
        "    color=\"drifter_index\", color_continuous_scale=px.colors.sequential.Pinkyl,\n",
        "    hover_name=\"time\",           \n",
        "    mapbox_style='dark', zoom=5,\n",
        "    animation_frame=\"time\", animation_group=\"longitude\"\n",
        ")\n",
        "\n",
        "fig.show()"
      ],
      "execution_count": 157,
      "outputs": [
        {
          "output_type": "display_data",
          "data": {
            "text/html": [
              "<html>\n",
              "<head><meta charset=\"utf-8\" /></head>\n",
              "<body>\n",
              "    <div>\n",
              "            <script src=\"https://cdnjs.cloudflare.com/ajax/libs/mathjax/2.7.5/MathJax.js?config=TeX-AMS-MML_SVG\"></script><script type=\"text/javascript\">if (window.MathJax) {MathJax.Hub.Config({SVG: {font: \"STIX-Web\"}});}</script>\n",
              "                <script type=\"text/javascript\">window.PlotlyConfig = {MathJaxConfig: 'local'};</script>\n",
              "        <script src=\"https://cdn.plot.ly/plotly-latest.min.js\"></script>    \n",
              "            <div id=\"b24faa3a-a52c-4a80-ac06-2d0fbc6351d0\" class=\"plotly-graph-div\" style=\"height:525px; width:100%;\"></div>\n",
              "            <script type=\"text/javascript\">\n",
              "                \n",
              "                    window.PLOTLYENV=window.PLOTLYENV || {};\n",
              "                    \n",
              "                if (document.getElementById(\"b24faa3a-a52c-4a80-ac06-2d0fbc6351d0\")) {\n",
              "                    Plotly.newPlot(\n",
              "                        'b24faa3a-a52c-4a80-ac06-2d0fbc6351d0',\n",
              "                        [{\"hoverlabel\": {\"namelength\": 0}, \"hovertemplate\": \"<b>%{hovertext}</b><br><br>time=2007-08-02 06:00:00<br>size=%{marker.size}<br>latitude=%{lat}<br>longitude=%{lon}<br>drifter_index=%{marker.color}\", \"hovertext\": [\"2007-08-02 06:00:00\", \"2007-08-02 06:00:00\"], \"ids\": [10.447000000000001, 10.758509226977827], \"lat\": [64.725, 64.73252232795954], \"legendgroup\": \"\", \"lon\": [10.447000000000001, 10.758509226977827], \"marker\": {\"color\": [46320.0, 123.0], \"coloraxis\": \"coloraxis\", \"size\": [1, 1], \"sizemode\": \"area\", \"sizeref\": 0.04}, \"mode\": \"markers\", \"name\": \"\", \"showlegend\": false, \"subplot\": \"mapbox\", \"type\": \"scattermapbox\"}],\n",
              "                        {\"coloraxis\": {\"colorbar\": {\"title\": {\"text\": \"drifter_index\"}}, \"colorscale\": [[0.0, \"rgb(254, 246, 181)\"], [0.16666666666666666, \"rgb(255, 221, 154)\"], [0.3333333333333333, \"rgb(255, 194, 133)\"], [0.5, \"rgb(255, 166, 121)\"], [0.6666666666666666, \"rgb(250, 138, 118)\"], [0.8333333333333334, \"rgb(241, 109, 122)\"], [1.0, \"rgb(225, 83, 131)\"]]}, \"legend\": {\"itemsizing\": \"constant\", \"tracegroupgap\": 0}, \"mapbox\": {\"accesstoken\": \"pk.eyJ1Ijoic2FhZGphaGFuZ2lyIiwiYSI6ImNrbjllN3IwNDByNDMycHFuM3pmOTllOTAifQ.g07dC3sViT7jItHAYE5iTQ\", \"center\": {\"lat\": 64.96740879385824, \"lon\": 11.065522360957587}, \"domain\": {\"x\": [0.0, 1.0], \"y\": [0.0, 1.0]}, \"style\": \"dark\", \"zoom\": 5}, \"margin\": {\"t\": 60}, \"sliders\": [{\"active\": 0, \"currentvalue\": {\"prefix\": \"time=\"}, \"len\": 0.9, \"pad\": {\"b\": 10, \"t\": 60}, \"steps\": [{\"args\": [[\"2007-08-02 06:00:00\"], {\"frame\": {\"duration\": 0, \"redraw\": true}, \"fromcurrent\": true, \"mode\": \"immediate\", \"transition\": {\"duration\": 0, \"easing\": \"linear\"}}], \"label\": \"2007-08-02 06:00:00\", \"method\": \"animate\"}, {\"args\": [[\"2007-08-02 12:00:00\"], {\"frame\": {\"duration\": 0, \"redraw\": true}, \"fromcurrent\": true, \"mode\": \"immediate\", \"transition\": {\"duration\": 0, \"easing\": \"linear\"}}], \"label\": \"2007-08-02 12:00:00\", \"method\": \"animate\"}, {\"args\": [[\"2007-08-02 18:00:00\"], {\"frame\": {\"duration\": 0, \"redraw\": true}, \"fromcurrent\": true, \"mode\": \"immediate\", \"transition\": {\"duration\": 0, \"easing\": \"linear\"}}], \"label\": \"2007-08-02 18:00:00\", \"method\": \"animate\"}, {\"args\": [[\"2007-08-03 00:00:00\"], {\"frame\": {\"duration\": 0, \"redraw\": true}, \"fromcurrent\": true, \"mode\": \"immediate\", \"transition\": {\"duration\": 0, \"easing\": \"linear\"}}], \"label\": \"2007-08-03 00:00:00\", \"method\": \"animate\"}, {\"args\": [[\"2007-08-03 06:00:00\"], {\"frame\": {\"duration\": 0, \"redraw\": true}, \"fromcurrent\": true, \"mode\": \"immediate\", \"transition\": {\"duration\": 0, \"easing\": \"linear\"}}], \"label\": \"2007-08-03 06:00:00\", \"method\": \"animate\"}, {\"args\": [[\"2007-08-03 12:00:00\"], {\"frame\": {\"duration\": 0, \"redraw\": true}, \"fromcurrent\": true, \"mode\": \"immediate\", \"transition\": {\"duration\": 0, \"easing\": \"linear\"}}], \"label\": \"2007-08-03 12:00:00\", \"method\": \"animate\"}, {\"args\": [[\"2007-08-03 18:00:00\"], {\"frame\": {\"duration\": 0, \"redraw\": true}, \"fromcurrent\": true, \"mode\": \"immediate\", \"transition\": {\"duration\": 0, \"easing\": \"linear\"}}], \"label\": \"2007-08-03 18:00:00\", \"method\": \"animate\"}, {\"args\": [[\"2007-08-04 00:00:00\"], {\"frame\": {\"duration\": 0, \"redraw\": true}, \"fromcurrent\": true, \"mode\": \"immediate\", \"transition\": {\"duration\": 0, \"easing\": \"linear\"}}], \"label\": \"2007-08-04 00:00:00\", \"method\": \"animate\"}, {\"args\": [[\"2007-08-04 06:00:00\"], {\"frame\": {\"duration\": 0, \"redraw\": true}, \"fromcurrent\": true, \"mode\": \"immediate\", \"transition\": {\"duration\": 0, \"easing\": \"linear\"}}], \"label\": \"2007-08-04 06:00:00\", \"method\": \"animate\"}, {\"args\": [[\"2007-08-04 12:00:00\"], {\"frame\": {\"duration\": 0, \"redraw\": true}, \"fromcurrent\": true, \"mode\": \"immediate\", \"transition\": {\"duration\": 0, \"easing\": \"linear\"}}], \"label\": \"2007-08-04 12:00:00\", \"method\": \"animate\"}, {\"args\": [[\"2007-08-04 18:00:00\"], {\"frame\": {\"duration\": 0, \"redraw\": true}, \"fromcurrent\": true, \"mode\": \"immediate\", \"transition\": {\"duration\": 0, \"easing\": \"linear\"}}], \"label\": \"2007-08-04 18:00:00\", \"method\": \"animate\"}, {\"args\": [[\"2007-08-05 00:00:00\"], {\"frame\": {\"duration\": 0, \"redraw\": true}, \"fromcurrent\": true, \"mode\": \"immediate\", \"transition\": {\"duration\": 0, \"easing\": \"linear\"}}], \"label\": \"2007-08-05 00:00:00\", \"method\": \"animate\"}, {\"args\": [[\"2007-08-05 06:00:00\"], {\"frame\": {\"duration\": 0, \"redraw\": true}, \"fromcurrent\": true, \"mode\": \"immediate\", \"transition\": {\"duration\": 0, \"easing\": \"linear\"}}], \"label\": \"2007-08-05 06:00:00\", \"method\": \"animate\"}, {\"args\": [[\"2007-08-05 12:00:00\"], {\"frame\": {\"duration\": 0, \"redraw\": true}, \"fromcurrent\": true, \"mode\": \"immediate\", \"transition\": {\"duration\": 0, \"easing\": \"linear\"}}], \"label\": \"2007-08-05 12:00:00\", \"method\": \"animate\"}, {\"args\": [[\"2007-08-05 18:00:00\"], {\"frame\": {\"duration\": 0, \"redraw\": true}, \"fromcurrent\": true, \"mode\": \"immediate\", \"transition\": {\"duration\": 0, \"easing\": \"linear\"}}], \"label\": \"2007-08-05 18:00:00\", \"method\": \"animate\"}, {\"args\": [[\"2007-08-06 00:00:00\"], {\"frame\": {\"duration\": 0, \"redraw\": true}, \"fromcurrent\": true, \"mode\": \"immediate\", \"transition\": {\"duration\": 0, \"easing\": \"linear\"}}], \"label\": \"2007-08-06 00:00:00\", \"method\": \"animate\"}, {\"args\": [[\"2007-08-06 06:00:00\"], {\"frame\": {\"duration\": 0, \"redraw\": true}, \"fromcurrent\": true, \"mode\": \"immediate\", \"transition\": {\"duration\": 0, \"easing\": \"linear\"}}], \"label\": \"2007-08-06 06:00:00\", \"method\": \"animate\"}, {\"args\": [[\"2007-08-06 12:00:00\"], {\"frame\": {\"duration\": 0, \"redraw\": true}, \"fromcurrent\": true, \"mode\": \"immediate\", \"transition\": {\"duration\": 0, \"easing\": \"linear\"}}], \"label\": \"2007-08-06 12:00:00\", \"method\": \"animate\"}, {\"args\": [[\"2007-08-06 18:00:00\"], {\"frame\": {\"duration\": 0, \"redraw\": true}, \"fromcurrent\": true, \"mode\": \"immediate\", \"transition\": {\"duration\": 0, \"easing\": \"linear\"}}], \"label\": \"2007-08-06 18:00:00\", \"method\": \"animate\"}, {\"args\": [[\"2007-08-07 00:00:00\"], {\"frame\": {\"duration\": 0, \"redraw\": true}, \"fromcurrent\": true, \"mode\": \"immediate\", \"transition\": {\"duration\": 0, \"easing\": \"linear\"}}], \"label\": \"2007-08-07 00:00:00\", \"method\": \"animate\"}, {\"args\": [[\"2007-08-07 06:00:00\"], {\"frame\": {\"duration\": 0, \"redraw\": true}, \"fromcurrent\": true, \"mode\": \"immediate\", \"transition\": {\"duration\": 0, \"easing\": \"linear\"}}], \"label\": \"2007-08-07 06:00:00\", \"method\": \"animate\"}, {\"args\": [[\"2007-08-07 12:00:00\"], {\"frame\": {\"duration\": 0, \"redraw\": true}, \"fromcurrent\": true, \"mode\": \"immediate\", \"transition\": {\"duration\": 0, \"easing\": \"linear\"}}], \"label\": \"2007-08-07 12:00:00\", \"method\": \"animate\"}, {\"args\": [[\"2007-08-07 18:00:00\"], {\"frame\": {\"duration\": 0, \"redraw\": true}, \"fromcurrent\": true, \"mode\": \"immediate\", \"transition\": {\"duration\": 0, \"easing\": \"linear\"}}], \"label\": \"2007-08-07 18:00:00\", \"method\": \"animate\"}, {\"args\": [[\"2007-08-08 00:00:00\"], {\"frame\": {\"duration\": 0, \"redraw\": true}, \"fromcurrent\": true, \"mode\": \"immediate\", \"transition\": {\"duration\": 0, \"easing\": \"linear\"}}], \"label\": \"2007-08-08 00:00:00\", \"method\": \"animate\"}, {\"args\": [[\"2007-08-08 06:00:00\"], {\"frame\": {\"duration\": 0, \"redraw\": true}, \"fromcurrent\": true, \"mode\": \"immediate\", \"transition\": {\"duration\": 0, \"easing\": \"linear\"}}], \"label\": \"2007-08-08 06:00:00\", \"method\": \"animate\"}, {\"args\": [[\"2007-08-08 12:00:00\"], {\"frame\": {\"duration\": 0, \"redraw\": true}, \"fromcurrent\": true, \"mode\": \"immediate\", \"transition\": {\"duration\": 0, \"easing\": \"linear\"}}], \"label\": \"2007-08-08 12:00:00\", \"method\": \"animate\"}, {\"args\": [[\"2007-08-08 18:00:00\"], {\"frame\": {\"duration\": 0, \"redraw\": true}, \"fromcurrent\": true, \"mode\": \"immediate\", \"transition\": {\"duration\": 0, \"easing\": \"linear\"}}], \"label\": \"2007-08-08 18:00:00\", \"method\": \"animate\"}, {\"args\": [[\"2007-08-09 00:00:00\"], {\"frame\": {\"duration\": 0, \"redraw\": true}, \"fromcurrent\": true, \"mode\": \"immediate\", \"transition\": {\"duration\": 0, \"easing\": \"linear\"}}], \"label\": \"2007-08-09 00:00:00\", \"method\": \"animate\"}, {\"args\": [[\"2007-08-09 06:00:00\"], {\"frame\": {\"duration\": 0, \"redraw\": true}, \"fromcurrent\": true, \"mode\": \"immediate\", \"transition\": {\"duration\": 0, \"easing\": \"linear\"}}], \"label\": \"2007-08-09 06:00:00\", \"method\": \"animate\"}, {\"args\": [[\"2007-08-09 12:00:00\"], {\"frame\": {\"duration\": 0, \"redraw\": true}, \"fromcurrent\": true, \"mode\": \"immediate\", \"transition\": {\"duration\": 0, \"easing\": \"linear\"}}], \"label\": \"2007-08-09 12:00:00\", \"method\": \"animate\"}, {\"args\": [[\"2007-08-09 18:00:00\"], {\"frame\": {\"duration\": 0, \"redraw\": true}, \"fromcurrent\": true, \"mode\": \"immediate\", \"transition\": {\"duration\": 0, \"easing\": \"linear\"}}], \"label\": \"2007-08-09 18:00:00\", \"method\": \"animate\"}, {\"args\": [[\"2007-08-10 00:00:00\"], {\"frame\": {\"duration\": 0, \"redraw\": true}, \"fromcurrent\": true, \"mode\": \"immediate\", \"transition\": {\"duration\": 0, \"easing\": \"linear\"}}], \"label\": \"2007-08-10 00:00:00\", \"method\": \"animate\"}, {\"args\": [[\"2007-08-10 06:00:00\"], {\"frame\": {\"duration\": 0, \"redraw\": true}, \"fromcurrent\": true, \"mode\": \"immediate\", \"transition\": {\"duration\": 0, \"easing\": \"linear\"}}], \"label\": \"2007-08-10 06:00:00\", \"method\": \"animate\"}, {\"args\": [[\"2007-08-10 12:00:00\"], {\"frame\": {\"duration\": 0, \"redraw\": true}, \"fromcurrent\": true, \"mode\": \"immediate\", \"transition\": {\"duration\": 0, \"easing\": \"linear\"}}], \"label\": \"2007-08-10 12:00:00\", \"method\": \"animate\"}, {\"args\": [[\"2007-08-10 18:00:00\"], {\"frame\": {\"duration\": 0, \"redraw\": true}, \"fromcurrent\": true, \"mode\": \"immediate\", \"transition\": {\"duration\": 0, \"easing\": \"linear\"}}], \"label\": \"2007-08-10 18:00:00\", \"method\": \"animate\"}, {\"args\": [[\"2007-08-11 00:00:00\"], {\"frame\": {\"duration\": 0, \"redraw\": true}, \"fromcurrent\": true, \"mode\": \"immediate\", \"transition\": {\"duration\": 0, \"easing\": \"linear\"}}], \"label\": \"2007-08-11 00:00:00\", \"method\": \"animate\"}, {\"args\": [[\"2007-08-11 06:00:00\"], {\"frame\": {\"duration\": 0, \"redraw\": true}, \"fromcurrent\": true, \"mode\": \"immediate\", \"transition\": {\"duration\": 0, \"easing\": \"linear\"}}], \"label\": \"2007-08-11 06:00:00\", \"method\": \"animate\"}, {\"args\": [[\"2007-08-11 12:00:00\"], {\"frame\": {\"duration\": 0, \"redraw\": true}, \"fromcurrent\": true, \"mode\": \"immediate\", \"transition\": {\"duration\": 0, \"easing\": \"linear\"}}], \"label\": \"2007-08-11 12:00:00\", \"method\": \"animate\"}, {\"args\": [[\"2007-08-11 18:00:00\"], {\"frame\": {\"duration\": 0, \"redraw\": true}, \"fromcurrent\": true, \"mode\": \"immediate\", \"transition\": {\"duration\": 0, \"easing\": \"linear\"}}], \"label\": \"2007-08-11 18:00:00\", \"method\": \"animate\"}], \"x\": 0.1, \"xanchor\": \"left\", \"y\": 0, \"yanchor\": \"top\"}], \"template\": {\"data\": {\"bar\": [{\"error_x\": {\"color\": \"#2a3f5f\"}, \"error_y\": {\"color\": \"#2a3f5f\"}, \"marker\": {\"line\": {\"color\": \"#E5ECF6\", \"width\": 0.5}}, \"type\": \"bar\"}], \"barpolar\": [{\"marker\": {\"line\": {\"color\": \"#E5ECF6\", \"width\": 0.5}}, \"type\": \"barpolar\"}], \"carpet\": [{\"aaxis\": {\"endlinecolor\": \"#2a3f5f\", \"gridcolor\": \"white\", \"linecolor\": \"white\", \"minorgridcolor\": \"white\", \"startlinecolor\": \"#2a3f5f\"}, \"baxis\": {\"endlinecolor\": \"#2a3f5f\", \"gridcolor\": \"white\", \"linecolor\": \"white\", \"minorgridcolor\": \"white\", \"startlinecolor\": \"#2a3f5f\"}, \"type\": \"carpet\"}], \"choropleth\": [{\"colorbar\": {\"outlinewidth\": 0, \"ticks\": \"\"}, \"type\": \"choropleth\"}], \"contour\": [{\"colorbar\": {\"outlinewidth\": 0, \"ticks\": \"\"}, \"colorscale\": [[0.0, \"#0d0887\"], [0.1111111111111111, \"#46039f\"], [0.2222222222222222, \"#7201a8\"], [0.3333333333333333, \"#9c179e\"], [0.4444444444444444, \"#bd3786\"], [0.5555555555555556, \"#d8576b\"], [0.6666666666666666, \"#ed7953\"], [0.7777777777777778, \"#fb9f3a\"], [0.8888888888888888, \"#fdca26\"], [1.0, \"#f0f921\"]], \"type\": \"contour\"}], \"contourcarpet\": [{\"colorbar\": {\"outlinewidth\": 0, \"ticks\": \"\"}, \"type\": \"contourcarpet\"}], \"heatmap\": [{\"colorbar\": {\"outlinewidth\": 0, \"ticks\": \"\"}, \"colorscale\": [[0.0, \"#0d0887\"], [0.1111111111111111, \"#46039f\"], [0.2222222222222222, \"#7201a8\"], [0.3333333333333333, \"#9c179e\"], [0.4444444444444444, \"#bd3786\"], [0.5555555555555556, \"#d8576b\"], [0.6666666666666666, \"#ed7953\"], [0.7777777777777778, \"#fb9f3a\"], [0.8888888888888888, \"#fdca26\"], [1.0, \"#f0f921\"]], \"type\": \"heatmap\"}], \"heatmapgl\": [{\"colorbar\": {\"outlinewidth\": 0, \"ticks\": \"\"}, \"colorscale\": [[0.0, \"#0d0887\"], [0.1111111111111111, \"#46039f\"], [0.2222222222222222, \"#7201a8\"], [0.3333333333333333, \"#9c179e\"], [0.4444444444444444, \"#bd3786\"], [0.5555555555555556, \"#d8576b\"], [0.6666666666666666, \"#ed7953\"], [0.7777777777777778, \"#fb9f3a\"], [0.8888888888888888, \"#fdca26\"], [1.0, \"#f0f921\"]], \"type\": \"heatmapgl\"}], \"histogram\": [{\"marker\": {\"colorbar\": {\"outlinewidth\": 0, \"ticks\": \"\"}}, \"type\": \"histogram\"}], \"histogram2d\": [{\"colorbar\": {\"outlinewidth\": 0, \"ticks\": \"\"}, \"colorscale\": [[0.0, \"#0d0887\"], [0.1111111111111111, \"#46039f\"], [0.2222222222222222, \"#7201a8\"], [0.3333333333333333, \"#9c179e\"], [0.4444444444444444, \"#bd3786\"], [0.5555555555555556, \"#d8576b\"], [0.6666666666666666, \"#ed7953\"], [0.7777777777777778, \"#fb9f3a\"], [0.8888888888888888, \"#fdca26\"], [1.0, \"#f0f921\"]], \"type\": \"histogram2d\"}], \"histogram2dcontour\": [{\"colorbar\": {\"outlinewidth\": 0, \"ticks\": \"\"}, \"colorscale\": [[0.0, \"#0d0887\"], [0.1111111111111111, \"#46039f\"], [0.2222222222222222, \"#7201a8\"], [0.3333333333333333, \"#9c179e\"], [0.4444444444444444, \"#bd3786\"], [0.5555555555555556, \"#d8576b\"], [0.6666666666666666, \"#ed7953\"], [0.7777777777777778, \"#fb9f3a\"], [0.8888888888888888, \"#fdca26\"], [1.0, \"#f0f921\"]], \"type\": \"histogram2dcontour\"}], \"mesh3d\": [{\"colorbar\": {\"outlinewidth\": 0, \"ticks\": \"\"}, \"type\": \"mesh3d\"}], \"parcoords\": [{\"line\": {\"colorbar\": {\"outlinewidth\": 0, \"ticks\": \"\"}}, \"type\": \"parcoords\"}], \"pie\": [{\"automargin\": true, \"type\": \"pie\"}], \"scatter\": [{\"marker\": {\"colorbar\": {\"outlinewidth\": 0, \"ticks\": \"\"}}, \"type\": \"scatter\"}], \"scatter3d\": [{\"line\": {\"colorbar\": {\"outlinewidth\": 0, \"ticks\": \"\"}}, \"marker\": {\"colorbar\": {\"outlinewidth\": 0, \"ticks\": \"\"}}, \"type\": \"scatter3d\"}], \"scattercarpet\": [{\"marker\": {\"colorbar\": {\"outlinewidth\": 0, \"ticks\": \"\"}}, \"type\": \"scattercarpet\"}], \"scattergeo\": [{\"marker\": {\"colorbar\": {\"outlinewidth\": 0, \"ticks\": \"\"}}, \"type\": \"scattergeo\"}], \"scattergl\": [{\"marker\": {\"colorbar\": {\"outlinewidth\": 0, \"ticks\": \"\"}}, \"type\": \"scattergl\"}], \"scattermapbox\": [{\"marker\": {\"colorbar\": {\"outlinewidth\": 0, \"ticks\": \"\"}}, \"type\": \"scattermapbox\"}], \"scatterpolar\": [{\"marker\": {\"colorbar\": {\"outlinewidth\": 0, \"ticks\": \"\"}}, \"type\": \"scatterpolar\"}], \"scatterpolargl\": [{\"marker\": {\"colorbar\": {\"outlinewidth\": 0, \"ticks\": \"\"}}, \"type\": \"scatterpolargl\"}], \"scatterternary\": [{\"marker\": {\"colorbar\": {\"outlinewidth\": 0, \"ticks\": \"\"}}, \"type\": \"scatterternary\"}], \"surface\": [{\"colorbar\": {\"outlinewidth\": 0, \"ticks\": \"\"}, \"colorscale\": [[0.0, \"#0d0887\"], [0.1111111111111111, \"#46039f\"], [0.2222222222222222, \"#7201a8\"], [0.3333333333333333, \"#9c179e\"], [0.4444444444444444, \"#bd3786\"], [0.5555555555555556, \"#d8576b\"], [0.6666666666666666, \"#ed7953\"], [0.7777777777777778, \"#fb9f3a\"], [0.8888888888888888, \"#fdca26\"], [1.0, \"#f0f921\"]], \"type\": \"surface\"}], \"table\": [{\"cells\": {\"fill\": {\"color\": \"#EBF0F8\"}, \"line\": {\"color\": \"white\"}}, \"header\": {\"fill\": {\"color\": \"#C8D4E3\"}, \"line\": {\"color\": \"white\"}}, \"type\": \"table\"}]}, \"layout\": {\"annotationdefaults\": {\"arrowcolor\": \"#2a3f5f\", \"arrowhead\": 0, \"arrowwidth\": 1}, \"coloraxis\": {\"colorbar\": {\"outlinewidth\": 0, \"ticks\": \"\"}}, \"colorscale\": {\"diverging\": [[0, \"#8e0152\"], [0.1, \"#c51b7d\"], [0.2, \"#de77ae\"], [0.3, \"#f1b6da\"], [0.4, \"#fde0ef\"], [0.5, \"#f7f7f7\"], [0.6, \"#e6f5d0\"], [0.7, \"#b8e186\"], [0.8, \"#7fbc41\"], [0.9, \"#4d9221\"], [1, \"#276419\"]], \"sequential\": [[0.0, \"#0d0887\"], [0.1111111111111111, \"#46039f\"], [0.2222222222222222, \"#7201a8\"], [0.3333333333333333, \"#9c179e\"], [0.4444444444444444, \"#bd3786\"], [0.5555555555555556, \"#d8576b\"], [0.6666666666666666, \"#ed7953\"], [0.7777777777777778, \"#fb9f3a\"], [0.8888888888888888, \"#fdca26\"], [1.0, \"#f0f921\"]], \"sequentialminus\": [[0.0, \"#0d0887\"], [0.1111111111111111, \"#46039f\"], [0.2222222222222222, \"#7201a8\"], [0.3333333333333333, \"#9c179e\"], [0.4444444444444444, \"#bd3786\"], [0.5555555555555556, \"#d8576b\"], [0.6666666666666666, \"#ed7953\"], [0.7777777777777778, \"#fb9f3a\"], [0.8888888888888888, \"#fdca26\"], [1.0, \"#f0f921\"]]}, \"colorway\": [\"#636efa\", \"#EF553B\", \"#00cc96\", \"#ab63fa\", \"#FFA15A\", \"#19d3f3\", \"#FF6692\", \"#B6E880\", \"#FF97FF\", \"#FECB52\"], \"font\": {\"color\": \"#2a3f5f\"}, \"geo\": {\"bgcolor\": \"white\", \"lakecolor\": \"white\", \"landcolor\": \"#E5ECF6\", \"showlakes\": true, \"showland\": true, \"subunitcolor\": \"white\"}, \"hoverlabel\": {\"align\": \"left\"}, \"hovermode\": \"closest\", \"mapbox\": {\"style\": \"light\"}, \"paper_bgcolor\": \"white\", \"plot_bgcolor\": \"#E5ECF6\", \"polar\": {\"angularaxis\": {\"gridcolor\": \"white\", \"linecolor\": \"white\", \"ticks\": \"\"}, \"bgcolor\": \"#E5ECF6\", \"radialaxis\": {\"gridcolor\": \"white\", \"linecolor\": \"white\", \"ticks\": \"\"}}, \"scene\": {\"xaxis\": {\"backgroundcolor\": \"#E5ECF6\", \"gridcolor\": \"white\", \"gridwidth\": 2, \"linecolor\": \"white\", \"showbackground\": true, \"ticks\": \"\", \"zerolinecolor\": \"white\"}, \"yaxis\": {\"backgroundcolor\": \"#E5ECF6\", \"gridcolor\": \"white\", \"gridwidth\": 2, \"linecolor\": \"white\", \"showbackground\": true, \"ticks\": \"\", \"zerolinecolor\": \"white\"}, \"zaxis\": {\"backgroundcolor\": \"#E5ECF6\", \"gridcolor\": \"white\", \"gridwidth\": 2, \"linecolor\": \"white\", \"showbackground\": true, \"ticks\": \"\", \"zerolinecolor\": \"white\"}}, \"shapedefaults\": {\"line\": {\"color\": \"#2a3f5f\"}}, \"ternary\": {\"aaxis\": {\"gridcolor\": \"white\", \"linecolor\": \"white\", \"ticks\": \"\"}, \"baxis\": {\"gridcolor\": \"white\", \"linecolor\": \"white\", \"ticks\": \"\"}, \"bgcolor\": \"#E5ECF6\", \"caxis\": {\"gridcolor\": \"white\", \"linecolor\": \"white\", \"ticks\": \"\"}}, \"title\": {\"x\": 0.05}, \"xaxis\": {\"automargin\": true, \"gridcolor\": \"white\", \"linecolor\": \"white\", \"ticks\": \"\", \"title\": {\"standoff\": 15}, \"zerolinecolor\": \"white\", \"zerolinewidth\": 2}, \"yaxis\": {\"automargin\": true, \"gridcolor\": \"white\", \"linecolor\": \"white\", \"ticks\": \"\", \"title\": {\"standoff\": 15}, \"zerolinecolor\": \"white\", \"zerolinewidth\": 2}}}, \"updatemenus\": [{\"buttons\": [{\"args\": [null, {\"frame\": {\"duration\": 500, \"redraw\": true}, \"fromcurrent\": true, \"mode\": \"immediate\", \"transition\": {\"duration\": 500, \"easing\": \"linear\"}}], \"label\": \"&#9654;\", \"method\": \"animate\"}, {\"args\": [[null], {\"frame\": {\"duration\": 0, \"redraw\": true}, \"fromcurrent\": true, \"mode\": \"immediate\", \"transition\": {\"duration\": 0, \"easing\": \"linear\"}}], \"label\": \"&#9724;\", \"method\": \"animate\"}], \"direction\": \"left\", \"pad\": {\"r\": 10, \"t\": 70}, \"showactive\": false, \"type\": \"buttons\", \"x\": 0.1, \"xanchor\": \"right\", \"y\": 0, \"yanchor\": \"top\"}]},\n",
              "                        {\"responsive\": true}\n",
              "                    ).then(function(){\n",
              "                            Plotly.addFrames('b24faa3a-a52c-4a80-ac06-2d0fbc6351d0', [{\"data\": [{\"hoverlabel\": {\"namelength\": 0}, \"hovertemplate\": \"<b>%{hovertext}</b><br><br>time=2007-08-02 06:00:00<br>size=%{marker.size}<br>latitude=%{lat}<br>longitude=%{lon}<br>drifter_index=%{marker.color}\", \"hovertext\": [\"2007-08-02 06:00:00\", \"2007-08-02 06:00:00\"], \"ids\": [10.447000000000001, 10.758509226977827], \"lat\": [64.725, 64.73252232795954], \"legendgroup\": \"\", \"lon\": [10.447000000000001, 10.758509226977827], \"marker\": {\"color\": [46320.0, 123.0], \"coloraxis\": \"coloraxis\", \"size\": [1, 1], \"sizemode\": \"area\", \"sizeref\": 0.04}, \"mode\": \"markers\", \"name\": \"\", \"showlegend\": false, \"subplot\": \"mapbox\", \"type\": \"scattermapbox\"}], \"name\": \"2007-08-02 06:00:00\"}, {\"data\": [{\"hoverlabel\": {\"namelength\": 0}, \"hovertemplate\": \"<b>%{hovertext}</b><br><br>time=2007-08-02 12:00:00<br>size=%{marker.size}<br>latitude=%{lat}<br>longitude=%{lon}<br>drifter_index=%{marker.color}\", \"hovertext\": [\"2007-08-02 12:00:00\", \"2007-08-02 12:00:00\"], \"ids\": [10.404000000000002, 10.76367733180523], \"lat\": [64.756, 64.74686873441935], \"legendgroup\": \"\", \"lon\": [10.404000000000002, 10.76367733180523], \"marker\": {\"color\": [46320.0, 123.0], \"coloraxis\": \"coloraxis\", \"size\": [1, 1], \"sizemode\": \"area\", \"sizeref\": 0.04}, \"mode\": \"markers\", \"name\": \"\", \"showlegend\": false, \"subplot\": \"mapbox\", \"type\": \"scattermapbox\"}], \"name\": \"2007-08-02 12:00:00\"}, {\"data\": [{\"hoverlabel\": {\"namelength\": 0}, \"hovertemplate\": \"<b>%{hovertext}</b><br><br>time=2007-08-02 18:00:00<br>size=%{marker.size}<br>latitude=%{lat}<br>longitude=%{lon}<br>drifter_index=%{marker.color}\", \"hovertext\": [\"2007-08-02 18:00:00\", \"2007-08-02 18:00:00\"], \"ids\": [10.414000000000001, 10.789203094899657], \"lat\": [64.773, 64.75927488392593], \"legendgroup\": \"\", \"lon\": [10.414000000000001, 10.789203094899657], \"marker\": {\"color\": [46320.0, 123.0], \"coloraxis\": \"coloraxis\", \"size\": [1, 1], \"sizemode\": \"area\", \"sizeref\": 0.04}, \"mode\": \"markers\", \"name\": \"\", \"showlegend\": false, \"subplot\": \"mapbox\", \"type\": \"scattermapbox\"}], \"name\": \"2007-08-02 18:00:00\"}, {\"data\": [{\"hoverlabel\": {\"namelength\": 0}, \"hovertemplate\": \"<b>%{hovertext}</b><br><br>time=2007-08-03 00:00:00<br>size=%{marker.size}<br>latitude=%{lat}<br>longitude=%{lon}<br>drifter_index=%{marker.color}\", \"hovertext\": [\"2007-08-03 00:00:00\", \"2007-08-03 00:00:00\"], \"ids\": [10.373, 10.773646178841592], \"lat\": [64.78399999999999, 64.7608912653327], \"legendgroup\": \"\", \"lon\": [10.373, 10.773646178841592], \"marker\": {\"color\": [46320.0, 123.0], \"coloraxis\": \"coloraxis\", \"size\": [1, 1], \"sizemode\": \"area\", \"sizeref\": 0.04}, \"mode\": \"markers\", \"name\": \"\", \"showlegend\": false, \"subplot\": \"mapbox\", \"type\": \"scattermapbox\"}], \"name\": \"2007-08-03 00:00:00\"}, {\"data\": [{\"hoverlabel\": {\"namelength\": 0}, \"hovertemplate\": \"<b>%{hovertext}</b><br><br>time=2007-08-03 06:00:00<br>size=%{marker.size}<br>latitude=%{lat}<br>longitude=%{lon}<br>drifter_index=%{marker.color}\", \"hovertext\": [\"2007-08-03 06:00:00\", \"2007-08-03 06:00:00\"], \"ids\": [10.43, 10.839790539443495], \"lat\": [64.809, 64.7848754889369], \"legendgroup\": \"\", \"lon\": [10.43, 10.839790539443495], \"marker\": {\"color\": [46320.0, 123.0], \"coloraxis\": \"coloraxis\", \"size\": [1, 1], \"sizemode\": \"area\", \"sizeref\": 0.04}, \"mode\": \"markers\", \"name\": \"\", \"showlegend\": false, \"subplot\": \"mapbox\", \"type\": \"scattermapbox\"}], \"name\": \"2007-08-03 06:00:00\"}, {\"data\": [{\"hoverlabel\": {\"namelength\": 0}, \"hovertemplate\": \"<b>%{hovertext}</b><br><br>time=2007-08-03 12:00:00<br>size=%{marker.size}<br>latitude=%{lat}<br>longitude=%{lon}<br>drifter_index=%{marker.color}\", \"hovertext\": [\"2007-08-03 12:00:00\", \"2007-08-03 12:00:00\"], \"ids\": [10.467, 10.867017793834211], \"lat\": [64.811, 64.79118956393005], \"legendgroup\": \"\", \"lon\": [10.467, 10.867017793834211], \"marker\": {\"color\": [46320.0, 123.0], \"coloraxis\": \"coloraxis\", \"size\": [1, 1], \"sizemode\": \"area\", \"sizeref\": 0.04}, \"mode\": \"markers\", \"name\": \"\", \"showlegend\": false, \"subplot\": \"mapbox\", \"type\": \"scattermapbox\"}], \"name\": \"2007-08-03 12:00:00\"}, {\"data\": [{\"hoverlabel\": {\"namelength\": 0}, \"hovertemplate\": \"<b>%{hovertext}</b><br><br>time=2007-08-03 18:00:00<br>size=%{marker.size}<br>latitude=%{lat}<br>longitude=%{lon}<br>drifter_index=%{marker.color}\", \"hovertext\": [\"2007-08-03 18:00:00\", \"2007-08-03 18:00:00\"], \"ids\": [10.463, 10.886425230085852], \"lat\": [64.831, 64.80368805474043], \"legendgroup\": \"\", \"lon\": [10.463, 10.886425230085852], \"marker\": {\"color\": [46320.0, 123.0], \"coloraxis\": \"coloraxis\", \"size\": [1, 1], \"sizemode\": \"area\", \"sizeref\": 0.04}, \"mode\": \"markers\", \"name\": \"\", \"showlegend\": false, \"subplot\": \"mapbox\", \"type\": \"scattermapbox\"}], \"name\": \"2007-08-03 18:00:00\"}, {\"data\": [{\"hoverlabel\": {\"namelength\": 0}, \"hovertemplate\": \"<b>%{hovertext}</b><br><br>time=2007-08-04 00:00:00<br>size=%{marker.size}<br>latitude=%{lat}<br>longitude=%{lon}<br>drifter_index=%{marker.color}\", \"hovertext\": [\"2007-08-04 00:00:00\", \"2007-08-04 00:00:00\"], \"ids\": [10.495999999999999, 10.920914047181608], \"lat\": [64.842, 64.8153421265483], \"legendgroup\": \"\", \"lon\": [10.495999999999999, 10.920914047181608], \"marker\": {\"color\": [46320.0, 123.0], \"coloraxis\": \"coloraxis\", \"size\": [1, 1], \"sizemode\": \"area\", \"sizeref\": 0.04}, \"mode\": \"markers\", \"name\": \"\", \"showlegend\": false, \"subplot\": \"mapbox\", \"type\": \"scattermapbox\"}], \"name\": \"2007-08-04 00:00:00\"}, {\"data\": [{\"hoverlabel\": {\"namelength\": 0}, \"hovertemplate\": \"<b>%{hovertext}</b><br><br>time=2007-08-04 06:00:00<br>size=%{marker.size}<br>latitude=%{lat}<br>longitude=%{lon}<br>drifter_index=%{marker.color}\", \"hovertext\": [\"2007-08-04 06:00:00\", \"2007-08-04 06:00:00\"], \"ids\": [10.481, 10.95060169786215], \"lat\": [64.878, 64.83681529319287], \"legendgroup\": \"\", \"lon\": [10.481, 10.95060169786215], \"marker\": {\"color\": [46320.0, 123.0], \"coloraxis\": \"coloraxis\", \"size\": [1, 1], \"sizemode\": \"area\", \"sizeref\": 0.04}, \"mode\": \"markers\", \"name\": \"\", \"showlegend\": false, \"subplot\": \"mapbox\", \"type\": \"scattermapbox\"}], \"name\": \"2007-08-04 06:00:00\"}, {\"data\": [{\"hoverlabel\": {\"namelength\": 0}, \"hovertemplate\": \"<b>%{hovertext}</b><br><br>time=2007-08-04 12:00:00<br>size=%{marker.size}<br>latitude=%{lat}<br>longitude=%{lon}<br>drifter_index=%{marker.color}\", \"hovertext\": [\"2007-08-04 12:00:00\", \"2007-08-04 12:00:00\"], \"ids\": [10.484000000000002, 10.979202956318858], \"lat\": [64.902, 64.85291196233035], \"legendgroup\": \"\", \"lon\": [10.484000000000002, 10.979202956318858], \"marker\": {\"color\": [46320.0, 123.0], \"coloraxis\": \"coloraxis\", \"size\": [1, 1], \"sizemode\": \"area\", \"sizeref\": 0.04}, \"mode\": \"markers\", \"name\": \"\", \"showlegend\": false, \"subplot\": \"mapbox\", \"type\": \"scattermapbox\"}], \"name\": \"2007-08-04 12:00:00\"}, {\"data\": [{\"hoverlabel\": {\"namelength\": 0}, \"hovertemplate\": \"<b>%{hovertext}</b><br><br>time=2007-08-04 18:00:00<br>size=%{marker.size}<br>latitude=%{lat}<br>longitude=%{lon}<br>drifter_index=%{marker.color}\", \"hovertext\": [\"2007-08-04 18:00:00\", \"2007-08-04 18:00:00\"], \"ids\": [10.517000000000001, 11.04807496315241], \"lat\": [64.944, 64.8849026400447], \"legendgroup\": \"\", \"lon\": [10.517000000000001, 11.04807496315241], \"marker\": {\"color\": [46320.0, 123.0], \"coloraxis\": \"coloraxis\", \"size\": [1, 1], \"sizemode\": \"area\", \"sizeref\": 0.04}, \"mode\": \"markers\", \"name\": \"\", \"showlegend\": false, \"subplot\": \"mapbox\", \"type\": \"scattermapbox\"}], \"name\": \"2007-08-04 18:00:00\"}, {\"data\": [{\"hoverlabel\": {\"namelength\": 0}, \"hovertemplate\": \"<b>%{hovertext}</b><br><br>time=2007-08-05 00:00:00<br>size=%{marker.size}<br>latitude=%{lat}<br>longitude=%{lon}<br>drifter_index=%{marker.color}\", \"hovertext\": [\"2007-08-05 00:00:00\", \"2007-08-05 00:00:00\"], \"ids\": [10.527000000000001, 11.068150100052359], \"lat\": [64.956, 64.89413213974238], \"legendgroup\": \"\", \"lon\": [10.527000000000001, 11.068150100052359], \"marker\": {\"color\": [46320.0, 123.0], \"coloraxis\": \"coloraxis\", \"size\": [1, 1], \"sizemode\": \"area\", \"sizeref\": 0.04}, \"mode\": \"markers\", \"name\": \"\", \"showlegend\": false, \"subplot\": \"mapbox\", \"type\": \"scattermapbox\"}], \"name\": \"2007-08-05 00:00:00\"}, {\"data\": [{\"hoverlabel\": {\"namelength\": 0}, \"hovertemplate\": \"<b>%{hovertext}</b><br><br>time=2007-08-05 06:00:00<br>size=%{marker.size}<br>latitude=%{lat}<br>longitude=%{lon}<br>drifter_index=%{marker.color}\", \"hovertext\": [\"2007-08-05 06:00:00\", \"2007-08-05 06:00:00\"], \"ids\": [10.557, 11.113980495631697], \"lat\": [64.979, 64.91331761187315], \"legendgroup\": \"\", \"lon\": [10.557, 11.113980495631697], \"marker\": {\"color\": [46320.0, 123.0], \"coloraxis\": \"coloraxis\", \"size\": [1, 1], \"sizemode\": \"area\", \"sizeref\": 0.04}, \"mode\": \"markers\", \"name\": \"\", \"showlegend\": false, \"subplot\": \"mapbox\", \"type\": \"scattermapbox\"}], \"name\": \"2007-08-05 06:00:00\"}, {\"data\": [{\"hoverlabel\": {\"namelength\": 0}, \"hovertemplate\": \"<b>%{hovertext}</b><br><br>time=2007-08-05 12:00:00<br>size=%{marker.size}<br>latitude=%{lat}<br>longitude=%{lon}<br>drifter_index=%{marker.color}\", \"hovertext\": [\"2007-08-05 12:00:00\", \"2007-08-05 12:00:00\"], \"ids\": [10.593, 11.158347379624844], \"lat\": [64.997, 64.9300635302663], \"legendgroup\": \"\", \"lon\": [10.593, 11.158347379624844], \"marker\": {\"color\": [46320.0, 123.0], \"coloraxis\": \"coloraxis\", \"size\": [1, 1], \"sizemode\": \"area\", \"sizeref\": 0.04}, \"mode\": \"markers\", \"name\": \"\", \"showlegend\": false, \"subplot\": \"mapbox\", \"type\": \"scattermapbox\"}], \"name\": \"2007-08-05 12:00:00\"}, {\"data\": [{\"hoverlabel\": {\"namelength\": 0}, \"hovertemplate\": \"<b>%{hovertext}</b><br><br>time=2007-08-05 18:00:00<br>size=%{marker.size}<br>latitude=%{lat}<br>longitude=%{lon}<br>drifter_index=%{marker.color}\", \"hovertext\": [\"2007-08-05 18:00:00\", \"2007-08-05 18:00:00\"], \"ids\": [10.671, 11.241213526666167], \"lat\": [65.024, 64.95851146167517], \"legendgroup\": \"\", \"lon\": [10.671, 11.241213526666167], \"marker\": {\"color\": [46320.0, 123.0], \"coloraxis\": \"coloraxis\", \"size\": [1, 1], \"sizemode\": \"area\", \"sizeref\": 0.04}, \"mode\": \"markers\", \"name\": \"\", \"showlegend\": false, \"subplot\": \"mapbox\", \"type\": \"scattermapbox\"}], \"name\": \"2007-08-05 18:00:00\"}, {\"data\": [{\"hoverlabel\": {\"namelength\": 0}, \"hovertemplate\": \"<b>%{hovertext}</b><br><br>time=2007-08-06 00:00:00<br>size=%{marker.size}<br>latitude=%{lat}<br>longitude=%{lon}<br>drifter_index=%{marker.color}\", \"hovertext\": [\"2007-08-06 00:00:00\", \"2007-08-06 00:00:00\"], \"ids\": [10.692, 11.268789902806283], \"lat\": [65.036, 64.96929414755107], \"legendgroup\": \"\", \"lon\": [10.692, 11.268789902806283], \"marker\": {\"color\": [46320.0, 123.0], \"coloraxis\": \"coloraxis\", \"size\": [1, 1], \"sizemode\": \"area\", \"sizeref\": 0.04}, \"mode\": \"markers\", \"name\": \"\", \"showlegend\": false, \"subplot\": \"mapbox\", \"type\": \"scattermapbox\"}], \"name\": \"2007-08-06 00:00:00\"}, {\"data\": [{\"hoverlabel\": {\"namelength\": 0}, \"hovertemplate\": \"<b>%{hovertext}</b><br><br>time=2007-08-06 06:00:00<br>size=%{marker.size}<br>latitude=%{lat}<br>longitude=%{lon}<br>drifter_index=%{marker.color}\", \"hovertext\": [\"2007-08-06 06:00:00\", \"2007-08-06 06:00:00\"], \"ids\": [10.762, 11.318508997142317], \"lat\": [65.038, 64.9802348214984], \"legendgroup\": \"\", \"lon\": [10.762, 11.318508997142317], \"marker\": {\"color\": [46320.0, 123.0], \"coloraxis\": \"coloraxis\", \"size\": [1, 1], \"sizemode\": \"area\", \"sizeref\": 0.04}, \"mode\": \"markers\", \"name\": \"\", \"showlegend\": false, \"subplot\": \"mapbox\", \"type\": \"scattermapbox\"}], \"name\": \"2007-08-06 06:00:00\"}, {\"data\": [{\"hoverlabel\": {\"namelength\": 0}, \"hovertemplate\": \"<b>%{hovertext}</b><br><br>time=2007-08-06 12:00:00<br>size=%{marker.size}<br>latitude=%{lat}<br>longitude=%{lon}<br>drifter_index=%{marker.color}\", \"hovertext\": [\"2007-08-06 12:00:00\", \"2007-08-06 12:00:00\"], \"ids\": [10.773, 11.332645246446134], \"lat\": [65.044, 64.98570257073642], \"legendgroup\": \"\", \"lon\": [10.773, 11.332645246446134], \"marker\": {\"color\": [46320.0, 123.0], \"coloraxis\": \"coloraxis\", \"size\": [1, 1], \"sizemode\": \"area\", \"sizeref\": 0.04}, \"mode\": \"markers\", \"name\": \"\", \"showlegend\": false, \"subplot\": \"mapbox\", \"type\": \"scattermapbox\"}], \"name\": \"2007-08-06 12:00:00\"}, {\"data\": [{\"hoverlabel\": {\"namelength\": 0}, \"hovertemplate\": \"<b>%{hovertext}</b><br><br>time=2007-08-06 18:00:00<br>size=%{marker.size}<br>latitude=%{lat}<br>longitude=%{lon}<br>drifter_index=%{marker.color}\", \"hovertext\": [\"2007-08-06 18:00:00\", \"2007-08-06 18:00:00\"], \"ids\": [10.856, 11.395663631141188], \"lat\": [65.05, 65.00108597820999], \"legendgroup\": \"\", \"lon\": [10.856, 11.395663631141188], \"marker\": {\"color\": [46320.0, 123.0], \"coloraxis\": \"coloraxis\", \"size\": [1, 1], \"sizemode\": \"area\", \"sizeref\": 0.04}, \"mode\": \"markers\", \"name\": \"\", \"showlegend\": false, \"subplot\": \"mapbox\", \"type\": \"scattermapbox\"}], \"name\": \"2007-08-06 18:00:00\"}, {\"data\": [{\"hoverlabel\": {\"namelength\": 0}, \"hovertemplate\": \"<b>%{hovertext}</b><br><br>time=2007-08-07 00:00:00<br>size=%{marker.size}<br>latitude=%{lat}<br>longitude=%{lon}<br>drifter_index=%{marker.color}\", \"hovertext\": [\"2007-08-07 00:00:00\", \"2007-08-07 00:00:00\"], \"ids\": [10.835999999999999, 11.382083092033865], \"lat\": [65.05, 64.99833153790236], \"legendgroup\": \"\", \"lon\": [10.835999999999999, 11.382083092033865], \"marker\": {\"color\": [46320.0, 123.0], \"coloraxis\": \"coloraxis\", \"size\": [1, 1], \"sizemode\": \"area\", \"sizeref\": 0.04}, \"mode\": \"markers\", \"name\": \"\", \"showlegend\": false, \"subplot\": \"mapbox\", \"type\": \"scattermapbox\"}], \"name\": \"2007-08-07 00:00:00\"}, {\"data\": [{\"hoverlabel\": {\"namelength\": 0}, \"hovertemplate\": \"<b>%{hovertext}</b><br><br>time=2007-08-07 06:00:00<br>size=%{marker.size}<br>latitude=%{lat}<br>longitude=%{lon}<br>drifter_index=%{marker.color}\", \"hovertext\": [\"2007-08-07 06:00:00\", \"2007-08-07 06:00:00\"], \"ids\": [10.862, 11.413087054729463], \"lat\": [65.062, 65.0098329333067], \"legendgroup\": \"\", \"lon\": [10.862, 11.413087054729463], \"marker\": {\"color\": [46320.0, 123.0], \"coloraxis\": \"coloraxis\", \"size\": [1, 1], \"sizemode\": \"area\", \"sizeref\": 0.04}, \"mode\": \"markers\", \"name\": \"\", \"showlegend\": false, \"subplot\": \"mapbox\", \"type\": \"scattermapbox\"}], \"name\": \"2007-08-07 06:00:00\"}, {\"data\": [{\"hoverlabel\": {\"namelength\": 0}, \"hovertemplate\": \"<b>%{hovertext}</b><br><br>time=2007-08-07 12:00:00<br>size=%{marker.size}<br>latitude=%{lat}<br>longitude=%{lon}<br>drifter_index=%{marker.color}\", \"hovertext\": [\"2007-08-07 12:00:00\", \"2007-08-07 12:00:00\"], \"ids\": [10.874, 11.420123788118364], \"lat\": [65.061, 65.01082703238727], \"legendgroup\": \"\", \"lon\": [10.874, 11.420123788118364], \"marker\": {\"color\": [46320.0, 123.0], \"coloraxis\": \"coloraxis\", \"size\": [1, 1], \"sizemode\": \"area\", \"sizeref\": 0.04}, \"mode\": \"markers\", \"name\": \"\", \"showlegend\": false, \"subplot\": \"mapbox\", \"type\": \"scattermapbox\"}], \"name\": \"2007-08-07 12:00:00\"}, {\"data\": [{\"hoverlabel\": {\"namelength\": 0}, \"hovertemplate\": \"<b>%{hovertext}</b><br><br>time=2007-08-07 18:00:00<br>size=%{marker.size}<br>latitude=%{lat}<br>longitude=%{lon}<br>drifter_index=%{marker.color}\", \"hovertext\": [\"2007-08-07 18:00:00\", \"2007-08-07 18:00:00\"], \"ids\": [10.937000000000001, 11.46180374968052], \"lat\": [65.06, 65.01885473316909], \"legendgroup\": \"\", \"lon\": [10.937000000000001, 11.46180374968052], \"marker\": {\"color\": [46320.0, 123.0], \"coloraxis\": \"coloraxis\", \"size\": [1, 1], \"sizemode\": \"area\", \"sizeref\": 0.04}, \"mode\": \"markers\", \"name\": \"\", \"showlegend\": false, \"subplot\": \"mapbox\", \"type\": \"scattermapbox\"}], \"name\": \"2007-08-07 18:00:00\"}, {\"data\": [{\"hoverlabel\": {\"namelength\": 0}, \"hovertemplate\": \"<b>%{hovertext}</b><br><br>time=2007-08-08 00:00:00<br>size=%{marker.size}<br>latitude=%{lat}<br>longitude=%{lon}<br>drifter_index=%{marker.color}\", \"hovertext\": [\"2007-08-08 00:00:00\", \"2007-08-08 00:00:00\"], \"ids\": [10.925, 11.45142596781254], \"lat\": [65.058, 65.01587829238177], \"legendgroup\": \"\", \"lon\": [10.925, 11.45142596781254], \"marker\": {\"color\": [46320.0, 123.0], \"coloraxis\": \"coloraxis\", \"size\": [1, 1], \"sizemode\": \"area\", \"sizeref\": 0.04}, \"mode\": \"markers\", \"name\": \"\", \"showlegend\": false, \"subplot\": \"mapbox\", \"type\": \"scattermapbox\"}], \"name\": \"2007-08-08 00:00:00\"}, {\"data\": [{\"hoverlabel\": {\"namelength\": 0}, \"hovertemplate\": \"<b>%{hovertext}</b><br><br>time=2007-08-08 06:00:00<br>size=%{marker.size}<br>latitude=%{lat}<br>longitude=%{lon}<br>drifter_index=%{marker.color}\", \"hovertext\": [\"2007-08-08 06:00:00\", \"2007-08-08 06:00:00\"], \"ids\": [10.944, 11.468784487843514], \"lat\": [65.062, 65.02114174669981], \"legendgroup\": \"\", \"lon\": [10.944, 11.468784487843514], \"marker\": {\"color\": [46320.0, 123.0], \"coloraxis\": \"coloraxis\", \"size\": [1, 1], \"sizemode\": \"area\", \"sizeref\": 0.04}, \"mode\": \"markers\", \"name\": \"\", \"showlegend\": false, \"subplot\": \"mapbox\", \"type\": \"scattermapbox\"}], \"name\": \"2007-08-08 06:00:00\"}, {\"data\": [{\"hoverlabel\": {\"namelength\": 0}, \"hovertemplate\": \"<b>%{hovertext}</b><br><br>time=2007-08-08 12:00:00<br>size=%{marker.size}<br>latitude=%{lat}<br>longitude=%{lon}<br>drifter_index=%{marker.color}\", \"hovertext\": [\"2007-08-08 12:00:00\", \"2007-08-08 12:00:00\"], \"ids\": [10.966, 11.490411371231081], \"lat\": [65.068, 65.02814306980372], \"legendgroup\": \"\", \"lon\": [10.966, 11.490411371231081], \"marker\": {\"color\": [46320.0, 123.0], \"coloraxis\": \"coloraxis\", \"size\": [1, 1], \"sizemode\": \"area\", \"sizeref\": 0.04}, \"mode\": \"markers\", \"name\": \"\", \"showlegend\": false, \"subplot\": \"mapbox\", \"type\": \"scattermapbox\"}], \"name\": \"2007-08-08 12:00:00\"}, {\"data\": [{\"hoverlabel\": {\"namelength\": 0}, \"hovertemplate\": \"<b>%{hovertext}</b><br><br>time=2007-08-08 18:00:00<br>size=%{marker.size}<br>latitude=%{lat}<br>longitude=%{lon}<br>drifter_index=%{marker.color}\", \"hovertext\": [\"2007-08-08 18:00:00\", \"2007-08-08 18:00:00\"], \"ids\": [11.036, 11.556918428182604], \"lat\": [65.085, 65.04905728554726], \"legendgroup\": \"\", \"lon\": [11.036, 11.556918428182604], \"marker\": {\"color\": [46320.0, 123.0], \"coloraxis\": \"coloraxis\", \"size\": [1, 1], \"sizemode\": \"area\", \"sizeref\": 0.04}, \"mode\": \"markers\", \"name\": \"\", \"showlegend\": false, \"subplot\": \"mapbox\", \"type\": \"scattermapbox\"}], \"name\": \"2007-08-08 18:00:00\"}, {\"data\": [{\"hoverlabel\": {\"namelength\": 0}, \"hovertemplate\": \"<b>%{hovertext}</b><br><br>time=2007-08-09 00:00:00<br>size=%{marker.size}<br>latitude=%{lat}<br>longitude=%{lon}<br>drifter_index=%{marker.color}\", \"hovertext\": [\"2007-08-09 00:00:00\", \"2007-08-09 00:00:00\"], \"ids\": [11.065999999999999, 11.58622768688202], \"lat\": [65.093, 65.05850292927028], \"legendgroup\": \"\", \"lon\": [11.065999999999999, 11.58622768688202], \"marker\": {\"color\": [46320.0, 123.0], \"coloraxis\": \"coloraxis\", \"size\": [1, 1], \"sizemode\": \"area\", \"sizeref\": 0.04}, \"mode\": \"markers\", \"name\": \"\", \"showlegend\": false, \"subplot\": \"mapbox\", \"type\": \"scattermapbox\"}], \"name\": \"2007-08-09 00:00:00\"}, {\"data\": [{\"hoverlabel\": {\"namelength\": 0}, \"hovertemplate\": \"<b>%{hovertext}</b><br><br>time=2007-08-09 06:00:00<br>size=%{marker.size}<br>latitude=%{lat}<br>longitude=%{lon}<br>drifter_index=%{marker.color}\", \"hovertext\": [\"2007-08-09 06:00:00\", \"2007-08-09 06:00:00\"], \"ids\": [11.11, 11.628407363414766], \"lat\": [65.104, 65.07188097780944], \"legendgroup\": \"\", \"lon\": [11.11, 11.628407363414766], \"marker\": {\"color\": [46320.0, 123.0], \"coloraxis\": \"coloraxis\", \"size\": [1, 1], \"sizemode\": \"area\", \"sizeref\": 0.04}, \"mode\": \"markers\", \"name\": \"\", \"showlegend\": false, \"subplot\": \"mapbox\", \"type\": \"scattermapbox\"}], \"name\": \"2007-08-09 06:00:00\"}, {\"data\": [{\"hoverlabel\": {\"namelength\": 0}, \"hovertemplate\": \"<b>%{hovertext}</b><br><br>time=2007-08-09 12:00:00<br>size=%{marker.size}<br>latitude=%{lat}<br>longitude=%{lon}<br>drifter_index=%{marker.color}\", \"hovertext\": [\"2007-08-09 12:00:00\", \"2007-08-09 12:00:00\"], \"ids\": [11.158, 11.663288147091867], \"lat\": [65.10600000000001, 65.07985651528836], \"legendgroup\": \"\", \"lon\": [11.158, 11.663288147091867], \"marker\": {\"color\": [46320.0, 123.0], \"coloraxis\": \"coloraxis\", \"size\": [1, 1], \"sizemode\": \"area\", \"sizeref\": 0.04}, \"mode\": \"markers\", \"name\": \"\", \"showlegend\": false, \"subplot\": \"mapbox\", \"type\": \"scattermapbox\"}], \"name\": \"2007-08-09 12:00:00\"}, {\"data\": [{\"hoverlabel\": {\"namelength\": 0}, \"hovertemplate\": \"<b>%{hovertext}</b><br><br>time=2007-08-09 18:00:00<br>size=%{marker.size}<br>latitude=%{lat}<br>longitude=%{lon}<br>drifter_index=%{marker.color}\", \"hovertext\": [\"2007-08-09 18:00:00\", \"2007-08-09 18:00:00\"], \"ids\": [11.220999999999998, 11.694998413205148], \"lat\": [65.096, 65.08195489650966], \"legendgroup\": \"\", \"lon\": [11.220999999999998, 11.694998413205148], \"marker\": {\"color\": [46320.0, 123.0], \"coloraxis\": \"coloraxis\", \"size\": [1, 1], \"sizemode\": \"area\", \"sizeref\": 0.04}, \"mode\": \"markers\", \"name\": \"\", \"showlegend\": false, \"subplot\": \"mapbox\", \"type\": \"scattermapbox\"}], \"name\": \"2007-08-09 18:00:00\"}, {\"data\": [{\"hoverlabel\": {\"namelength\": 0}, \"hovertemplate\": \"<b>%{hovertext}</b><br><br>time=2007-08-10 00:00:00<br>size=%{marker.size}<br>latitude=%{lat}<br>longitude=%{lon}<br>drifter_index=%{marker.color}\", \"hovertext\": [\"2007-08-10 00:00:00\", \"2007-08-10 00:00:00\"], \"ids\": [11.241, 11.689651717543605], \"lat\": [65.079, 65.07344955420494], \"legendgroup\": \"\", \"lon\": [11.241, 11.689651717543605], \"marker\": {\"color\": [46320.0, 123.0], \"coloraxis\": \"coloraxis\", \"size\": [1, 1], \"sizemode\": \"area\", \"sizeref\": 0.04}, \"mode\": \"markers\", \"name\": \"\", \"showlegend\": false, \"subplot\": \"mapbox\", \"type\": \"scattermapbox\"}], \"name\": \"2007-08-10 00:00:00\"}, {\"data\": [{\"hoverlabel\": {\"namelength\": 0}, \"hovertemplate\": \"<b>%{hovertext}</b><br><br>time=2007-08-10 06:00:00<br>size=%{marker.size}<br>latitude=%{lat}<br>longitude=%{lon}<br>drifter_index=%{marker.color}\", \"hovertext\": [\"2007-08-10 06:00:00\", \"2007-08-10 06:00:00\"], \"ids\": [11.251, 11.679731230020526], \"lat\": [65.064, 65.06488973325492], \"legendgroup\": \"\", \"lon\": [11.251, 11.679731230020526], \"marker\": {\"color\": [46320.0, 123.0], \"coloraxis\": \"coloraxis\", \"size\": [1, 1], \"sizemode\": \"area\", \"sizeref\": 0.04}, \"mode\": \"markers\", \"name\": \"\", \"showlegend\": false, \"subplot\": \"mapbox\", \"type\": \"scattermapbox\"}], \"name\": \"2007-08-10 06:00:00\"}, {\"data\": [{\"hoverlabel\": {\"namelength\": 0}, \"hovertemplate\": \"<b>%{hovertext}</b><br><br>time=2007-08-10 12:00:00<br>size=%{marker.size}<br>latitude=%{lat}<br>longitude=%{lon}<br>drifter_index=%{marker.color}\", \"hovertext\": [\"2007-08-10 12:00:00\", \"2007-08-10 12:00:00\"], \"ids\": [11.234000000000002, 11.634730581879618], \"lat\": [65.03399999999999, 65.04266244596243], \"legendgroup\": \"\", \"lon\": [11.234000000000002, 11.634730581879618], \"marker\": {\"color\": [46320.0, 123.0], \"coloraxis\": \"coloraxis\", \"size\": [1, 1], \"sizemode\": \"area\", \"sizeref\": 0.04}, \"mode\": \"markers\", \"name\": \"\", \"showlegend\": false, \"subplot\": \"mapbox\", \"type\": \"scattermapbox\"}], \"name\": \"2007-08-10 12:00:00\"}, {\"data\": [{\"hoverlabel\": {\"namelength\": 0}, \"hovertemplate\": \"<b>%{hovertext}</b><br><br>time=2007-08-10 18:00:00<br>size=%{marker.size}<br>latitude=%{lat}<br>longitude=%{lon}<br>drifter_index=%{marker.color}\", \"hovertext\": [\"2007-08-10 18:00:00\", \"2007-08-10 18:00:00\"], \"ids\": [11.225, 11.617468780875209], \"lat\": [65.024, 65.03479872590304], \"legendgroup\": \"\", \"lon\": [11.225, 11.617468780875209], \"marker\": {\"color\": [46320.0, 123.0], \"coloraxis\": \"coloraxis\", \"size\": [1, 1], \"sizemode\": \"area\", \"sizeref\": 0.04}, \"mode\": \"markers\", \"name\": \"\", \"showlegend\": false, \"subplot\": \"mapbox\", \"type\": \"scattermapbox\"}], \"name\": \"2007-08-10 18:00:00\"}, {\"data\": [{\"hoverlabel\": {\"namelength\": 0}, \"hovertemplate\": \"<b>%{hovertext}</b><br><br>time=2007-08-11 00:00:00<br>size=%{marker.size}<br>latitude=%{lat}<br>longitude=%{lon}<br>drifter_index=%{marker.color}\", \"hovertext\": [\"2007-08-11 00:00:00\", \"2007-08-11 00:00:00\"], \"ids\": [11.247, 11.615720202684404], \"lat\": [65.009, 65.0279096288085], \"legendgroup\": \"\", \"lon\": [11.247, 11.615720202684404], \"marker\": {\"color\": [46320.0, 123.0], \"coloraxis\": \"coloraxis\", \"size\": [1, 1], \"sizemode\": \"area\", \"sizeref\": 0.04}, \"mode\": \"markers\", \"name\": \"\", \"showlegend\": false, \"subplot\": \"mapbox\", \"type\": \"scattermapbox\"}], \"name\": \"2007-08-11 00:00:00\"}, {\"data\": [{\"hoverlabel\": {\"namelength\": 0}, \"hovertemplate\": \"<b>%{hovertext}</b><br><br>time=2007-08-11 06:00:00<br>size=%{marker.size}<br>latitude=%{lat}<br>longitude=%{lon}<br>drifter_index=%{marker.color}\", \"hovertext\": [\"2007-08-11 06:00:00\", \"2007-08-11 06:00:00\"], \"ids\": [11.245999999999999, 11.607242016434672], \"lat\": [65.002, 65.0231407043934], \"legendgroup\": \"\", \"lon\": [11.245999999999999, 11.607242016434672], \"marker\": {\"color\": [46320.0, 123.0], \"coloraxis\": \"coloraxis\", \"size\": [1, 1], \"sizemode\": \"area\", \"sizeref\": 0.04}, \"mode\": \"markers\", \"name\": \"\", \"showlegend\": false, \"subplot\": \"mapbox\", \"type\": \"scattermapbox\"}], \"name\": \"2007-08-11 06:00:00\"}, {\"data\": [{\"hoverlabel\": {\"namelength\": 0}, \"hovertemplate\": \"<b>%{hovertext}</b><br><br>time=2007-08-11 12:00:00<br>size=%{marker.size}<br>latitude=%{lat}<br>longitude=%{lon}<br>drifter_index=%{marker.color}\", \"hovertext\": [\"2007-08-11 12:00:00\", \"2007-08-11 12:00:00\"], \"ids\": [11.270999999999999, 11.620901457905772], \"lat\": [64.999, 65.02460522657634], \"legendgroup\": \"\", \"lon\": [11.270999999999999, 11.620901457905772], \"marker\": {\"color\": [46320.0, 123.0], \"coloraxis\": \"coloraxis\", \"size\": [1, 1], \"sizemode\": \"area\", \"sizeref\": 0.04}, \"mode\": \"markers\", \"name\": \"\", \"showlegend\": false, \"subplot\": \"mapbox\", \"type\": \"scattermapbox\"}], \"name\": \"2007-08-11 12:00:00\"}, {\"data\": [{\"hoverlabel\": {\"namelength\": 0}, \"hovertemplate\": \"<b>%{hovertext}</b><br><br>time=2007-08-11 18:00:00<br>size=%{marker.size}<br>latitude=%{lat}<br>longitude=%{lon}<br>drifter_index=%{marker.color}\", \"hovertext\": [\"2007-08-11 18:00:00\", \"2007-08-11 18:00:00\"], \"ids\": [11.273, 11.62337627720833], \"lat\": [65.0, 65.02554334884883], \"legendgroup\": \"\", \"lon\": [11.273, 11.62337627720833], \"marker\": {\"color\": [46320.0, 123.0], \"coloraxis\": \"coloraxis\", \"size\": [1, 1], \"sizemode\": \"area\", \"sizeref\": 0.04}, \"mode\": \"markers\", \"name\": \"\", \"showlegend\": false, \"subplot\": \"mapbox\", \"type\": \"scattermapbox\"}], \"name\": \"2007-08-11 18:00:00\"}]);\n",
              "                        }).then(function(){\n",
              "                            \n",
              "var gd = document.getElementById('b24faa3a-a52c-4a80-ac06-2d0fbc6351d0');\n",
              "var x = new MutationObserver(function (mutations, observer) {{\n",
              "        var display = window.getComputedStyle(gd).display;\n",
              "        if (!display || display === 'none') {{\n",
              "            console.log([gd, 'removed!']);\n",
              "            Plotly.purge(gd);\n",
              "            observer.disconnect();\n",
              "        }}\n",
              "}});\n",
              "\n",
              "// Listen for the removal of the full notebook cells\n",
              "var notebookContainer = gd.closest('#notebook-container');\n",
              "if (notebookContainer) {{\n",
              "    x.observe(notebookContainer, {childList: true});\n",
              "}}\n",
              "\n",
              "// Listen for the clearing of the current output cell\n",
              "var outputEl = gd.closest('.output');\n",
              "if (outputEl) {{\n",
              "    x.observe(outputEl, {childList: true});\n",
              "}}\n",
              "\n",
              "                        })\n",
              "                };\n",
              "                \n",
              "            </script>\n",
              "        </div>\n",
              "</body>\n",
              "</html>"
            ]
          },
          "metadata": {
            "tags": []
          }
        }
      ]
    },
    {
      "cell_type": "code",
      "metadata": {
        "colab": {
          "base_uri": "https://localhost:8080/",
          "height": 542
        },
        "id": "ciaCzNpSFnJX",
        "outputId": "22e06f24-0e5b-4c0b-d11c-efd4d9b2b3e7"
      },
      "source": [
        "#speed adjustments\n",
        "fig.layout.updatemenus[0].buttons[0].args[1][\"frame\"][\"duration\"] = 200\n",
        "fig.layout.updatemenus[0].buttons[0].args[1][\"transition\"][\"duration\"] = 1\n",
        "fig.layout.coloraxis.showscale = False\n",
        "fig.layout.sliders[0].pad.t = 10\n",
        "fig.layout.updatemenus[0].pad.t= 10\n",
        "\n",
        "fig.show()"
      ],
      "execution_count": 158,
      "outputs": [
        {
          "output_type": "display_data",
          "data": {
            "text/html": [
              "<html>\n",
              "<head><meta charset=\"utf-8\" /></head>\n",
              "<body>\n",
              "    <div>\n",
              "            <script src=\"https://cdnjs.cloudflare.com/ajax/libs/mathjax/2.7.5/MathJax.js?config=TeX-AMS-MML_SVG\"></script><script type=\"text/javascript\">if (window.MathJax) {MathJax.Hub.Config({SVG: {font: \"STIX-Web\"}});}</script>\n",
              "                <script type=\"text/javascript\">window.PlotlyConfig = {MathJaxConfig: 'local'};</script>\n",
              "        <script src=\"https://cdn.plot.ly/plotly-latest.min.js\"></script>    \n",
              "            <div id=\"8f4be77e-1fd7-4b85-8082-bb2aea3336d8\" class=\"plotly-graph-div\" style=\"height:525px; width:100%;\"></div>\n",
              "            <script type=\"text/javascript\">\n",
              "                \n",
              "                    window.PLOTLYENV=window.PLOTLYENV || {};\n",
              "                    \n",
              "                if (document.getElementById(\"8f4be77e-1fd7-4b85-8082-bb2aea3336d8\")) {\n",
              "                    Plotly.newPlot(\n",
              "                        '8f4be77e-1fd7-4b85-8082-bb2aea3336d8',\n",
              "                        [{\"hoverlabel\": {\"namelength\": 0}, \"hovertemplate\": \"<b>%{hovertext}</b><br><br>time=2007-08-02 06:00:00<br>size=%{marker.size}<br>latitude=%{lat}<br>longitude=%{lon}<br>drifter_index=%{marker.color}\", \"hovertext\": [\"2007-08-02 06:00:00\", \"2007-08-02 06:00:00\"], \"ids\": [10.447000000000001, 10.758509226977827], \"lat\": [64.725, 64.73252232795954], \"legendgroup\": \"\", \"lon\": [10.447000000000001, 10.758509226977827], \"marker\": {\"color\": [46320.0, 123.0], \"coloraxis\": \"coloraxis\", \"size\": [1, 1], \"sizemode\": \"area\", \"sizeref\": 0.04}, \"mode\": \"markers\", \"name\": \"\", \"showlegend\": false, \"subplot\": \"mapbox\", \"type\": \"scattermapbox\"}],\n",
              "                        {\"coloraxis\": {\"colorbar\": {\"title\": {\"text\": \"drifter_index\"}}, \"colorscale\": [[0.0, \"rgb(254, 246, 181)\"], [0.16666666666666666, \"rgb(255, 221, 154)\"], [0.3333333333333333, \"rgb(255, 194, 133)\"], [0.5, \"rgb(255, 166, 121)\"], [0.6666666666666666, \"rgb(250, 138, 118)\"], [0.8333333333333334, \"rgb(241, 109, 122)\"], [1.0, \"rgb(225, 83, 131)\"]], \"showscale\": false}, \"legend\": {\"itemsizing\": \"constant\", \"tracegroupgap\": 0}, \"mapbox\": {\"accesstoken\": \"pk.eyJ1Ijoic2FhZGphaGFuZ2lyIiwiYSI6ImNrbjllN3IwNDByNDMycHFuM3pmOTllOTAifQ.g07dC3sViT7jItHAYE5iTQ\", \"center\": {\"lat\": 64.96740879385824, \"lon\": 11.065522360957587}, \"domain\": {\"x\": [0.0, 1.0], \"y\": [0.0, 1.0]}, \"style\": \"dark\", \"zoom\": 5}, \"margin\": {\"t\": 60}, \"sliders\": [{\"active\": 0, \"currentvalue\": {\"prefix\": \"time=\"}, \"len\": 0.9, \"pad\": {\"b\": 10, \"t\": 10}, \"steps\": [{\"args\": [[\"2007-08-02 06:00:00\"], {\"frame\": {\"duration\": 0, \"redraw\": true}, \"fromcurrent\": true, \"mode\": \"immediate\", \"transition\": {\"duration\": 0, \"easing\": \"linear\"}}], \"label\": \"2007-08-02 06:00:00\", \"method\": \"animate\"}, {\"args\": [[\"2007-08-02 12:00:00\"], {\"frame\": {\"duration\": 0, \"redraw\": true}, \"fromcurrent\": true, \"mode\": \"immediate\", \"transition\": {\"duration\": 0, \"easing\": \"linear\"}}], \"label\": \"2007-08-02 12:00:00\", \"method\": \"animate\"}, {\"args\": [[\"2007-08-02 18:00:00\"], {\"frame\": {\"duration\": 0, \"redraw\": true}, \"fromcurrent\": true, \"mode\": \"immediate\", \"transition\": {\"duration\": 0, \"easing\": \"linear\"}}], \"label\": \"2007-08-02 18:00:00\", \"method\": \"animate\"}, {\"args\": [[\"2007-08-03 00:00:00\"], {\"frame\": {\"duration\": 0, \"redraw\": true}, \"fromcurrent\": true, \"mode\": \"immediate\", \"transition\": {\"duration\": 0, \"easing\": \"linear\"}}], \"label\": \"2007-08-03 00:00:00\", \"method\": \"animate\"}, {\"args\": [[\"2007-08-03 06:00:00\"], {\"frame\": {\"duration\": 0, \"redraw\": true}, \"fromcurrent\": true, \"mode\": \"immediate\", \"transition\": {\"duration\": 0, \"easing\": \"linear\"}}], \"label\": \"2007-08-03 06:00:00\", \"method\": \"animate\"}, {\"args\": [[\"2007-08-03 12:00:00\"], {\"frame\": {\"duration\": 0, \"redraw\": true}, \"fromcurrent\": true, \"mode\": \"immediate\", \"transition\": {\"duration\": 0, \"easing\": \"linear\"}}], \"label\": \"2007-08-03 12:00:00\", \"method\": \"animate\"}, {\"args\": [[\"2007-08-03 18:00:00\"], {\"frame\": {\"duration\": 0, \"redraw\": true}, \"fromcurrent\": true, \"mode\": \"immediate\", \"transition\": {\"duration\": 0, \"easing\": \"linear\"}}], \"label\": \"2007-08-03 18:00:00\", \"method\": \"animate\"}, {\"args\": [[\"2007-08-04 00:00:00\"], {\"frame\": {\"duration\": 0, \"redraw\": true}, \"fromcurrent\": true, \"mode\": \"immediate\", \"transition\": {\"duration\": 0, \"easing\": \"linear\"}}], \"label\": \"2007-08-04 00:00:00\", \"method\": \"animate\"}, {\"args\": [[\"2007-08-04 06:00:00\"], {\"frame\": {\"duration\": 0, \"redraw\": true}, \"fromcurrent\": true, \"mode\": \"immediate\", \"transition\": {\"duration\": 0, \"easing\": \"linear\"}}], \"label\": \"2007-08-04 06:00:00\", \"method\": \"animate\"}, {\"args\": [[\"2007-08-04 12:00:00\"], {\"frame\": {\"duration\": 0, \"redraw\": true}, \"fromcurrent\": true, \"mode\": \"immediate\", \"transition\": {\"duration\": 0, \"easing\": \"linear\"}}], \"label\": \"2007-08-04 12:00:00\", \"method\": \"animate\"}, {\"args\": [[\"2007-08-04 18:00:00\"], {\"frame\": {\"duration\": 0, \"redraw\": true}, \"fromcurrent\": true, \"mode\": \"immediate\", \"transition\": {\"duration\": 0, \"easing\": \"linear\"}}], \"label\": \"2007-08-04 18:00:00\", \"method\": \"animate\"}, {\"args\": [[\"2007-08-05 00:00:00\"], {\"frame\": {\"duration\": 0, \"redraw\": true}, \"fromcurrent\": true, \"mode\": \"immediate\", \"transition\": {\"duration\": 0, \"easing\": \"linear\"}}], \"label\": \"2007-08-05 00:00:00\", \"method\": \"animate\"}, {\"args\": [[\"2007-08-05 06:00:00\"], {\"frame\": {\"duration\": 0, \"redraw\": true}, \"fromcurrent\": true, \"mode\": \"immediate\", \"transition\": {\"duration\": 0, \"easing\": \"linear\"}}], \"label\": \"2007-08-05 06:00:00\", \"method\": \"animate\"}, {\"args\": [[\"2007-08-05 12:00:00\"], {\"frame\": {\"duration\": 0, \"redraw\": true}, \"fromcurrent\": true, \"mode\": \"immediate\", \"transition\": {\"duration\": 0, \"easing\": \"linear\"}}], \"label\": \"2007-08-05 12:00:00\", \"method\": \"animate\"}, {\"args\": [[\"2007-08-05 18:00:00\"], {\"frame\": {\"duration\": 0, \"redraw\": true}, \"fromcurrent\": true, \"mode\": \"immediate\", \"transition\": {\"duration\": 0, \"easing\": \"linear\"}}], \"label\": \"2007-08-05 18:00:00\", \"method\": \"animate\"}, {\"args\": [[\"2007-08-06 00:00:00\"], {\"frame\": {\"duration\": 0, \"redraw\": true}, \"fromcurrent\": true, \"mode\": \"immediate\", \"transition\": {\"duration\": 0, \"easing\": \"linear\"}}], \"label\": \"2007-08-06 00:00:00\", \"method\": \"animate\"}, {\"args\": [[\"2007-08-06 06:00:00\"], {\"frame\": {\"duration\": 0, \"redraw\": true}, \"fromcurrent\": true, \"mode\": \"immediate\", \"transition\": {\"duration\": 0, \"easing\": \"linear\"}}], \"label\": \"2007-08-06 06:00:00\", \"method\": \"animate\"}, {\"args\": [[\"2007-08-06 12:00:00\"], {\"frame\": {\"duration\": 0, \"redraw\": true}, \"fromcurrent\": true, \"mode\": \"immediate\", \"transition\": {\"duration\": 0, \"easing\": \"linear\"}}], \"label\": \"2007-08-06 12:00:00\", \"method\": \"animate\"}, {\"args\": [[\"2007-08-06 18:00:00\"], {\"frame\": {\"duration\": 0, \"redraw\": true}, \"fromcurrent\": true, \"mode\": \"immediate\", \"transition\": {\"duration\": 0, \"easing\": \"linear\"}}], \"label\": \"2007-08-06 18:00:00\", \"method\": \"animate\"}, {\"args\": [[\"2007-08-07 00:00:00\"], {\"frame\": {\"duration\": 0, \"redraw\": true}, \"fromcurrent\": true, \"mode\": \"immediate\", \"transition\": {\"duration\": 0, \"easing\": \"linear\"}}], \"label\": \"2007-08-07 00:00:00\", \"method\": \"animate\"}, {\"args\": [[\"2007-08-07 06:00:00\"], {\"frame\": {\"duration\": 0, \"redraw\": true}, \"fromcurrent\": true, \"mode\": \"immediate\", \"transition\": {\"duration\": 0, \"easing\": \"linear\"}}], \"label\": \"2007-08-07 06:00:00\", \"method\": \"animate\"}, {\"args\": [[\"2007-08-07 12:00:00\"], {\"frame\": {\"duration\": 0, \"redraw\": true}, \"fromcurrent\": true, \"mode\": \"immediate\", \"transition\": {\"duration\": 0, \"easing\": \"linear\"}}], \"label\": \"2007-08-07 12:00:00\", \"method\": \"animate\"}, {\"args\": [[\"2007-08-07 18:00:00\"], {\"frame\": {\"duration\": 0, \"redraw\": true}, \"fromcurrent\": true, \"mode\": \"immediate\", \"transition\": {\"duration\": 0, \"easing\": \"linear\"}}], \"label\": \"2007-08-07 18:00:00\", \"method\": \"animate\"}, {\"args\": [[\"2007-08-08 00:00:00\"], {\"frame\": {\"duration\": 0, \"redraw\": true}, \"fromcurrent\": true, \"mode\": \"immediate\", \"transition\": {\"duration\": 0, \"easing\": \"linear\"}}], \"label\": \"2007-08-08 00:00:00\", \"method\": \"animate\"}, {\"args\": [[\"2007-08-08 06:00:00\"], {\"frame\": {\"duration\": 0, \"redraw\": true}, \"fromcurrent\": true, \"mode\": \"immediate\", \"transition\": {\"duration\": 0, \"easing\": \"linear\"}}], \"label\": \"2007-08-08 06:00:00\", \"method\": \"animate\"}, {\"args\": [[\"2007-08-08 12:00:00\"], {\"frame\": {\"duration\": 0, \"redraw\": true}, \"fromcurrent\": true, \"mode\": \"immediate\", \"transition\": {\"duration\": 0, \"easing\": \"linear\"}}], \"label\": \"2007-08-08 12:00:00\", \"method\": \"animate\"}, {\"args\": [[\"2007-08-08 18:00:00\"], {\"frame\": {\"duration\": 0, \"redraw\": true}, \"fromcurrent\": true, \"mode\": \"immediate\", \"transition\": {\"duration\": 0, \"easing\": \"linear\"}}], \"label\": \"2007-08-08 18:00:00\", \"method\": \"animate\"}, {\"args\": [[\"2007-08-09 00:00:00\"], {\"frame\": {\"duration\": 0, \"redraw\": true}, \"fromcurrent\": true, \"mode\": \"immediate\", \"transition\": {\"duration\": 0, \"easing\": \"linear\"}}], \"label\": \"2007-08-09 00:00:00\", \"method\": \"animate\"}, {\"args\": [[\"2007-08-09 06:00:00\"], {\"frame\": {\"duration\": 0, \"redraw\": true}, \"fromcurrent\": true, \"mode\": \"immediate\", \"transition\": {\"duration\": 0, \"easing\": \"linear\"}}], \"label\": \"2007-08-09 06:00:00\", \"method\": \"animate\"}, {\"args\": [[\"2007-08-09 12:00:00\"], {\"frame\": {\"duration\": 0, \"redraw\": true}, \"fromcurrent\": true, \"mode\": \"immediate\", \"transition\": {\"duration\": 0, \"easing\": \"linear\"}}], \"label\": \"2007-08-09 12:00:00\", \"method\": \"animate\"}, {\"args\": [[\"2007-08-09 18:00:00\"], {\"frame\": {\"duration\": 0, \"redraw\": true}, \"fromcurrent\": true, \"mode\": \"immediate\", \"transition\": {\"duration\": 0, \"easing\": \"linear\"}}], \"label\": \"2007-08-09 18:00:00\", \"method\": \"animate\"}, {\"args\": [[\"2007-08-10 00:00:00\"], {\"frame\": {\"duration\": 0, \"redraw\": true}, \"fromcurrent\": true, \"mode\": \"immediate\", \"transition\": {\"duration\": 0, \"easing\": \"linear\"}}], \"label\": \"2007-08-10 00:00:00\", \"method\": \"animate\"}, {\"args\": [[\"2007-08-10 06:00:00\"], {\"frame\": {\"duration\": 0, \"redraw\": true}, \"fromcurrent\": true, \"mode\": \"immediate\", \"transition\": {\"duration\": 0, \"easing\": \"linear\"}}], \"label\": \"2007-08-10 06:00:00\", \"method\": \"animate\"}, {\"args\": [[\"2007-08-10 12:00:00\"], {\"frame\": {\"duration\": 0, \"redraw\": true}, \"fromcurrent\": true, \"mode\": \"immediate\", \"transition\": {\"duration\": 0, \"easing\": \"linear\"}}], \"label\": \"2007-08-10 12:00:00\", \"method\": \"animate\"}, {\"args\": [[\"2007-08-10 18:00:00\"], {\"frame\": {\"duration\": 0, \"redraw\": true}, \"fromcurrent\": true, \"mode\": \"immediate\", \"transition\": {\"duration\": 0, \"easing\": \"linear\"}}], \"label\": \"2007-08-10 18:00:00\", \"method\": \"animate\"}, {\"args\": [[\"2007-08-11 00:00:00\"], {\"frame\": {\"duration\": 0, \"redraw\": true}, \"fromcurrent\": true, \"mode\": \"immediate\", \"transition\": {\"duration\": 0, \"easing\": \"linear\"}}], \"label\": \"2007-08-11 00:00:00\", \"method\": \"animate\"}, {\"args\": [[\"2007-08-11 06:00:00\"], {\"frame\": {\"duration\": 0, \"redraw\": true}, \"fromcurrent\": true, \"mode\": \"immediate\", \"transition\": {\"duration\": 0, \"easing\": \"linear\"}}], \"label\": \"2007-08-11 06:00:00\", \"method\": \"animate\"}, {\"args\": [[\"2007-08-11 12:00:00\"], {\"frame\": {\"duration\": 0, \"redraw\": true}, \"fromcurrent\": true, \"mode\": \"immediate\", \"transition\": {\"duration\": 0, \"easing\": \"linear\"}}], \"label\": \"2007-08-11 12:00:00\", \"method\": \"animate\"}, {\"args\": [[\"2007-08-11 18:00:00\"], {\"frame\": {\"duration\": 0, \"redraw\": true}, \"fromcurrent\": true, \"mode\": \"immediate\", \"transition\": {\"duration\": 0, \"easing\": \"linear\"}}], \"label\": \"2007-08-11 18:00:00\", \"method\": \"animate\"}], \"x\": 0.1, \"xanchor\": \"left\", \"y\": 0, \"yanchor\": \"top\"}], \"template\": {\"data\": {\"bar\": [{\"error_x\": {\"color\": \"#2a3f5f\"}, \"error_y\": {\"color\": \"#2a3f5f\"}, \"marker\": {\"line\": {\"color\": \"#E5ECF6\", \"width\": 0.5}}, \"type\": \"bar\"}], \"barpolar\": [{\"marker\": {\"line\": {\"color\": \"#E5ECF6\", \"width\": 0.5}}, \"type\": \"barpolar\"}], \"carpet\": [{\"aaxis\": {\"endlinecolor\": \"#2a3f5f\", \"gridcolor\": \"white\", \"linecolor\": \"white\", \"minorgridcolor\": \"white\", \"startlinecolor\": \"#2a3f5f\"}, \"baxis\": {\"endlinecolor\": \"#2a3f5f\", \"gridcolor\": \"white\", \"linecolor\": \"white\", \"minorgridcolor\": \"white\", \"startlinecolor\": \"#2a3f5f\"}, \"type\": \"carpet\"}], \"choropleth\": [{\"colorbar\": {\"outlinewidth\": 0, \"ticks\": \"\"}, \"type\": \"choropleth\"}], \"contour\": [{\"colorbar\": {\"outlinewidth\": 0, \"ticks\": \"\"}, \"colorscale\": [[0.0, \"#0d0887\"], [0.1111111111111111, \"#46039f\"], [0.2222222222222222, \"#7201a8\"], [0.3333333333333333, \"#9c179e\"], [0.4444444444444444, \"#bd3786\"], [0.5555555555555556, \"#d8576b\"], [0.6666666666666666, \"#ed7953\"], [0.7777777777777778, \"#fb9f3a\"], [0.8888888888888888, \"#fdca26\"], [1.0, \"#f0f921\"]], \"type\": \"contour\"}], \"contourcarpet\": [{\"colorbar\": {\"outlinewidth\": 0, \"ticks\": \"\"}, \"type\": \"contourcarpet\"}], \"heatmap\": [{\"colorbar\": {\"outlinewidth\": 0, \"ticks\": \"\"}, \"colorscale\": [[0.0, \"#0d0887\"], [0.1111111111111111, \"#46039f\"], [0.2222222222222222, \"#7201a8\"], [0.3333333333333333, \"#9c179e\"], [0.4444444444444444, \"#bd3786\"], [0.5555555555555556, \"#d8576b\"], [0.6666666666666666, \"#ed7953\"], [0.7777777777777778, \"#fb9f3a\"], [0.8888888888888888, \"#fdca26\"], [1.0, \"#f0f921\"]], \"type\": \"heatmap\"}], \"heatmapgl\": [{\"colorbar\": {\"outlinewidth\": 0, \"ticks\": \"\"}, \"colorscale\": [[0.0, \"#0d0887\"], [0.1111111111111111, \"#46039f\"], [0.2222222222222222, \"#7201a8\"], [0.3333333333333333, \"#9c179e\"], [0.4444444444444444, \"#bd3786\"], [0.5555555555555556, \"#d8576b\"], [0.6666666666666666, \"#ed7953\"], [0.7777777777777778, \"#fb9f3a\"], [0.8888888888888888, \"#fdca26\"], [1.0, \"#f0f921\"]], \"type\": \"heatmapgl\"}], \"histogram\": [{\"marker\": {\"colorbar\": {\"outlinewidth\": 0, \"ticks\": \"\"}}, \"type\": \"histogram\"}], \"histogram2d\": [{\"colorbar\": {\"outlinewidth\": 0, \"ticks\": \"\"}, \"colorscale\": [[0.0, \"#0d0887\"], [0.1111111111111111, \"#46039f\"], [0.2222222222222222, \"#7201a8\"], [0.3333333333333333, \"#9c179e\"], [0.4444444444444444, \"#bd3786\"], [0.5555555555555556, \"#d8576b\"], [0.6666666666666666, \"#ed7953\"], [0.7777777777777778, \"#fb9f3a\"], [0.8888888888888888, \"#fdca26\"], [1.0, \"#f0f921\"]], \"type\": \"histogram2d\"}], \"histogram2dcontour\": [{\"colorbar\": {\"outlinewidth\": 0, \"ticks\": \"\"}, \"colorscale\": [[0.0, \"#0d0887\"], [0.1111111111111111, \"#46039f\"], [0.2222222222222222, \"#7201a8\"], [0.3333333333333333, \"#9c179e\"], [0.4444444444444444, \"#bd3786\"], [0.5555555555555556, \"#d8576b\"], [0.6666666666666666, \"#ed7953\"], [0.7777777777777778, \"#fb9f3a\"], [0.8888888888888888, \"#fdca26\"], [1.0, \"#f0f921\"]], \"type\": \"histogram2dcontour\"}], \"mesh3d\": [{\"colorbar\": {\"outlinewidth\": 0, \"ticks\": \"\"}, \"type\": \"mesh3d\"}], \"parcoords\": [{\"line\": {\"colorbar\": {\"outlinewidth\": 0, \"ticks\": \"\"}}, \"type\": \"parcoords\"}], \"pie\": [{\"automargin\": true, \"type\": \"pie\"}], \"scatter\": [{\"marker\": {\"colorbar\": {\"outlinewidth\": 0, \"ticks\": \"\"}}, \"type\": \"scatter\"}], \"scatter3d\": [{\"line\": {\"colorbar\": {\"outlinewidth\": 0, \"ticks\": \"\"}}, \"marker\": {\"colorbar\": {\"outlinewidth\": 0, \"ticks\": \"\"}}, \"type\": \"scatter3d\"}], \"scattercarpet\": [{\"marker\": {\"colorbar\": {\"outlinewidth\": 0, \"ticks\": \"\"}}, \"type\": \"scattercarpet\"}], \"scattergeo\": [{\"marker\": {\"colorbar\": {\"outlinewidth\": 0, \"ticks\": \"\"}}, \"type\": \"scattergeo\"}], \"scattergl\": [{\"marker\": {\"colorbar\": {\"outlinewidth\": 0, \"ticks\": \"\"}}, \"type\": \"scattergl\"}], \"scattermapbox\": [{\"marker\": {\"colorbar\": {\"outlinewidth\": 0, \"ticks\": \"\"}}, \"type\": \"scattermapbox\"}], \"scatterpolar\": [{\"marker\": {\"colorbar\": {\"outlinewidth\": 0, \"ticks\": \"\"}}, \"type\": \"scatterpolar\"}], \"scatterpolargl\": [{\"marker\": {\"colorbar\": {\"outlinewidth\": 0, \"ticks\": \"\"}}, \"type\": \"scatterpolargl\"}], \"scatterternary\": [{\"marker\": {\"colorbar\": {\"outlinewidth\": 0, \"ticks\": \"\"}}, \"type\": \"scatterternary\"}], \"surface\": [{\"colorbar\": {\"outlinewidth\": 0, \"ticks\": \"\"}, \"colorscale\": [[0.0, \"#0d0887\"], [0.1111111111111111, \"#46039f\"], [0.2222222222222222, \"#7201a8\"], [0.3333333333333333, \"#9c179e\"], [0.4444444444444444, \"#bd3786\"], [0.5555555555555556, \"#d8576b\"], [0.6666666666666666, \"#ed7953\"], [0.7777777777777778, \"#fb9f3a\"], [0.8888888888888888, \"#fdca26\"], [1.0, \"#f0f921\"]], \"type\": \"surface\"}], \"table\": [{\"cells\": {\"fill\": {\"color\": \"#EBF0F8\"}, \"line\": {\"color\": \"white\"}}, \"header\": {\"fill\": {\"color\": \"#C8D4E3\"}, \"line\": {\"color\": \"white\"}}, \"type\": \"table\"}]}, \"layout\": {\"annotationdefaults\": {\"arrowcolor\": \"#2a3f5f\", \"arrowhead\": 0, \"arrowwidth\": 1}, \"coloraxis\": {\"colorbar\": {\"outlinewidth\": 0, \"ticks\": \"\"}}, \"colorscale\": {\"diverging\": [[0, \"#8e0152\"], [0.1, \"#c51b7d\"], [0.2, \"#de77ae\"], [0.3, \"#f1b6da\"], [0.4, \"#fde0ef\"], [0.5, \"#f7f7f7\"], [0.6, \"#e6f5d0\"], [0.7, \"#b8e186\"], [0.8, \"#7fbc41\"], [0.9, \"#4d9221\"], [1, \"#276419\"]], \"sequential\": [[0.0, \"#0d0887\"], [0.1111111111111111, \"#46039f\"], [0.2222222222222222, \"#7201a8\"], [0.3333333333333333, \"#9c179e\"], [0.4444444444444444, \"#bd3786\"], [0.5555555555555556, \"#d8576b\"], [0.6666666666666666, \"#ed7953\"], [0.7777777777777778, \"#fb9f3a\"], [0.8888888888888888, \"#fdca26\"], [1.0, \"#f0f921\"]], \"sequentialminus\": [[0.0, \"#0d0887\"], [0.1111111111111111, \"#46039f\"], [0.2222222222222222, \"#7201a8\"], [0.3333333333333333, \"#9c179e\"], [0.4444444444444444, \"#bd3786\"], [0.5555555555555556, \"#d8576b\"], [0.6666666666666666, \"#ed7953\"], [0.7777777777777778, \"#fb9f3a\"], [0.8888888888888888, \"#fdca26\"], [1.0, \"#f0f921\"]]}, \"colorway\": [\"#636efa\", \"#EF553B\", \"#00cc96\", \"#ab63fa\", \"#FFA15A\", \"#19d3f3\", \"#FF6692\", \"#B6E880\", \"#FF97FF\", \"#FECB52\"], \"font\": {\"color\": \"#2a3f5f\"}, \"geo\": {\"bgcolor\": \"white\", \"lakecolor\": \"white\", \"landcolor\": \"#E5ECF6\", \"showlakes\": true, \"showland\": true, \"subunitcolor\": \"white\"}, \"hoverlabel\": {\"align\": \"left\"}, \"hovermode\": \"closest\", \"mapbox\": {\"style\": \"light\"}, \"paper_bgcolor\": \"white\", \"plot_bgcolor\": \"#E5ECF6\", \"polar\": {\"angularaxis\": {\"gridcolor\": \"white\", \"linecolor\": \"white\", \"ticks\": \"\"}, \"bgcolor\": \"#E5ECF6\", \"radialaxis\": {\"gridcolor\": \"white\", \"linecolor\": \"white\", \"ticks\": \"\"}}, \"scene\": {\"xaxis\": {\"backgroundcolor\": \"#E5ECF6\", \"gridcolor\": \"white\", \"gridwidth\": 2, \"linecolor\": \"white\", \"showbackground\": true, \"ticks\": \"\", \"zerolinecolor\": \"white\"}, \"yaxis\": {\"backgroundcolor\": \"#E5ECF6\", \"gridcolor\": \"white\", \"gridwidth\": 2, \"linecolor\": \"white\", \"showbackground\": true, \"ticks\": \"\", \"zerolinecolor\": \"white\"}, \"zaxis\": {\"backgroundcolor\": \"#E5ECF6\", \"gridcolor\": \"white\", \"gridwidth\": 2, \"linecolor\": \"white\", \"showbackground\": true, \"ticks\": \"\", \"zerolinecolor\": \"white\"}}, \"shapedefaults\": {\"line\": {\"color\": \"#2a3f5f\"}}, \"ternary\": {\"aaxis\": {\"gridcolor\": \"white\", \"linecolor\": \"white\", \"ticks\": \"\"}, \"baxis\": {\"gridcolor\": \"white\", \"linecolor\": \"white\", \"ticks\": \"\"}, \"bgcolor\": \"#E5ECF6\", \"caxis\": {\"gridcolor\": \"white\", \"linecolor\": \"white\", \"ticks\": \"\"}}, \"title\": {\"x\": 0.05}, \"xaxis\": {\"automargin\": true, \"gridcolor\": \"white\", \"linecolor\": \"white\", \"ticks\": \"\", \"title\": {\"standoff\": 15}, \"zerolinecolor\": \"white\", \"zerolinewidth\": 2}, \"yaxis\": {\"automargin\": true, \"gridcolor\": \"white\", \"linecolor\": \"white\", \"ticks\": \"\", \"title\": {\"standoff\": 15}, \"zerolinecolor\": \"white\", \"zerolinewidth\": 2}}}, \"updatemenus\": [{\"buttons\": [{\"args\": [null, {\"frame\": {\"duration\": 200, \"redraw\": true}, \"fromcurrent\": true, \"mode\": \"immediate\", \"transition\": {\"duration\": 1, \"easing\": \"linear\"}}], \"label\": \"&#9654;\", \"method\": \"animate\"}, {\"args\": [[null], {\"frame\": {\"duration\": 0, \"redraw\": true}, \"fromcurrent\": true, \"mode\": \"immediate\", \"transition\": {\"duration\": 0, \"easing\": \"linear\"}}], \"label\": \"&#9724;\", \"method\": \"animate\"}], \"direction\": \"left\", \"pad\": {\"r\": 10, \"t\": 10}, \"showactive\": false, \"type\": \"buttons\", \"x\": 0.1, \"xanchor\": \"right\", \"y\": 0, \"yanchor\": \"top\"}]},\n",
              "                        {\"responsive\": true}\n",
              "                    ).then(function(){\n",
              "                            Plotly.addFrames('8f4be77e-1fd7-4b85-8082-bb2aea3336d8', [{\"data\": [{\"hoverlabel\": {\"namelength\": 0}, \"hovertemplate\": \"<b>%{hovertext}</b><br><br>time=2007-08-02 06:00:00<br>size=%{marker.size}<br>latitude=%{lat}<br>longitude=%{lon}<br>drifter_index=%{marker.color}\", \"hovertext\": [\"2007-08-02 06:00:00\", \"2007-08-02 06:00:00\"], \"ids\": [10.447000000000001, 10.758509226977827], \"lat\": [64.725, 64.73252232795954], \"legendgroup\": \"\", \"lon\": [10.447000000000001, 10.758509226977827], \"marker\": {\"color\": [46320.0, 123.0], \"coloraxis\": \"coloraxis\", \"size\": [1, 1], \"sizemode\": \"area\", \"sizeref\": 0.04}, \"mode\": \"markers\", \"name\": \"\", \"showlegend\": false, \"subplot\": \"mapbox\", \"type\": \"scattermapbox\"}], \"name\": \"2007-08-02 06:00:00\"}, {\"data\": [{\"hoverlabel\": {\"namelength\": 0}, \"hovertemplate\": \"<b>%{hovertext}</b><br><br>time=2007-08-02 12:00:00<br>size=%{marker.size}<br>latitude=%{lat}<br>longitude=%{lon}<br>drifter_index=%{marker.color}\", \"hovertext\": [\"2007-08-02 12:00:00\", \"2007-08-02 12:00:00\"], \"ids\": [10.404000000000002, 10.76367733180523], \"lat\": [64.756, 64.74686873441935], \"legendgroup\": \"\", \"lon\": [10.404000000000002, 10.76367733180523], \"marker\": {\"color\": [46320.0, 123.0], \"coloraxis\": \"coloraxis\", \"size\": [1, 1], \"sizemode\": \"area\", \"sizeref\": 0.04}, \"mode\": \"markers\", \"name\": \"\", \"showlegend\": false, \"subplot\": \"mapbox\", \"type\": \"scattermapbox\"}], \"name\": \"2007-08-02 12:00:00\"}, {\"data\": [{\"hoverlabel\": {\"namelength\": 0}, \"hovertemplate\": \"<b>%{hovertext}</b><br><br>time=2007-08-02 18:00:00<br>size=%{marker.size}<br>latitude=%{lat}<br>longitude=%{lon}<br>drifter_index=%{marker.color}\", \"hovertext\": [\"2007-08-02 18:00:00\", \"2007-08-02 18:00:00\"], \"ids\": [10.414000000000001, 10.789203094899657], \"lat\": [64.773, 64.75927488392593], \"legendgroup\": \"\", \"lon\": [10.414000000000001, 10.789203094899657], \"marker\": {\"color\": [46320.0, 123.0], \"coloraxis\": \"coloraxis\", \"size\": [1, 1], \"sizemode\": \"area\", \"sizeref\": 0.04}, \"mode\": \"markers\", \"name\": \"\", \"showlegend\": false, \"subplot\": \"mapbox\", \"type\": \"scattermapbox\"}], \"name\": \"2007-08-02 18:00:00\"}, {\"data\": [{\"hoverlabel\": {\"namelength\": 0}, \"hovertemplate\": \"<b>%{hovertext}</b><br><br>time=2007-08-03 00:00:00<br>size=%{marker.size}<br>latitude=%{lat}<br>longitude=%{lon}<br>drifter_index=%{marker.color}\", \"hovertext\": [\"2007-08-03 00:00:00\", \"2007-08-03 00:00:00\"], \"ids\": [10.373, 10.773646178841592], \"lat\": [64.78399999999999, 64.7608912653327], \"legendgroup\": \"\", \"lon\": [10.373, 10.773646178841592], \"marker\": {\"color\": [46320.0, 123.0], \"coloraxis\": \"coloraxis\", \"size\": [1, 1], \"sizemode\": \"area\", \"sizeref\": 0.04}, \"mode\": \"markers\", \"name\": \"\", \"showlegend\": false, \"subplot\": \"mapbox\", \"type\": \"scattermapbox\"}], \"name\": \"2007-08-03 00:00:00\"}, {\"data\": [{\"hoverlabel\": {\"namelength\": 0}, \"hovertemplate\": \"<b>%{hovertext}</b><br><br>time=2007-08-03 06:00:00<br>size=%{marker.size}<br>latitude=%{lat}<br>longitude=%{lon}<br>drifter_index=%{marker.color}\", \"hovertext\": [\"2007-08-03 06:00:00\", \"2007-08-03 06:00:00\"], \"ids\": [10.43, 10.839790539443495], \"lat\": [64.809, 64.7848754889369], \"legendgroup\": \"\", \"lon\": [10.43, 10.839790539443495], \"marker\": {\"color\": [46320.0, 123.0], \"coloraxis\": \"coloraxis\", \"size\": [1, 1], \"sizemode\": \"area\", \"sizeref\": 0.04}, \"mode\": \"markers\", \"name\": \"\", \"showlegend\": false, \"subplot\": \"mapbox\", \"type\": \"scattermapbox\"}], \"name\": \"2007-08-03 06:00:00\"}, {\"data\": [{\"hoverlabel\": {\"namelength\": 0}, \"hovertemplate\": \"<b>%{hovertext}</b><br><br>time=2007-08-03 12:00:00<br>size=%{marker.size}<br>latitude=%{lat}<br>longitude=%{lon}<br>drifter_index=%{marker.color}\", \"hovertext\": [\"2007-08-03 12:00:00\", \"2007-08-03 12:00:00\"], \"ids\": [10.467, 10.867017793834211], \"lat\": [64.811, 64.79118956393005], \"legendgroup\": \"\", \"lon\": [10.467, 10.867017793834211], \"marker\": {\"color\": [46320.0, 123.0], \"coloraxis\": \"coloraxis\", \"size\": [1, 1], \"sizemode\": \"area\", \"sizeref\": 0.04}, \"mode\": \"markers\", \"name\": \"\", \"showlegend\": false, \"subplot\": \"mapbox\", \"type\": \"scattermapbox\"}], \"name\": \"2007-08-03 12:00:00\"}, {\"data\": [{\"hoverlabel\": {\"namelength\": 0}, \"hovertemplate\": \"<b>%{hovertext}</b><br><br>time=2007-08-03 18:00:00<br>size=%{marker.size}<br>latitude=%{lat}<br>longitude=%{lon}<br>drifter_index=%{marker.color}\", \"hovertext\": [\"2007-08-03 18:00:00\", \"2007-08-03 18:00:00\"], \"ids\": [10.463, 10.886425230085852], \"lat\": [64.831, 64.80368805474043], \"legendgroup\": \"\", \"lon\": [10.463, 10.886425230085852], \"marker\": {\"color\": [46320.0, 123.0], \"coloraxis\": \"coloraxis\", \"size\": [1, 1], \"sizemode\": \"area\", \"sizeref\": 0.04}, \"mode\": \"markers\", \"name\": \"\", \"showlegend\": false, \"subplot\": \"mapbox\", \"type\": \"scattermapbox\"}], \"name\": \"2007-08-03 18:00:00\"}, {\"data\": [{\"hoverlabel\": {\"namelength\": 0}, \"hovertemplate\": \"<b>%{hovertext}</b><br><br>time=2007-08-04 00:00:00<br>size=%{marker.size}<br>latitude=%{lat}<br>longitude=%{lon}<br>drifter_index=%{marker.color}\", \"hovertext\": [\"2007-08-04 00:00:00\", \"2007-08-04 00:00:00\"], \"ids\": [10.495999999999999, 10.920914047181608], \"lat\": [64.842, 64.8153421265483], \"legendgroup\": \"\", \"lon\": [10.495999999999999, 10.920914047181608], \"marker\": {\"color\": [46320.0, 123.0], \"coloraxis\": \"coloraxis\", \"size\": [1, 1], \"sizemode\": \"area\", \"sizeref\": 0.04}, \"mode\": \"markers\", \"name\": \"\", \"showlegend\": false, \"subplot\": \"mapbox\", \"type\": \"scattermapbox\"}], \"name\": \"2007-08-04 00:00:00\"}, {\"data\": [{\"hoverlabel\": {\"namelength\": 0}, \"hovertemplate\": \"<b>%{hovertext}</b><br><br>time=2007-08-04 06:00:00<br>size=%{marker.size}<br>latitude=%{lat}<br>longitude=%{lon}<br>drifter_index=%{marker.color}\", \"hovertext\": [\"2007-08-04 06:00:00\", \"2007-08-04 06:00:00\"], \"ids\": [10.481, 10.95060169786215], \"lat\": [64.878, 64.83681529319287], \"legendgroup\": \"\", \"lon\": [10.481, 10.95060169786215], \"marker\": {\"color\": [46320.0, 123.0], \"coloraxis\": \"coloraxis\", \"size\": [1, 1], \"sizemode\": \"area\", \"sizeref\": 0.04}, \"mode\": \"markers\", \"name\": \"\", \"showlegend\": false, \"subplot\": \"mapbox\", \"type\": \"scattermapbox\"}], \"name\": \"2007-08-04 06:00:00\"}, {\"data\": [{\"hoverlabel\": {\"namelength\": 0}, \"hovertemplate\": \"<b>%{hovertext}</b><br><br>time=2007-08-04 12:00:00<br>size=%{marker.size}<br>latitude=%{lat}<br>longitude=%{lon}<br>drifter_index=%{marker.color}\", \"hovertext\": [\"2007-08-04 12:00:00\", \"2007-08-04 12:00:00\"], \"ids\": [10.484000000000002, 10.979202956318858], \"lat\": [64.902, 64.85291196233035], \"legendgroup\": \"\", \"lon\": [10.484000000000002, 10.979202956318858], \"marker\": {\"color\": [46320.0, 123.0], \"coloraxis\": \"coloraxis\", \"size\": [1, 1], \"sizemode\": \"area\", \"sizeref\": 0.04}, \"mode\": \"markers\", \"name\": \"\", \"showlegend\": false, \"subplot\": \"mapbox\", \"type\": \"scattermapbox\"}], \"name\": \"2007-08-04 12:00:00\"}, {\"data\": [{\"hoverlabel\": {\"namelength\": 0}, \"hovertemplate\": \"<b>%{hovertext}</b><br><br>time=2007-08-04 18:00:00<br>size=%{marker.size}<br>latitude=%{lat}<br>longitude=%{lon}<br>drifter_index=%{marker.color}\", \"hovertext\": [\"2007-08-04 18:00:00\", \"2007-08-04 18:00:00\"], \"ids\": [10.517000000000001, 11.04807496315241], \"lat\": [64.944, 64.8849026400447], \"legendgroup\": \"\", \"lon\": [10.517000000000001, 11.04807496315241], \"marker\": {\"color\": [46320.0, 123.0], \"coloraxis\": \"coloraxis\", \"size\": [1, 1], \"sizemode\": \"area\", \"sizeref\": 0.04}, \"mode\": \"markers\", \"name\": \"\", \"showlegend\": false, \"subplot\": \"mapbox\", \"type\": \"scattermapbox\"}], \"name\": \"2007-08-04 18:00:00\"}, {\"data\": [{\"hoverlabel\": {\"namelength\": 0}, \"hovertemplate\": \"<b>%{hovertext}</b><br><br>time=2007-08-05 00:00:00<br>size=%{marker.size}<br>latitude=%{lat}<br>longitude=%{lon}<br>drifter_index=%{marker.color}\", \"hovertext\": [\"2007-08-05 00:00:00\", \"2007-08-05 00:00:00\"], \"ids\": [10.527000000000001, 11.068150100052359], \"lat\": [64.956, 64.89413213974238], \"legendgroup\": \"\", \"lon\": [10.527000000000001, 11.068150100052359], \"marker\": {\"color\": [46320.0, 123.0], \"coloraxis\": \"coloraxis\", \"size\": [1, 1], \"sizemode\": \"area\", \"sizeref\": 0.04}, \"mode\": \"markers\", \"name\": \"\", \"showlegend\": false, \"subplot\": \"mapbox\", \"type\": \"scattermapbox\"}], \"name\": \"2007-08-05 00:00:00\"}, {\"data\": [{\"hoverlabel\": {\"namelength\": 0}, \"hovertemplate\": \"<b>%{hovertext}</b><br><br>time=2007-08-05 06:00:00<br>size=%{marker.size}<br>latitude=%{lat}<br>longitude=%{lon}<br>drifter_index=%{marker.color}\", \"hovertext\": [\"2007-08-05 06:00:00\", \"2007-08-05 06:00:00\"], \"ids\": [10.557, 11.113980495631697], \"lat\": [64.979, 64.91331761187315], \"legendgroup\": \"\", \"lon\": [10.557, 11.113980495631697], \"marker\": {\"color\": [46320.0, 123.0], \"coloraxis\": \"coloraxis\", \"size\": [1, 1], \"sizemode\": \"area\", \"sizeref\": 0.04}, \"mode\": \"markers\", \"name\": \"\", \"showlegend\": false, \"subplot\": \"mapbox\", \"type\": \"scattermapbox\"}], \"name\": \"2007-08-05 06:00:00\"}, {\"data\": [{\"hoverlabel\": {\"namelength\": 0}, \"hovertemplate\": \"<b>%{hovertext}</b><br><br>time=2007-08-05 12:00:00<br>size=%{marker.size}<br>latitude=%{lat}<br>longitude=%{lon}<br>drifter_index=%{marker.color}\", \"hovertext\": [\"2007-08-05 12:00:00\", \"2007-08-05 12:00:00\"], \"ids\": [10.593, 11.158347379624844], \"lat\": [64.997, 64.9300635302663], \"legendgroup\": \"\", \"lon\": [10.593, 11.158347379624844], \"marker\": {\"color\": [46320.0, 123.0], \"coloraxis\": \"coloraxis\", \"size\": [1, 1], \"sizemode\": \"area\", \"sizeref\": 0.04}, \"mode\": \"markers\", \"name\": \"\", \"showlegend\": false, \"subplot\": \"mapbox\", \"type\": \"scattermapbox\"}], \"name\": \"2007-08-05 12:00:00\"}, {\"data\": [{\"hoverlabel\": {\"namelength\": 0}, \"hovertemplate\": \"<b>%{hovertext}</b><br><br>time=2007-08-05 18:00:00<br>size=%{marker.size}<br>latitude=%{lat}<br>longitude=%{lon}<br>drifter_index=%{marker.color}\", \"hovertext\": [\"2007-08-05 18:00:00\", \"2007-08-05 18:00:00\"], \"ids\": [10.671, 11.241213526666167], \"lat\": [65.024, 64.95851146167517], \"legendgroup\": \"\", \"lon\": [10.671, 11.241213526666167], \"marker\": {\"color\": [46320.0, 123.0], \"coloraxis\": \"coloraxis\", \"size\": [1, 1], \"sizemode\": \"area\", \"sizeref\": 0.04}, \"mode\": \"markers\", \"name\": \"\", \"showlegend\": false, \"subplot\": \"mapbox\", \"type\": \"scattermapbox\"}], \"name\": \"2007-08-05 18:00:00\"}, {\"data\": [{\"hoverlabel\": {\"namelength\": 0}, \"hovertemplate\": \"<b>%{hovertext}</b><br><br>time=2007-08-06 00:00:00<br>size=%{marker.size}<br>latitude=%{lat}<br>longitude=%{lon}<br>drifter_index=%{marker.color}\", \"hovertext\": [\"2007-08-06 00:00:00\", \"2007-08-06 00:00:00\"], \"ids\": [10.692, 11.268789902806283], \"lat\": [65.036, 64.96929414755107], \"legendgroup\": \"\", \"lon\": [10.692, 11.268789902806283], \"marker\": {\"color\": [46320.0, 123.0], \"coloraxis\": \"coloraxis\", \"size\": [1, 1], \"sizemode\": \"area\", \"sizeref\": 0.04}, \"mode\": \"markers\", \"name\": \"\", \"showlegend\": false, \"subplot\": \"mapbox\", \"type\": \"scattermapbox\"}], \"name\": \"2007-08-06 00:00:00\"}, {\"data\": [{\"hoverlabel\": {\"namelength\": 0}, \"hovertemplate\": \"<b>%{hovertext}</b><br><br>time=2007-08-06 06:00:00<br>size=%{marker.size}<br>latitude=%{lat}<br>longitude=%{lon}<br>drifter_index=%{marker.color}\", \"hovertext\": [\"2007-08-06 06:00:00\", \"2007-08-06 06:00:00\"], \"ids\": [10.762, 11.318508997142317], \"lat\": [65.038, 64.9802348214984], \"legendgroup\": \"\", \"lon\": [10.762, 11.318508997142317], \"marker\": {\"color\": [46320.0, 123.0], \"coloraxis\": \"coloraxis\", \"size\": [1, 1], \"sizemode\": \"area\", \"sizeref\": 0.04}, \"mode\": \"markers\", \"name\": \"\", \"showlegend\": false, \"subplot\": \"mapbox\", \"type\": \"scattermapbox\"}], \"name\": \"2007-08-06 06:00:00\"}, {\"data\": [{\"hoverlabel\": {\"namelength\": 0}, \"hovertemplate\": \"<b>%{hovertext}</b><br><br>time=2007-08-06 12:00:00<br>size=%{marker.size}<br>latitude=%{lat}<br>longitude=%{lon}<br>drifter_index=%{marker.color}\", \"hovertext\": [\"2007-08-06 12:00:00\", \"2007-08-06 12:00:00\"], \"ids\": [10.773, 11.332645246446134], \"lat\": [65.044, 64.98570257073642], \"legendgroup\": \"\", \"lon\": [10.773, 11.332645246446134], \"marker\": {\"color\": [46320.0, 123.0], \"coloraxis\": \"coloraxis\", \"size\": [1, 1], \"sizemode\": \"area\", \"sizeref\": 0.04}, \"mode\": \"markers\", \"name\": \"\", \"showlegend\": false, \"subplot\": \"mapbox\", \"type\": \"scattermapbox\"}], \"name\": \"2007-08-06 12:00:00\"}, {\"data\": [{\"hoverlabel\": {\"namelength\": 0}, \"hovertemplate\": \"<b>%{hovertext}</b><br><br>time=2007-08-06 18:00:00<br>size=%{marker.size}<br>latitude=%{lat}<br>longitude=%{lon}<br>drifter_index=%{marker.color}\", \"hovertext\": [\"2007-08-06 18:00:00\", \"2007-08-06 18:00:00\"], \"ids\": [10.856, 11.395663631141188], \"lat\": [65.05, 65.00108597820999], \"legendgroup\": \"\", \"lon\": [10.856, 11.395663631141188], \"marker\": {\"color\": [46320.0, 123.0], \"coloraxis\": \"coloraxis\", \"size\": [1, 1], \"sizemode\": \"area\", \"sizeref\": 0.04}, \"mode\": \"markers\", \"name\": \"\", \"showlegend\": false, \"subplot\": \"mapbox\", \"type\": \"scattermapbox\"}], \"name\": \"2007-08-06 18:00:00\"}, {\"data\": [{\"hoverlabel\": {\"namelength\": 0}, \"hovertemplate\": \"<b>%{hovertext}</b><br><br>time=2007-08-07 00:00:00<br>size=%{marker.size}<br>latitude=%{lat}<br>longitude=%{lon}<br>drifter_index=%{marker.color}\", \"hovertext\": [\"2007-08-07 00:00:00\", \"2007-08-07 00:00:00\"], \"ids\": [10.835999999999999, 11.382083092033865], \"lat\": [65.05, 64.99833153790236], \"legendgroup\": \"\", \"lon\": [10.835999999999999, 11.382083092033865], \"marker\": {\"color\": [46320.0, 123.0], \"coloraxis\": \"coloraxis\", \"size\": [1, 1], \"sizemode\": \"area\", \"sizeref\": 0.04}, \"mode\": \"markers\", \"name\": \"\", \"showlegend\": false, \"subplot\": \"mapbox\", \"type\": \"scattermapbox\"}], \"name\": \"2007-08-07 00:00:00\"}, {\"data\": [{\"hoverlabel\": {\"namelength\": 0}, \"hovertemplate\": \"<b>%{hovertext}</b><br><br>time=2007-08-07 06:00:00<br>size=%{marker.size}<br>latitude=%{lat}<br>longitude=%{lon}<br>drifter_index=%{marker.color}\", \"hovertext\": [\"2007-08-07 06:00:00\", \"2007-08-07 06:00:00\"], \"ids\": [10.862, 11.413087054729463], \"lat\": [65.062, 65.0098329333067], \"legendgroup\": \"\", \"lon\": [10.862, 11.413087054729463], \"marker\": {\"color\": [46320.0, 123.0], \"coloraxis\": \"coloraxis\", \"size\": [1, 1], \"sizemode\": \"area\", \"sizeref\": 0.04}, \"mode\": \"markers\", \"name\": \"\", \"showlegend\": false, \"subplot\": \"mapbox\", \"type\": \"scattermapbox\"}], \"name\": \"2007-08-07 06:00:00\"}, {\"data\": [{\"hoverlabel\": {\"namelength\": 0}, \"hovertemplate\": \"<b>%{hovertext}</b><br><br>time=2007-08-07 12:00:00<br>size=%{marker.size}<br>latitude=%{lat}<br>longitude=%{lon}<br>drifter_index=%{marker.color}\", \"hovertext\": [\"2007-08-07 12:00:00\", \"2007-08-07 12:00:00\"], \"ids\": [10.874, 11.420123788118364], \"lat\": [65.061, 65.01082703238727], \"legendgroup\": \"\", \"lon\": [10.874, 11.420123788118364], \"marker\": {\"color\": [46320.0, 123.0], \"coloraxis\": \"coloraxis\", \"size\": [1, 1], \"sizemode\": \"area\", \"sizeref\": 0.04}, \"mode\": \"markers\", \"name\": \"\", \"showlegend\": false, \"subplot\": \"mapbox\", \"type\": \"scattermapbox\"}], \"name\": \"2007-08-07 12:00:00\"}, {\"data\": [{\"hoverlabel\": {\"namelength\": 0}, \"hovertemplate\": \"<b>%{hovertext}</b><br><br>time=2007-08-07 18:00:00<br>size=%{marker.size}<br>latitude=%{lat}<br>longitude=%{lon}<br>drifter_index=%{marker.color}\", \"hovertext\": [\"2007-08-07 18:00:00\", \"2007-08-07 18:00:00\"], \"ids\": [10.937000000000001, 11.46180374968052], \"lat\": [65.06, 65.01885473316909], \"legendgroup\": \"\", \"lon\": [10.937000000000001, 11.46180374968052], \"marker\": {\"color\": [46320.0, 123.0], \"coloraxis\": \"coloraxis\", \"size\": [1, 1], \"sizemode\": \"area\", \"sizeref\": 0.04}, \"mode\": \"markers\", \"name\": \"\", \"showlegend\": false, \"subplot\": \"mapbox\", \"type\": \"scattermapbox\"}], \"name\": \"2007-08-07 18:00:00\"}, {\"data\": [{\"hoverlabel\": {\"namelength\": 0}, \"hovertemplate\": \"<b>%{hovertext}</b><br><br>time=2007-08-08 00:00:00<br>size=%{marker.size}<br>latitude=%{lat}<br>longitude=%{lon}<br>drifter_index=%{marker.color}\", \"hovertext\": [\"2007-08-08 00:00:00\", \"2007-08-08 00:00:00\"], \"ids\": [10.925, 11.45142596781254], \"lat\": [65.058, 65.01587829238177], \"legendgroup\": \"\", \"lon\": [10.925, 11.45142596781254], \"marker\": {\"color\": [46320.0, 123.0], \"coloraxis\": \"coloraxis\", \"size\": [1, 1], \"sizemode\": \"area\", \"sizeref\": 0.04}, \"mode\": \"markers\", \"name\": \"\", \"showlegend\": false, \"subplot\": \"mapbox\", \"type\": \"scattermapbox\"}], \"name\": \"2007-08-08 00:00:00\"}, {\"data\": [{\"hoverlabel\": {\"namelength\": 0}, \"hovertemplate\": \"<b>%{hovertext}</b><br><br>time=2007-08-08 06:00:00<br>size=%{marker.size}<br>latitude=%{lat}<br>longitude=%{lon}<br>drifter_index=%{marker.color}\", \"hovertext\": [\"2007-08-08 06:00:00\", \"2007-08-08 06:00:00\"], \"ids\": [10.944, 11.468784487843514], \"lat\": [65.062, 65.02114174669981], \"legendgroup\": \"\", \"lon\": [10.944, 11.468784487843514], \"marker\": {\"color\": [46320.0, 123.0], \"coloraxis\": \"coloraxis\", \"size\": [1, 1], \"sizemode\": \"area\", \"sizeref\": 0.04}, \"mode\": \"markers\", \"name\": \"\", \"showlegend\": false, \"subplot\": \"mapbox\", \"type\": \"scattermapbox\"}], \"name\": \"2007-08-08 06:00:00\"}, {\"data\": [{\"hoverlabel\": {\"namelength\": 0}, \"hovertemplate\": \"<b>%{hovertext}</b><br><br>time=2007-08-08 12:00:00<br>size=%{marker.size}<br>latitude=%{lat}<br>longitude=%{lon}<br>drifter_index=%{marker.color}\", \"hovertext\": [\"2007-08-08 12:00:00\", \"2007-08-08 12:00:00\"], \"ids\": [10.966, 11.490411371231081], \"lat\": [65.068, 65.02814306980372], \"legendgroup\": \"\", \"lon\": [10.966, 11.490411371231081], \"marker\": {\"color\": [46320.0, 123.0], \"coloraxis\": \"coloraxis\", \"size\": [1, 1], \"sizemode\": \"area\", \"sizeref\": 0.04}, \"mode\": \"markers\", \"name\": \"\", \"showlegend\": false, \"subplot\": \"mapbox\", \"type\": \"scattermapbox\"}], \"name\": \"2007-08-08 12:00:00\"}, {\"data\": [{\"hoverlabel\": {\"namelength\": 0}, \"hovertemplate\": \"<b>%{hovertext}</b><br><br>time=2007-08-08 18:00:00<br>size=%{marker.size}<br>latitude=%{lat}<br>longitude=%{lon}<br>drifter_index=%{marker.color}\", \"hovertext\": [\"2007-08-08 18:00:00\", \"2007-08-08 18:00:00\"], \"ids\": [11.036, 11.556918428182604], \"lat\": [65.085, 65.04905728554726], \"legendgroup\": \"\", \"lon\": [11.036, 11.556918428182604], \"marker\": {\"color\": [46320.0, 123.0], \"coloraxis\": \"coloraxis\", \"size\": [1, 1], \"sizemode\": \"area\", \"sizeref\": 0.04}, \"mode\": \"markers\", \"name\": \"\", \"showlegend\": false, \"subplot\": \"mapbox\", \"type\": \"scattermapbox\"}], \"name\": \"2007-08-08 18:00:00\"}, {\"data\": [{\"hoverlabel\": {\"namelength\": 0}, \"hovertemplate\": \"<b>%{hovertext}</b><br><br>time=2007-08-09 00:00:00<br>size=%{marker.size}<br>latitude=%{lat}<br>longitude=%{lon}<br>drifter_index=%{marker.color}\", \"hovertext\": [\"2007-08-09 00:00:00\", \"2007-08-09 00:00:00\"], \"ids\": [11.065999999999999, 11.58622768688202], \"lat\": [65.093, 65.05850292927028], \"legendgroup\": \"\", \"lon\": [11.065999999999999, 11.58622768688202], \"marker\": {\"color\": [46320.0, 123.0], \"coloraxis\": \"coloraxis\", \"size\": [1, 1], \"sizemode\": \"area\", \"sizeref\": 0.04}, \"mode\": \"markers\", \"name\": \"\", \"showlegend\": false, \"subplot\": \"mapbox\", \"type\": \"scattermapbox\"}], \"name\": \"2007-08-09 00:00:00\"}, {\"data\": [{\"hoverlabel\": {\"namelength\": 0}, \"hovertemplate\": \"<b>%{hovertext}</b><br><br>time=2007-08-09 06:00:00<br>size=%{marker.size}<br>latitude=%{lat}<br>longitude=%{lon}<br>drifter_index=%{marker.color}\", \"hovertext\": [\"2007-08-09 06:00:00\", \"2007-08-09 06:00:00\"], \"ids\": [11.11, 11.628407363414766], \"lat\": [65.104, 65.07188097780944], \"legendgroup\": \"\", \"lon\": [11.11, 11.628407363414766], \"marker\": {\"color\": [46320.0, 123.0], \"coloraxis\": \"coloraxis\", \"size\": [1, 1], \"sizemode\": \"area\", \"sizeref\": 0.04}, \"mode\": \"markers\", \"name\": \"\", \"showlegend\": false, \"subplot\": \"mapbox\", \"type\": \"scattermapbox\"}], \"name\": \"2007-08-09 06:00:00\"}, {\"data\": [{\"hoverlabel\": {\"namelength\": 0}, \"hovertemplate\": \"<b>%{hovertext}</b><br><br>time=2007-08-09 12:00:00<br>size=%{marker.size}<br>latitude=%{lat}<br>longitude=%{lon}<br>drifter_index=%{marker.color}\", \"hovertext\": [\"2007-08-09 12:00:00\", \"2007-08-09 12:00:00\"], \"ids\": [11.158, 11.663288147091867], \"lat\": [65.10600000000001, 65.07985651528836], \"legendgroup\": \"\", \"lon\": [11.158, 11.663288147091867], \"marker\": {\"color\": [46320.0, 123.0], \"coloraxis\": \"coloraxis\", \"size\": [1, 1], \"sizemode\": \"area\", \"sizeref\": 0.04}, \"mode\": \"markers\", \"name\": \"\", \"showlegend\": false, \"subplot\": \"mapbox\", \"type\": \"scattermapbox\"}], \"name\": \"2007-08-09 12:00:00\"}, {\"data\": [{\"hoverlabel\": {\"namelength\": 0}, \"hovertemplate\": \"<b>%{hovertext}</b><br><br>time=2007-08-09 18:00:00<br>size=%{marker.size}<br>latitude=%{lat}<br>longitude=%{lon}<br>drifter_index=%{marker.color}\", \"hovertext\": [\"2007-08-09 18:00:00\", \"2007-08-09 18:00:00\"], \"ids\": [11.220999999999998, 11.694998413205148], \"lat\": [65.096, 65.08195489650966], \"legendgroup\": \"\", \"lon\": [11.220999999999998, 11.694998413205148], \"marker\": {\"color\": [46320.0, 123.0], \"coloraxis\": \"coloraxis\", \"size\": [1, 1], \"sizemode\": \"area\", \"sizeref\": 0.04}, \"mode\": \"markers\", \"name\": \"\", \"showlegend\": false, \"subplot\": \"mapbox\", \"type\": \"scattermapbox\"}], \"name\": \"2007-08-09 18:00:00\"}, {\"data\": [{\"hoverlabel\": {\"namelength\": 0}, \"hovertemplate\": \"<b>%{hovertext}</b><br><br>time=2007-08-10 00:00:00<br>size=%{marker.size}<br>latitude=%{lat}<br>longitude=%{lon}<br>drifter_index=%{marker.color}\", \"hovertext\": [\"2007-08-10 00:00:00\", \"2007-08-10 00:00:00\"], \"ids\": [11.241, 11.689651717543605], \"lat\": [65.079, 65.07344955420494], \"legendgroup\": \"\", \"lon\": [11.241, 11.689651717543605], \"marker\": {\"color\": [46320.0, 123.0], \"coloraxis\": \"coloraxis\", \"size\": [1, 1], \"sizemode\": \"area\", \"sizeref\": 0.04}, \"mode\": \"markers\", \"name\": \"\", \"showlegend\": false, \"subplot\": \"mapbox\", \"type\": \"scattermapbox\"}], \"name\": \"2007-08-10 00:00:00\"}, {\"data\": [{\"hoverlabel\": {\"namelength\": 0}, \"hovertemplate\": \"<b>%{hovertext}</b><br><br>time=2007-08-10 06:00:00<br>size=%{marker.size}<br>latitude=%{lat}<br>longitude=%{lon}<br>drifter_index=%{marker.color}\", \"hovertext\": [\"2007-08-10 06:00:00\", \"2007-08-10 06:00:00\"], \"ids\": [11.251, 11.679731230020526], \"lat\": [65.064, 65.06488973325492], \"legendgroup\": \"\", \"lon\": [11.251, 11.679731230020526], \"marker\": {\"color\": [46320.0, 123.0], \"coloraxis\": \"coloraxis\", \"size\": [1, 1], \"sizemode\": \"area\", \"sizeref\": 0.04}, \"mode\": \"markers\", \"name\": \"\", \"showlegend\": false, \"subplot\": \"mapbox\", \"type\": \"scattermapbox\"}], \"name\": \"2007-08-10 06:00:00\"}, {\"data\": [{\"hoverlabel\": {\"namelength\": 0}, \"hovertemplate\": \"<b>%{hovertext}</b><br><br>time=2007-08-10 12:00:00<br>size=%{marker.size}<br>latitude=%{lat}<br>longitude=%{lon}<br>drifter_index=%{marker.color}\", \"hovertext\": [\"2007-08-10 12:00:00\", \"2007-08-10 12:00:00\"], \"ids\": [11.234000000000002, 11.634730581879618], \"lat\": [65.03399999999999, 65.04266244596243], \"legendgroup\": \"\", \"lon\": [11.234000000000002, 11.634730581879618], \"marker\": {\"color\": [46320.0, 123.0], \"coloraxis\": \"coloraxis\", \"size\": [1, 1], \"sizemode\": \"area\", \"sizeref\": 0.04}, \"mode\": \"markers\", \"name\": \"\", \"showlegend\": false, \"subplot\": \"mapbox\", \"type\": \"scattermapbox\"}], \"name\": \"2007-08-10 12:00:00\"}, {\"data\": [{\"hoverlabel\": {\"namelength\": 0}, \"hovertemplate\": \"<b>%{hovertext}</b><br><br>time=2007-08-10 18:00:00<br>size=%{marker.size}<br>latitude=%{lat}<br>longitude=%{lon}<br>drifter_index=%{marker.color}\", \"hovertext\": [\"2007-08-10 18:00:00\", \"2007-08-10 18:00:00\"], \"ids\": [11.225, 11.617468780875209], \"lat\": [65.024, 65.03479872590304], \"legendgroup\": \"\", \"lon\": [11.225, 11.617468780875209], \"marker\": {\"color\": [46320.0, 123.0], \"coloraxis\": \"coloraxis\", \"size\": [1, 1], \"sizemode\": \"area\", \"sizeref\": 0.04}, \"mode\": \"markers\", \"name\": \"\", \"showlegend\": false, \"subplot\": \"mapbox\", \"type\": \"scattermapbox\"}], \"name\": \"2007-08-10 18:00:00\"}, {\"data\": [{\"hoverlabel\": {\"namelength\": 0}, \"hovertemplate\": \"<b>%{hovertext}</b><br><br>time=2007-08-11 00:00:00<br>size=%{marker.size}<br>latitude=%{lat}<br>longitude=%{lon}<br>drifter_index=%{marker.color}\", \"hovertext\": [\"2007-08-11 00:00:00\", \"2007-08-11 00:00:00\"], \"ids\": [11.247, 11.615720202684404], \"lat\": [65.009, 65.0279096288085], \"legendgroup\": \"\", \"lon\": [11.247, 11.615720202684404], \"marker\": {\"color\": [46320.0, 123.0], \"coloraxis\": \"coloraxis\", \"size\": [1, 1], \"sizemode\": \"area\", \"sizeref\": 0.04}, \"mode\": \"markers\", \"name\": \"\", \"showlegend\": false, \"subplot\": \"mapbox\", \"type\": \"scattermapbox\"}], \"name\": \"2007-08-11 00:00:00\"}, {\"data\": [{\"hoverlabel\": {\"namelength\": 0}, \"hovertemplate\": \"<b>%{hovertext}</b><br><br>time=2007-08-11 06:00:00<br>size=%{marker.size}<br>latitude=%{lat}<br>longitude=%{lon}<br>drifter_index=%{marker.color}\", \"hovertext\": [\"2007-08-11 06:00:00\", \"2007-08-11 06:00:00\"], \"ids\": [11.245999999999999, 11.607242016434672], \"lat\": [65.002, 65.0231407043934], \"legendgroup\": \"\", \"lon\": [11.245999999999999, 11.607242016434672], \"marker\": {\"color\": [46320.0, 123.0], \"coloraxis\": \"coloraxis\", \"size\": [1, 1], \"sizemode\": \"area\", \"sizeref\": 0.04}, \"mode\": \"markers\", \"name\": \"\", \"showlegend\": false, \"subplot\": \"mapbox\", \"type\": \"scattermapbox\"}], \"name\": \"2007-08-11 06:00:00\"}, {\"data\": [{\"hoverlabel\": {\"namelength\": 0}, \"hovertemplate\": \"<b>%{hovertext}</b><br><br>time=2007-08-11 12:00:00<br>size=%{marker.size}<br>latitude=%{lat}<br>longitude=%{lon}<br>drifter_index=%{marker.color}\", \"hovertext\": [\"2007-08-11 12:00:00\", \"2007-08-11 12:00:00\"], \"ids\": [11.270999999999999, 11.620901457905772], \"lat\": [64.999, 65.02460522657634], \"legendgroup\": \"\", \"lon\": [11.270999999999999, 11.620901457905772], \"marker\": {\"color\": [46320.0, 123.0], \"coloraxis\": \"coloraxis\", \"size\": [1, 1], \"sizemode\": \"area\", \"sizeref\": 0.04}, \"mode\": \"markers\", \"name\": \"\", \"showlegend\": false, \"subplot\": \"mapbox\", \"type\": \"scattermapbox\"}], \"name\": \"2007-08-11 12:00:00\"}, {\"data\": [{\"hoverlabel\": {\"namelength\": 0}, \"hovertemplate\": \"<b>%{hovertext}</b><br><br>time=2007-08-11 18:00:00<br>size=%{marker.size}<br>latitude=%{lat}<br>longitude=%{lon}<br>drifter_index=%{marker.color}\", \"hovertext\": [\"2007-08-11 18:00:00\", \"2007-08-11 18:00:00\"], \"ids\": [11.273, 11.62337627720833], \"lat\": [65.0, 65.02554334884883], \"legendgroup\": \"\", \"lon\": [11.273, 11.62337627720833], \"marker\": {\"color\": [46320.0, 123.0], \"coloraxis\": \"coloraxis\", \"size\": [1, 1], \"sizemode\": \"area\", \"sizeref\": 0.04}, \"mode\": \"markers\", \"name\": \"\", \"showlegend\": false, \"subplot\": \"mapbox\", \"type\": \"scattermapbox\"}], \"name\": \"2007-08-11 18:00:00\"}]);\n",
              "                        }).then(function(){\n",
              "                            \n",
              "var gd = document.getElementById('8f4be77e-1fd7-4b85-8082-bb2aea3336d8');\n",
              "var x = new MutationObserver(function (mutations, observer) {{\n",
              "        var display = window.getComputedStyle(gd).display;\n",
              "        if (!display || display === 'none') {{\n",
              "            console.log([gd, 'removed!']);\n",
              "            Plotly.purge(gd);\n",
              "            observer.disconnect();\n",
              "        }}\n",
              "}});\n",
              "\n",
              "// Listen for the removal of the full notebook cells\n",
              "var notebookContainer = gd.closest('#notebook-container');\n",
              "if (notebookContainer) {{\n",
              "    x.observe(notebookContainer, {childList: true});\n",
              "}}\n",
              "\n",
              "// Listen for the clearing of the current output cell\n",
              "var outputEl = gd.closest('.output');\n",
              "if (outputEl) {{\n",
              "    x.observe(outputEl, {childList: true});\n",
              "}}\n",
              "\n",
              "                        })\n",
              "                };\n",
              "                \n",
              "            </script>\n",
              "        </div>\n",
              "</body>\n",
              "</html>"
            ]
          },
          "metadata": {
            "tags": []
          }
        }
      ]
    }
  ]
}